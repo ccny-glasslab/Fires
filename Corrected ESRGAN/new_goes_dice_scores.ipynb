{
 "cells": [
  {
   "cell_type": "code",
   "execution_count": 1,
   "id": "automatic-senegal",
   "metadata": {},
   "outputs": [
    {
     "name": "stderr",
     "output_type": "stream",
     "text": [
      "/sharedData2/nshakoor/.conda/envs/fires/lib/python3.7/site-packages/pyresample/bilinear/__init__.py:49: UserWarning: XArray and/or zarr not found, XArrayBilinearResampler won't be available.\n",
      "  warnings.warn(\"XArray and/or zarr not found, XArrayBilinearResampler won't be available.\")\n",
      "2023-01-01 15:20:23.597144: W tensorflow/stream_executor/platform/default/dso_loader.cc:55] Could not load dynamic library 'libnvinfer.so.6'; dlerror: libnvinfer.so.6: cannot open shared object file: No such file or directory\n",
      "2023-01-01 15:20:23.597254: W tensorflow/stream_executor/platform/default/dso_loader.cc:55] Could not load dynamic library 'libnvinfer_plugin.so.6'; dlerror: libnvinfer_plugin.so.6: cannot open shared object file: No such file or directory\n",
      "2023-01-01 15:20:23.597265: W tensorflow/compiler/tf2tensorrt/utils/py_utils.cc:30] Cannot dlopen some TensorRT libraries. If you would like to use Nvidia GPU with TensorRT, please make sure the missing libraries mentioned above are installed properly.\n",
      "2023-01-01 15:20:24.144542: I tensorflow/stream_executor/platform/default/dso_loader.cc:44] Successfully opened dynamic library libcuda.so.1\n",
      "2023-01-01 15:20:24.151144: I tensorflow/core/common_runtime/gpu/gpu_device.cc:1555] Found device 0 with properties: \n",
      "pciBusID: 0000:83:00.0 name: Tesla K80 computeCapability: 3.7\n",
      "coreClock: 0.8235GHz coreCount: 13 deviceMemorySize: 11.17GiB deviceMemoryBandwidth: 223.96GiB/s\n",
      "2023-01-01 15:20:24.151948: I tensorflow/core/common_runtime/gpu/gpu_device.cc:1555] Found device 1 with properties: \n",
      "pciBusID: 0000:84:00.0 name: Tesla K80 computeCapability: 3.7\n",
      "coreClock: 0.8235GHz coreCount: 13 deviceMemorySize: 11.17GiB deviceMemoryBandwidth: 223.96GiB/s\n",
      "2023-01-01 15:20:24.152041: W tensorflow/stream_executor/platform/default/dso_loader.cc:55] Could not load dynamic library 'libcudart.so.10.1'; dlerror: libcudart.so.10.1: cannot open shared object file: No such file or directory\n",
      "2023-01-01 15:20:24.153900: I tensorflow/stream_executor/platform/default/dso_loader.cc:44] Successfully opened dynamic library libcublas.so.10\n",
      "2023-01-01 15:20:24.156132: I tensorflow/stream_executor/platform/default/dso_loader.cc:44] Successfully opened dynamic library libcufft.so.10\n",
      "2023-01-01 15:20:24.156448: I tensorflow/stream_executor/platform/default/dso_loader.cc:44] Successfully opened dynamic library libcurand.so.10\n",
      "2023-01-01 15:20:24.158776: I tensorflow/stream_executor/platform/default/dso_loader.cc:44] Successfully opened dynamic library libcusolver.so.10\n",
      "2023-01-01 15:20:24.159844: I tensorflow/stream_executor/platform/default/dso_loader.cc:44] Successfully opened dynamic library libcusparse.so.10\n",
      "2023-01-01 15:20:24.159927: W tensorflow/stream_executor/platform/default/dso_loader.cc:55] Could not load dynamic library 'libcudnn.so.7'; dlerror: libcudnn.so.7: cannot open shared object file: No such file or directory\n",
      "2023-01-01 15:20:24.159938: W tensorflow/core/common_runtime/gpu/gpu_device.cc:1592] Cannot dlopen some GPU libraries. Please make sure the missing libraries mentioned above are installed properly if you would like to use GPU. Follow the guide at https://www.tensorflow.org/install/gpu for how to download and setup the required libraries for your platform.\n",
      "Skipping registering GPU devices...\n",
      "2023-01-01 15:20:24.160279: I tensorflow/core/platform/cpu_feature_guard.cc:142] Your CPU supports instructions that this TensorFlow binary was not compiled to use: AVX2 FMA\n",
      "2023-01-01 15:20:24.168230: I tensorflow/core/platform/profile_utils/cpu_utils.cc:94] CPU Frequency: 2400210000 Hz\n",
      "2023-01-01 15:20:24.169387: I tensorflow/compiler/xla/service/service.cc:168] XLA service 0x5587dad35910 initialized for platform Host (this does not guarantee that XLA will be used). Devices:\n",
      "2023-01-01 15:20:24.169406: I tensorflow/compiler/xla/service/service.cc:176]   StreamExecutor device (0): Host, Default Version\n",
      "2023-01-01 15:20:24.282595: I tensorflow/compiler/xla/service/service.cc:168] XLA service 0x5587dad9bbd0 initialized for platform CUDA (this does not guarantee that XLA will be used). Devices:\n",
      "2023-01-01 15:20:24.282657: I tensorflow/compiler/xla/service/service.cc:176]   StreamExecutor device (0): Tesla K80, Compute Capability 3.7\n",
      "2023-01-01 15:20:24.282673: I tensorflow/compiler/xla/service/service.cc:176]   StreamExecutor device (1): Tesla K80, Compute Capability 3.7\n",
      "2023-01-01 15:20:24.283065: I tensorflow/core/common_runtime/gpu/gpu_device.cc:1096] Device interconnect StreamExecutor with strength 1 edge matrix:\n",
      "2023-01-01 15:20:24.283086: I tensorflow/core/common_runtime/gpu/gpu_device.cc:1102]      \n"
     ]
    }
   ],
   "source": [
    "import os\n",
    "import random\n",
    "import math\n",
    "import numpy as np\n",
    "import scipy.stats\n",
    "\n",
    "from goes_sharpening_functions import *"
   ]
  },
  {
   "cell_type": "code",
   "execution_count": 2,
   "id": "threaded-mauritius",
   "metadata": {},
   "outputs": [],
   "source": [
    "def find_npy_file(path, file, band):\n",
    "    \"\"\"\n",
    "    Returns the string name of another file from the same time for a given GOES band npy file,\n",
    "    or None if there is no such file in the given directory.\n",
    "    \n",
    "    Parameter path: The path where the returned file is located in\n",
    "    Precondition: path is a string to a directory relative to the current one, with .npy files\n",
    "    \n",
    "    Parameter file: A file from the same time the returned file should have\n",
    "    Precondition: file is a string with the name of the original file, and includes the path\n",
    "    \n",
    "    Parameter band: GOES band the returned file should be from\n",
    "    Precondition: band is a string of length 2\n",
    "    \"\"\"\n",
    "    for x in os.listdir(path):\n",
    "        if x[19:21] == band and file[23:37] == x[27:41]:\n",
    "            return x\n",
    "        \n",
    "def fire_mask(img07, img14):\n",
    "    \"\"\"\n",
    "    Returns where there are fires.\n",
    "    \"\"\"\n",
    "    m = (330-210)/(340-295)\n",
    "    b = 210 - m*295\n",
    "    return (img14) < (m*img07 + b)\n",
    "\n",
    "def dice_score(x, y):\n",
    "    numerator = 2*np.count_nonzero(np.logical_and(x, y))\n",
    "    denominator = np.count_nonzero(x) + np.count_nonzero(y)\n",
    "    return numerator/denominator\n",
    "\n",
    "def other_stats(x, y):\n",
    "    false_positives = np.logical_and(np.logical_not(x), y)\n",
    "    false_negatives = np.logical_and(x, np.logical_not(y))\n",
    "    \n",
    "    #true positive rate\n",
    "    TPR = np.count_nonzero(np.logical_and(x, y))/np.count_nonzero(x)\n",
    "    \n",
    "    #positive predictive value\n",
    "    try:\n",
    "        PPV = np.count_nonzero(np.logical_and(x, y))/np.count_nonzero(y)\n",
    "    except ZeroDivisionError:\n",
    "        PPV = float('NaN')\n",
    "        \n",
    "    return [np.count_nonzero(false_positives), np.count_nonzero(false_negatives), TPR, PPV]"
   ]
  },
  {
   "cell_type": "code",
   "execution_count": 3,
   "id": "worthy-status",
   "metadata": {},
   "outputs": [],
   "source": [
    "path = '../../goes_files/npy_files/'\n",
    "pathCM = '../../goes_files/clear_sky_mask/'\n",
    "\n",
    "filedates = set()\n",
    "files = []\n",
    "\n",
    "for file in os.listdir(path):\n",
    "    filedates.add(file[27:41])\n",
    "\n",
    "for file in os.listdir(pathCM):\n",
    "    if file[23:37] in filedates:\n",
    "        files.append(file)"
   ]
  },
  {
   "cell_type": "code",
   "execution_count": 7,
   "id": "above-structure",
   "metadata": {},
   "outputs": [],
   "source": [
    "data = {'control':{}, 'laplace':{}, 'unsharpmask':{}, 'esrgan':{}}\n",
    "\n",
    "for key in data:\n",
    "    data[key] = {'num_fires':[], 'dice_score':[], 'TPR':[], 'PPV':[], 'corr_coef':[], 'rmse':[]}"
   ]
  },
  {
   "cell_type": "code",
   "execution_count": 5,
   "id": "informal-brand",
   "metadata": {},
   "outputs": [],
   "source": [
    "def update_dict(fires, cloud_mask, img07, img14, data):\n",
    "    for algo in data:\n",
    "        data07 = eval(algo + \"_sharpening_img\")(img07)\n",
    "        data14 = eval(algo + \"_sharpening_img\")(img14)\n",
    "        datafires = np.logical_and(fire_mask(data07, data14), np.logical_not(cloud_mask))\n",
    "        otherstats = other_stats(fires, datafires)\n",
    "        \n",
    "        data[algo]['num_fires'].append(np.count_nonzero(datafires))\n",
    "        data[algo]['dice_score'].append(dice_score(fires, datafires))\n",
    "        data[algo]['TPR'].append(otherstats[2])\n",
    "        data[algo]['PPV'].append(otherstats[3])\n",
    "        data[algo]['corr_coef'].append(scipy.stats.pearsonr((img07-img14).flatten(), (data07-data14).flatten())[0])\n",
    "        data[algo]['rmse'].append(math.sqrt(np.square((img07-img14) - (data07-data14)).mean()))\n",
    "        \n",
    "def results(data, stat):\n",
    "    print(stat)\n",
    "    for algo in data:\n",
    "        print(f'     {algo} {round(np.nanmean(data[algo][stat]), 4)} +/- {round(np.nanstd(data[algo][stat]), 4)}')"
   ]
  },
  {
   "cell_type": "code",
   "execution_count": 12,
   "id": "closed-modem",
   "metadata": {},
   "outputs": [
    {
     "name": "stderr",
     "output_type": "stream",
     "text": [
      "/sharedData2/nshakoor/.conda/envs/fires/lib/python3.7/site-packages/skimage/transform/_warps.py:725: RuntimeWarning: All-NaN slice encountered\n",
      "  min_val = min_func(input_image)\n",
      "/sharedData2/nshakoor/.conda/envs/fires/lib/python3.7/site-packages/skimage/transform/_warps.py:729: RuntimeWarning: All-NaN slice encountered\n",
      "  max_val = max_func(input_image)\n"
     ]
    }
   ],
   "source": [
    "num_fires = []\n",
    "x = 0\n",
    "\n",
    "while x < 50:\n",
    "    try:\n",
    "        CM = random.choice(files)\n",
    "        files.remove(CM)\n",
    "\n",
    "        file07 = find_npy_file(path, CM, '07')\n",
    "        file14 = find_npy_file(path, CM, '14')\n",
    "        img07 = np.load(path + file07)\n",
    "        img14 = np.load(path + file14)\n",
    "\n",
    "        cloud_mask = np.load(pathCM + CM)\n",
    "        fires = np.logical_and(fire_mask(img07, img14), np.logical_not(cloud_mask))\n",
    "\n",
    "        if np.count_nonzero(fires) != 0:\n",
    "            num_fires.append(np.count_nonzero(fires))\n",
    "            update_dict(fires, cloud_mask, img07, img14, data)\n",
    "\n",
    "            x += 1\n",
    "    except:\n",
    "        pass"
   ]
  },
  {
   "cell_type": "code",
   "execution_count": 19,
   "id": "greatest-lunch",
   "metadata": {},
   "outputs": [
    {
     "name": "stdout",
     "output_type": "stream",
     "text": [
      "dice_score\n",
      "     control 0.6657 +/- 0.2993\n",
      "     laplace 0.6947 +/- 0.2391\n",
      "     unsharpmask 0.7083 +/- 0.2543\n",
      "     esrgan 0.8005 +/- 0.216\n"
     ]
    }
   ],
   "source": [
    "results(data, 'dice_score')"
   ]
  },
  {
   "cell_type": "code",
   "execution_count": 20,
   "id": "comprehensive-zealand",
   "metadata": {},
   "outputs": [
    {
     "name": "stdout",
     "output_type": "stream",
     "text": [
      "corr_coef\n",
      "     control 0.9778 +/- 0.0094\n",
      "     laplace 0.9848 +/- 0.0065\n",
      "     unsharpmask 0.9833 +/- 0.0071\n",
      "     esrgan 0.9844 +/- 0.0064\n"
     ]
    }
   ],
   "source": [
    "results(data, 'corr_coef')"
   ]
  },
  {
   "cell_type": "code",
   "execution_count": 21,
   "id": "charged-clear",
   "metadata": {},
   "outputs": [
    {
     "name": "stdout",
     "output_type": "stream",
     "text": [
      "rmse\n",
      "     control 1.3503 +/- 0.5414\n",
      "     laplace 1.1048 +/- 0.4438\n",
      "     unsharpmask 1.1612 +/- 0.4644\n",
      "     esrgan 1.2094 +/- 0.5773\n"
     ]
    }
   ],
   "source": [
    "results(data, 'rmse')"
   ]
  },
  {
   "cell_type": "code",
   "execution_count": null,
   "id": "varying-enzyme",
   "metadata": {},
   "outputs": [],
   "source": []
  }
 ],
 "metadata": {
  "kernelspec": {
   "display_name": "Python 3",
   "language": "python",
   "name": "python3"
  },
  "language_info": {
   "codemirror_mode": {
    "name": "ipython",
    "version": 3
   },
   "file_extension": ".py",
   "mimetype": "text/x-python",
   "name": "python",
   "nbconvert_exporter": "python",
   "pygments_lexer": "ipython3",
   "version": "3.7.9"
  }
 },
 "nbformat": 4,
 "nbformat_minor": 5
}
