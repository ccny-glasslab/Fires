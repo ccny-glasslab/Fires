{
 "cells": [
  {
   "cell_type": "code",
   "execution_count": 2,
   "metadata": {},
   "outputs": [],
   "source": [
    "import pandas as pd\n",
    "import numpy as np\n",
    "import csv"
   ]
  },
  {
   "cell_type": "code",
   "execution_count": 13,
   "metadata": {},
   "outputs": [],
   "source": [
    "data = pd.read_csv('Data/fire_archive_V1_139743.csv')\n",
    "set1 = data['acq_date'].value_counts()\n",
    "\n",
    "data['latitude'] = data['latitude'][data['latitude'] > 36]\n",
    "#only northern California latitudes\n",
    "\n",
    "set2 = data.groupby('acq_date')['latitude'].mean()\n",
    "set3 = data.groupby('acq_date')['longitude'].mean()\n",
    "\n",
    "newfile = pd.concat([set1, set2, set3], axis=1, sort=False)"
   ]
  },
  {
   "cell_type": "code",
   "execution_count": 14,
   "metadata": {},
   "outputs": [],
   "source": [
    "newfile.columns = ['Pixels', 'Latitude', 'Longitude']\n",
    "newfile.to_csv(\"firepixels.csv\")"
   ]
  },
  {
   "cell_type": "code",
   "execution_count": null,
   "metadata": {},
   "outputs": [],
   "source": [
    "#*** Work Shown Below ***#"
   ]
  },
  {
   "cell_type": "code",
   "execution_count": 48,
   "metadata": {},
   "outputs": [],
   "source": [
    "data = pd.read_csv('Data/fire_nrt_J1V-C2_139742.csv')\n",
    "set1 = data['acq_date'].value_counts()\n",
    "set2 = data.groupby('acq_date')[['latitude', 'longitude']].mean()\n",
    "newfile = pd.concat([set1, set2], axis=1, sort=False)"
   ]
  },
  {
   "cell_type": "code",
   "execution_count": 69,
   "metadata": {},
   "outputs": [],
   "source": [
    "data = pd.read_csv('Data/fire_nrt_J1V-C2_139742.csv')\n",
    "#data = data.groupby(['acq_date'])\n",
    "\n",
    "#date = data.acq_date.unique()\n",
    "#pixelsperday = data.acq_date.value_counts()\n",
    "\n",
    "#data['acq_date'].value_counts().to_csv(\"date_pixel.csv\") \n",
    "set1 = data['acq_date'].value_counts()"
   ]
  },
  {
   "cell_type": "markdown",
   "metadata": {},
   "source": [
    "for the pixels of each date:\n",
    "    avglat = add lats of each date / pixels\n",
    "    avglon = add lons of each date / pixels\n",
    "    return avglat, avglon\n",
    "\n",
    "avglat.to_csv(\"date_pixel.csv\") \n",
    "avglon.to_csv(\"date_pixel.csv\") "
   ]
  },
  {
   "cell_type": "markdown",
   "metadata": {},
   "source": [
    "date_pixel = pd.read_csv('date_pixel.csv')\n",
    "pixels = data['acq_date'].value_counts() #pixels per day\n",
    "\n",
    "latsum = 0\n",
    "lonsum = 0\n",
    "n = 0\n",
    "\n",
    "for x in pixels:\n",
    "    count = 0 #restart for every day\n",
    "    while count <= x:\n",
    "        #latsum += data['latitude'].iloc[n] #add the nth term\n",
    "        lonsum += data.iloc[n, 1] #add the nth term\n",
    "        count += 1\n",
    "        n += 1 #row number\n",
    "        avglat = latsum // x\n",
    "        avglon = lonsum // x\n",
    "        #append avglat to data[avglat]\n",
    "        #append avglon to data[avglon]"
   ]
  },
  {
   "cell_type": "code",
   "execution_count": 70,
   "metadata": {},
   "outputs": [],
   "source": [
    "#data.groupby('acq_date')[['latitude', 'longitude']].mean().to_csv(\"date_pixel.csv\") \n",
    "set2 = data.groupby('acq_date')[['latitude', 'longitude']].mean()"
   ]
  },
  {
   "cell_type": "code",
   "execution_count": 72,
   "metadata": {},
   "outputs": [],
   "source": [
    "newfile = pd.concat([set1, set2], axis=1, sort=False)\n",
    "newfile.to_csv(\"date_pixel.csv\")"
   ]
  },
  {
   "cell_type": "code",
   "execution_count": 89,
   "metadata": {},
   "outputs": [],
   "source": [
    "rename = pd.read_csv(\"date_pixel.csv\")\n",
    "rename.columns = ['Date', 'Pixels', 'Latitude', 'Longitude']\n",
    "rename.to_csv(\"date_pixel.csv\")"
   ]
  }
 ],
 "metadata": {
  "kernelspec": {
   "display_name": "Python 3",
   "language": "python",
   "name": "python3"
  },
  "language_info": {
   "codemirror_mode": {
    "name": "ipython",
    "version": 3
   },
   "file_extension": ".py",
   "mimetype": "text/x-python",
   "name": "python",
   "nbconvert_exporter": "python",
   "pygments_lexer": "ipython3",
   "version": "3.7.6"
  }
 },
 "nbformat": 4,
 "nbformat_minor": 4
}
