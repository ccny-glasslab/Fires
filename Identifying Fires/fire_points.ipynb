{
 "cells": [
  {
   "cell_type": "code",
   "execution_count": 1,
   "id": "chubby-extraction",
   "metadata": {},
   "outputs": [
    {
     "name": "stderr",
     "output_type": "stream",
     "text": [
      "/sharedData2/nshakoor/.conda/envs/fires/lib/python3.7/site-packages/pyresample/bilinear/__init__.py:49: UserWarning: XArray and/or zarr not found, XArrayBilinearResampler won't be available.\n",
      "  warnings.warn(\"XArray and/or zarr not found, XArrayBilinearResampler won't be available.\")\n"
     ]
    }
   ],
   "source": [
    "import cartopy.crs as ccrs\n",
    "from pyresample import geometry, grid\n",
    "import pyresample"
   ]
  },
  {
   "cell_type": "code",
   "execution_count": 2,
   "id": "attended-impression",
   "metadata": {},
   "outputs": [],
   "source": [
    "pc = ccrs.PlateCarree()\n",
    "pc_params = pc.proj4_params\n",
    "pc_extents = [-124.25, -114.25, 32.25, 42.25]\n",
    "target_extents = [pc_extents[0],\n",
    "                    pc_extents[2],\n",
    "                    pc_extents[1],\n",
    "                    pc_extents[3]]\n",
    "target_rows = 500\n",
    "target_cols = 500\n",
    "shape = [target_rows, target_cols]"
   ]
  },
  {
   "cell_type": "code",
   "execution_count": 14,
   "id": "common-element",
   "metadata": {},
   "outputs": [],
   "source": [
    "target_area = geometry.AreaDefinition.from_extent('CA', pc_params, shape, target_extents)"
   ]
  },
  {
   "cell_type": "code",
   "execution_count": 16,
   "id": "ordinary-headquarters",
   "metadata": {},
   "outputs": [
    {
     "data": {
      "text/plain": [
       "(78.35000000000178, 123.20000000000064)"
      ]
     },
     "execution_count": 16,
     "metadata": {},
     "output_type": "execute_result"
    }
   ],
   "source": [
    "target_area.get_array_coordinates_from_lonlat(-122.673, 39.776)"
   ]
  },
  {
   "cell_type": "code",
   "execution_count": 17,
   "id": "sapphire-laugh",
   "metadata": {},
   "outputs": [
    {
     "data": {
      "text/plain": [
       "(146.80000000000177, 240.0500000000008)"
      ]
     },
     "execution_count": 17,
     "metadata": {},
     "output_type": "execute_result"
    }
   ],
   "source": [
    "target_area.get_array_coordinates_from_lonlat(-121.304, 37.439)"
   ]
  },
  {
   "cell_type": "code",
   "execution_count": null,
   "id": "interested-immune",
   "metadata": {},
   "outputs": [],
   "source": []
  }
 ],
 "metadata": {
  "kernelspec": {
   "display_name": "Python 3",
   "language": "python",
   "name": "python3"
  },
  "language_info": {
   "codemirror_mode": {
    "name": "ipython",
    "version": 3
   },
   "file_extension": ".py",
   "mimetype": "text/x-python",
   "name": "python",
   "nbconvert_exporter": "python",
   "pygments_lexer": "ipython3",
   "version": "3.7.9"
  }
 },
 "nbformat": 4,
 "nbformat_minor": 5
}
