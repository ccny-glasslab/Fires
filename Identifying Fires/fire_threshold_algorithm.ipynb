{
 "cells": [
  {
   "cell_type": "code",
   "execution_count": 2,
   "id": "numerous-condition",
   "metadata": {},
   "outputs": [],
   "source": [
    "import random\n",
    "import os\n",
    "import numpy as np\n",
    "import matplotlib.pyplot as plt\n",
    "random.seed = 42"
   ]
  },
  {
   "cell_type": "code",
   "execution_count": 64,
   "id": "australian-lease",
   "metadata": {},
   "outputs": [],
   "source": [
    "def find_npy_file(path, file, band):\n",
    "    \"\"\"\n",
    "    Returns the string name of another file from the same time for a given GOES band npy file,\n",
    "    or None if there is no such file in the given directory.\n",
    "    \n",
    "    Parameter path: The path where the returned file is located in\n",
    "    Precondition: path is a string to a directory relative to the current one, with .npy files\n",
    "    \n",
    "    Parameter file: A file from the same time the returned file should have\n",
    "    Precondition: file is a string with the name of the original file, and includes the path\n",
    "    \n",
    "    Parameter band: GOES band the returned file should be from\n",
    "    Precondition: band is a string of length 2\n",
    "    \"\"\"\n",
    "    for x in os.listdir(path):\n",
    "        if x[19:21] == band and file[23:37]==x[27:41]:\n",
    "            return x\n",
    "\n",
    "def find_07and14(path, file):\n",
    "    \"\"\"\n",
    "    Returns loaded .npy of bands 07 and 14.\n",
    "    \n",
    "    Parameter path: The path where the returned file is located in\n",
    "    Precondition: path is a string to a directory relative to the current one, with .npy files\n",
    "    \n",
    "    Parameter file: A file from the same time the returned file should have\n",
    "    Precondition: file is a string with the name of the original file, and includes the path\n",
    "    \"\"\"\n",
    "    file07 = None\n",
    "    file14 = None\n",
    "    while file07 == None or file14 == None:\n",
    "        file07 = find_npy_file(path, file, '07')\n",
    "        file14 = find_npy_file(path, file, '14')\n",
    "    file07 = np.load(path + file07)\n",
    "    file14 = np.load(path + file14)\n",
    "    return file07, file14"
   ]
  },
  {
   "cell_type": "code",
   "execution_count": null,
   "id": "ongoing-paragraph",
   "metadata": {},
   "outputs": [
    {
     "name": "stderr",
     "output_type": "stream",
     "text": [
      "/sharedData2/nshakoor/.conda/envs/fires/lib/python3.7/site-packages/ipykernel_launcher.py:16: FutureWarning: elementwise comparison failed; returning scalar instead, but in the future will perform elementwise comparison\n",
      "  app.launch_new_instance()\n"
     ]
    }
   ],
   "source": [
    "path = '../../GOES_Files/npy_files/'\n",
    "pathCM = '../../GOES_Files/clear_sky_mask/'\n",
    "pathFP = '../../GOES_Files/fire/'\n",
    "\n",
    "CM = random.choice(os.listdir(pathCM))\n",
    "# FP = random.choice(os.listdir(pathFP))\n",
    "# print(FP)\n",
    "# FP = np.load(pathFP + FP)\n",
    "img07, img14 = find_07and14(path, FP)"
   ]
  },
  {
   "cell_type": "code",
   "execution_count": null,
   "id": "naval-ebony",
   "metadata": {},
   "outputs": [],
   "source": [
    "fig, ax = plt.subplots(1, 3, figsize=(30, 10))\n",
    "\n",
    "diffcm = diff.copy()\n",
    "mask = np.load(pathCM + CM)\n",
    "mask = mask.astype(bool)\n",
    "diffcm[mask] = 0\n",
    "\n",
    "ax[0].imshow(img07-img14, aspect='equal')\n",
    "ax[0].set_title('diff')\n",
    "\n",
    "ax[1].imshow(find_fires(img07, img14), aspect='equal')\n",
    "ax[1].set_title('filtered diff')\n",
    "\n",
    "ax[2].scatter(img07, img14)\n",
    "ax[2].plot([img14.min(), img14.max()], [img14.min(), img14.max()], label='x=y')\n",
    "ax[2].plot([img07[np.argmax(img14)//500, np.argmax(img14) % 500], img07[np.argmax(img14)//500, np.argmax(img14) % 500]], \n",
    "           [img14.min(), img14.max()], label='fires')\n",
    "ax[2].set_xlabel('Band 07')\n",
    "ax[2].set_ylabel('Band 14')\n",
    "\n",
    "plt.show()"
   ]
  },
  {
   "cell_type": "code",
   "execution_count": null,
   "id": "mounted-fellow",
   "metadata": {},
   "outputs": [],
   "source": [
    "# fig, ax = plt.subplots(1, figsize=(10, 10))\n",
    "\n",
    "# ax[0].imshow(img07-img14, aspect='equal')\n",
    "# ax[0].set_title('diff')\n"
   ]
  },
  {
   "cell_type": "code",
   "execution_count": 48,
   "id": "electoral-granny",
   "metadata": {},
   "outputs": [],
   "source": [
    "def find_fires(img07, img14):\n",
    "    diff = img07 - img14\n",
    "    row = np.argmax(img14)//500\n",
    "    col = np.argmax(img14) % 500\n",
    "    diff[img07<img07[row, col]] = 0\n",
    "    return diff\n",
    "\n",
    "def find_fires_cm(mask, img07, img14):\n",
    "    diff = img07 - img14\n",
    "    row = np.argmax(img14)//500\n",
    "    col = np.argmax(img14) % 500\n",
    "    diff[img07<img07[row, col]] = 0\n",
    "    diff[mask] = 0\n",
    "    return fires"
   ]
  },
  {
   "cell_type": "code",
   "execution_count": null,
   "id": "fallen-large",
   "metadata": {},
   "outputs": [],
   "source": []
  }
 ],
 "metadata": {
  "kernelspec": {
   "display_name": "Python 3",
   "language": "python",
   "name": "python3"
  },
  "language_info": {
   "codemirror_mode": {
    "name": "ipython",
    "version": 3
   },
   "file_extension": ".py",
   "mimetype": "text/x-python",
   "name": "python",
   "nbconvert_exporter": "python",
   "pygments_lexer": "ipython3",
   "version": "3.7.9"
  }
 },
 "nbformat": 4,
 "nbformat_minor": 5
}
