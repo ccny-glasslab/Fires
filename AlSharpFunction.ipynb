{
 "cells": [
  {
   "cell_type": "code",
   "execution_count": null,
   "metadata": {},
   "outputs": [],
   "source": [
    "def laplace_multiplicand(filename):\n",
    "    import skimage\n",
    "    import skimage.io\n",
    "    from skimage import io\n",
    "    from skimage.transform import resize\n",
    "    import numpy as np\n",
    "    from matplotlib import pyplot as plt\n",
    "    from mpl_toolkits.axes_grid1 import make_axes_locatable\n",
    "    from skimage.filters import laplace\n",
    "    %matplotlib inline\n",
    "    import netCDF4 as NC\n",
    "    fileID = NC.Dataset(filename)\n",
    "   \n",
    "    GOES = skimage.io.imread('fileID')\n",
    "    GOES0 = np.squeeze(GOES[:,:,0])\n",
    "    height, width = GOES0.shape\n",
    "    smallGOES0 = resize(GOES0, (round(height/2), round(width/2)))*255\n",
    "    blurryGOES0 = resize(smallGOES0, (height, width))\n",
    "    laplace_edges = laplace(blurryGOES0)*.6\n",
    "    \n",
    "    file = open('multiplicand.csv','a')\n",
    "        file.write(,'File name','Mean Absolute Error') \n",
    "        file(close)\n",
    "       \n",
    "    multiplicand = 0\n",
    "    \n",
    "    while multiplicand <= 1:\n",
    "        sharped_image = blurryGOES0+laplace_edges * multiplicand\n",
    "        abs_error = abs(GOES0-sharped_image)\n",
    "        abs_error.mean()\n",
    "        file = open('multiplicand.csv','a')\n",
    "        file.write(,'fileID','abs_error.mean()')\n",
    "        multiplicand = multiplicand + .1\n",
    "        return\n",
    "    return\n",
    "    posi_file = find(fileID)\n",
    "    "
   ]
  }
 ],
 "metadata": {
  "kernelspec": {
   "display_name": "Python [conda env:cuny-summer-2020]",
   "language": "python",
   "name": "conda-env-cuny-summer-2020-py"
  },
  "language_info": {
   "codemirror_mode": {
    "name": "ipython",
    "version": 3
   },
   "file_extension": ".py",
   "mimetype": "text/x-python",
   "name": "python",
   "nbconvert_exporter": "python",
   "pygments_lexer": "ipython3",
   "version": "3.8.5"
  }
 },
 "nbformat": 4,
 "nbformat_minor": 4
}
