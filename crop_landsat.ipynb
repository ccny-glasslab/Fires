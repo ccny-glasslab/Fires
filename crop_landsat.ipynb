{
 "cells": [
  {
   "cell_type": "code",
   "execution_count": 204,
   "id": "other-sustainability",
   "metadata": {},
   "outputs": [],
   "source": [
    "import matplotlib.pyplot as plt\n",
    "import numpy as np\n",
    "import os\n",
    "import random\n",
    "import cartopy.crs as ccrs\n",
    "from pyresample import geometry, grid\n",
    "import pyresample\n",
    "import matplotlib.pyplot as plt\n",
    "import datetime\n",
    "import metpy\n",
    "import datetime\n",
    "import xarray as xr\n",
    "from pyresample import geometry, grid\n",
    "import cartopy.crs as ccrs\n",
    "from sklearn.metrics import mean_squared_error\n",
    "import math"
   ]
  },
  {
   "cell_type": "code",
   "execution_count": 52,
   "id": "forced-vacuum",
   "metadata": {},
   "outputs": [],
   "source": [
    "import matplotlib.pyplot as plt\n",
    "import numpy as np\n",
    "import os\n",
    "import random\n",
    "import cartopy.crs as ccrs\n",
    "from pyresample import geometry, grid\n",
    "import pyresample\n",
    "import datetime\n",
    "import metpy\n",
    "import datetime\n",
    "import s3fs\n",
    "import pandas as pd\n",
    "import xarray as xr\n",
    "import tensorflow as tf\n",
    "import tensorflow_hub as hub\n",
    "from PIL import Image\n",
    "from pyresample import geometry, grid\n",
    "import cartopy.crs as ccrs\n",
    "import matplotlib.pyplot as plt\n",
    "from skimage.filters import laplace\n",
    "from skimage.filters import unsharp_mask\n",
    "from skimage.transform import resize\n",
    "from sklearn.metrics import mean_absolute_error\n",
    "from sklearn.metrics import mean_squared_error\n",
    "\n",
    "fs = s3fs.S3FileSystem(anon = True)\n",
    "model = hub.load(\"https://tfhub.dev/captain-pool/esrgan-tf2/1\")\n",
    "random.seed(42)"
   ]
  },
  {
   "cell_type": "code",
   "execution_count": 201,
   "id": "informed-modeling",
   "metadata": {},
   "outputs": [],
   "source": [
    "landsat_path = '../landsat_files/landsat_files/'\n",
    "red_landsat_img_A = np.load(landsat_path + 'LC08_L2SP_044032_20210828_20210901_02_T1_goesLS_red_gridAcent0.02deg.npy')\n",
    "red_landsat_img_B = np.load(landsat_path + 'LC08_L2SP_044032_20210828_20210901_02_T1_goesLS_red_gridBcent0.02deg.npy')\n",
    "red_goes_img = np.load('../landsat_files/OR_ABI-L1b-RadC-M6C02_G17_s20212401846176_e20212401848549_c20212401848572.npy')\n",
    "\n",
    "pc = ccrs.PlateCarree()\n",
    "pc_params = pc.proj4_params\n",
    "pc_extents = [-124.25, 32.25, -114.25, 42.25]\n",
    "shape = [500, 500]\n",
    "target_area = geometry.AreaDefinition.from_extent('CA', pc_params, shape, pc_extents)\n",
    "\n",
    "latlon1A = [40.49, -121.45]\n",
    "latlon2A = [40.650000000000006, -121.17]\n",
    "coords1A = target_area.get_array_coordinates_from_lonlat(latlon1A[1], latlon1A[0])\n",
    "coords1A = (round(coords1A[0]), round(coords1A[1]))\n",
    "coords2A = target_area.get_array_coordinates_from_lonlat(latlon2A[1], latlon2A[0])\n",
    "coords2A = (round(coords2A[0]), round(coords2A[1]))\n",
    "lonsA = [coords1A[0], coords2A[0]]\n",
    "latsA = [coords2A[1], coords1A[1]]\n",
    "\n",
    "latlon1B = [39.91, -120.97]\n",
    "latlon2B = [40.13, -120.49000000000001]\n",
    "coords1B = target_area.get_array_coordinates_from_lonlat(latlon1B[1], latlon1B[0])\n",
    "coords1B = (round(coords1B[0]), round(coords1B[1]))\n",
    "coords2B = target_area.get_array_coordinates_from_lonlat(latlon2B[1], latlon2B[0])\n",
    "coords2B = (round(coords2B[0]), round(coords2B[1]))\n",
    "lonsB = [coords1B[0], coords2B[0]]\n",
    "latsB = [coords2B[1], coords1B[1]]\n",
    "\n",
    "red_landsat_img_A = np.flipud(red_landsat_img_A)\n",
    "red_landsat_img_B = np.flipud(red_landsat_img_B)\n",
    "red_goes_img_A = red_goes_img[latsA[0]-3:latsA[1]-1, lonsA[0]:lonsA[1]+2]\n",
    "red_goes_img_B = red_goes_img[latsB[0]-3:latsB[1]-1, lonsB[0]:lonsB[1]+2]"
   ]
  },
  {
   "cell_type": "code",
   "execution_count": 202,
   "id": "purple-dispute",
   "metadata": {},
   "outputs": [
    {
     "data": {
      "text/plain": [
       "Text(0.5, 1.0, 'goes')"
      ]
     },
     "execution_count": 202,
     "metadata": {},
     "output_type": "execute_result"
    },
    {
     "data": {
      "image/png": "[encoded data removed]",
      "text/plain": [
       "<Figure size 432x288 with 2 Axes>"
      ]
     },
     "metadata": {
      "needs_background": "light"
     },
     "output_type": "display_data"
    }
   ],
   "source": [
    "fig, ax = plt.subplots(1, 2)\n",
    "ax[0].imshow(red_landsat_img_A, cmap='hot')\n",
    "ax[0].set_title('landsat')\n",
    "ax[1].imshow(red_goes_img_A, cmap='hot')\n",
    "ax[1].set_title('goes')"
   ]
  },
  {
   "cell_type": "code",
   "execution_count": 203,
   "id": "proof-avenue",
   "metadata": {},
   "outputs": [
    {
     "data": {
      "text/plain": [
       "Text(0.5, 1.0, 'goes')"
      ]
     },
     "execution_count": 203,
     "metadata": {},
     "output_type": "execute_result"
    },
    {
     "data": {
      "image/png": "[encoded data removed]",
      "text/plain": [
       "<Figure size 432x288 with 2 Axes>"
      ]
     },
     "metadata": {
      "needs_background": "light"
     },
     "output_type": "display_data"
    }
   ],
   "source": [
    "fig, ax = plt.subplots(1, 2)\n",
    "ax[0].imshow(red_landsat_img_B, cmap='hot')\n",
    "ax[0].set_title('landsat')\n",
    "ax[1].imshow(red_goes_img_B, cmap='hot')\n",
    "ax[1].set_title('goes')"
   ]
  },
  {
   "cell_type": "code",
   "execution_count": 265,
   "id": "determined-bandwidth",
   "metadata": {},
   "outputs": [
    {
     "data": {
      "text/plain": [
       "Text(0, 0.5, 'Landsat')"
      ]
     },
     "execution_count": 265,
     "metadata": {},
     "output_type": "execute_result"
    },
    {
     "data": {
      "image/png": "[encoded data removed]",
      "text/plain": [
       "<Figure size 432x288 with 1 Axes>"
      ]
     },
     "metadata": {
      "needs_background": "light"
     },
     "output_type": "display_data"
    }
   ],
   "source": [
    "slope_A, intercept_A = np.polyfit(red_goes_img_A.ravel(), red_landsat_img_A.ravel(), 1)\n",
    "red_goes_img_corr = red_goes_img*slope_A + intercept_A\n",
    "red_goes_img_A_corr = red_goes_img_A*slope_A + intercept_A\n",
    "\n",
    "plt.scatter(red_goes_img_A, red_landsat_img_A)\n",
    "plt.title('A')\n",
    "plt.xlabel('GOES')\n",
    "plt.ylabel('Landsat')"
   ]
  },
  {
   "cell_type": "code",
   "execution_count": 278,
   "id": "unable-judge",
   "metadata": {},
   "outputs": [
    {
     "name": "stdout",
     "output_type": "stream",
     "text": [
      "0.030731800791556744\n",
      "0.16124118364418935\n",
      "0.041400556\n",
      "0.12002699\n"
     ]
    }
   ],
   "source": [
    "print(red_landsat_img_A.min())\n",
    "print(red_landsat_img_A.max())\n",
    "print(red_goes_img_A_corr.min())\n",
    "print(red_goes_img_A_corr.max())"
   ]
  },
  {
   "cell_type": "code",
   "execution_count": 281,
   "id": "effective-field",
   "metadata": {},
   "outputs": [
    {
     "name": "stderr",
     "output_type": "stream",
     "text": [
      "/sharedData2/nshakoor/.conda/envs/fires/lib/python3.7/site-packages/ipykernel_launcher.py:9: MatplotlibDeprecationWarning: Starting from Matplotlib 3.6, colorbar() will steal space from the mappable's axes, rather than from the current axes, to place the colorbar.  To silence this warning, explicitly pass the 'ax' argument to colorbar().\n",
      "  if __name__ == '__main__':\n"
     ]
    },
    {
     "data": {
      "text/plain": [
       "<matplotlib.colorbar.Colorbar at 0x7f469903ec10>"
      ]
     },
     "execution_count": 281,
     "metadata": {},
     "output_type": "execute_result"
    },
    {
     "data": {
      "image/png": "[encoded data removed]",
      "text/plain": [
       "<Figure size 432x288 with 3 Axes>"
      ]
     },
     "metadata": {
      "needs_background": "light"
     },
     "output_type": "display_data"
    }
   ],
   "source": [
    "vmin = 0\n",
    "vmax = 0.2\n",
    "\n",
    "fig, ax = plt.subplots(1, 2)\n",
    "im = ax[0].imshow(red_landsat_img_A, cmap='hot', vmin=vmin, vmax=vmax)\n",
    "ax[0].set_title('landsat')\n",
    "ax[1].imshow(red_goes_img_A_corr, cmap='hot', vmin=vmin, vmax=vmax)\n",
    "ax[1].set_title('goes')\n",
    "fig.colorbar(im)"
   ]
  },
  {
   "cell_type": "code",
   "execution_count": 189,
   "id": "scenic-patent",
   "metadata": {},
   "outputs": [
    {
     "data": {
      "text/plain": [
       "Text(0, 0.5, 'Landsat')"
      ]
     },
     "execution_count": 189,
     "metadata": {},
     "output_type": "execute_result"
    },
    {
     "data": {
      "image/png": "[encoded data removed]",
      "text/plain": [
       "<Figure size 432x288 with 1 Axes>"
      ]
     },
     "metadata": {
      "needs_background": "light"
     },
     "output_type": "display_data"
    }
   ],
   "source": [
    "plt.scatter(red_goes_img_B, red_landsat_img_B)\n",
    "plt.plot([20, 120], [0.02, 0.12], color = 'r')\n",
    "plt.title('B')\n",
    "plt.xlabel('GOES')\n",
    "plt.ylabel('Landsat')"
   ]
  },
  {
   "cell_type": "code",
   "execution_count": 300,
   "id": "geological-liquid",
   "metadata": {},
   "outputs": [],
   "source": [
    "def shiftPixels1(refimg, newimg, lats, lons):\n",
    "    scores = []\n",
    "    x_shift = [-2, -1, 0, 1, 2]\n",
    "    y_shift = [-2, -1, 0, 1, 2]\n",
    "    for x in x_shift:\n",
    "        for y in y_shift:\n",
    "            testimg = newimg[lats[0]+x:lats[1]+x, lons[0]+y:lons[1]+y]\n",
    "#             scores.append([x, y, math.sqrt(mean_squared_error(refimg, testimg))])\n",
    "            scores.append([x, y, np.corrcoef(refimg.flatten(), testimg.flatten())[0, 1]])\n",
    "    return scores"
   ]
  },
  {
   "cell_type": "code",
   "execution_count": 432,
   "id": "binary-lunch",
   "metadata": {},
   "outputs": [],
   "source": [
    "def shiftPixels(refimg, newimg_full, lats, lons):\n",
    "    newimg = newimg_full[lats[0]:lats[1], lons[0]:lons[1]]\n",
    "    x_add = 0\n",
    "    y_add = 0\n",
    "    while refimg.shape != newimg.shape:\n",
    "        if refimg.shape[0] > newimg.shape[0]:\n",
    "            x_add += 1\n",
    "        elif refimg.shape[0] < newimg.shape[0]:\n",
    "            x_add -= 1\n",
    "        if refimg.shape[1] > newimg.shape[1]:\n",
    "            y_add += 1\n",
    "        elif refimg.shape[1] < newimg.shape[1]:\n",
    "            y_add -= 1\n",
    "        newimg = newimg_full[lats[0]:lats[1] + x_add, lons[0]:lons[1] + y_add]\n",
    "    lats[0] -= x_add\n",
    "#     lats[1] += x_add\n",
    "#     lons[0] -= y_add\n",
    "    lons[1] += y_add\n",
    "\n",
    "    n = 2\n",
    "    x_shift = np.arange(-n, n+1)\n",
    "    y_shift = np.arange(-n, n+1)\n",
    "    scores = []\n",
    "    for x in x_shift:\n",
    "        for y in y_shift:\n",
    "            testimg = newimg_full[lats[0]+x:lats[1]+x, lons[0]+y:lons[1]+y]\n",
    "            scores.append([x, y, np.corrcoef(refimg.flatten(), testimg.flatten())[0, 1]])\n",
    "            \n",
    "    min_score = 1\n",
    "    min_score_index = 0\n",
    "    for score_index in range(len(scores)-1):\n",
    "        score = scores[score_index][-1]\n",
    "        if score < min_score:\n",
    "            min_score = score\n",
    "            min_score_index = score_index\n",
    "            \n",
    "    min_x, min_y, min_score = scores[min_score_index]\n",
    "    return newimg_full[lats[0]+min_x:lats[1]+min_x, lons[0]+min_y:lons[1]+min_y]"
   ]
  },
  {
   "cell_type": "code",
   "execution_count": 433,
   "id": "parental-slave",
   "metadata": {},
   "outputs": [
    {
     "data": {
      "text/plain": [
       "Text(0.5, 1.0, 'goes')"
      ]
     },
     "execution_count": 433,
     "metadata": {},
     "output_type": "execute_result"
    },
    {
     "data": {
      "image/png": "[encoded data removed]",
      "text/plain": [
       "<Figure size 432x288 with 2 Axes>"
      ]
     },
     "metadata": {
      "needs_background": "light"
     },
     "output_type": "display_data"
    }
   ],
   "source": [
    "newimg = shiftPixels(red_landsat_img_A, red_goes_img_corr, [latsA[0], latsA[1]], [lonsA[0], lonsA[1]])\n",
    "\n",
    "fig, ax = plt.subplots(1, 2)\n",
    "ax[0].imshow(red_landsat_img_A, cmap='hot')\n",
    "ax[0].set_title('landsat')\n",
    "ax[1].imshow(newimg, cmap='hot')\n",
    "ax[1].set_title('goes')"
   ]
  },
  {
   "cell_type": "code",
   "execution_count": 318,
   "id": "boring-eclipse",
   "metadata": {},
   "outputs": [
    {
     "data": {
      "text/plain": [
       "[-3, -3, 0.2232812780760426]"
      ]
     },
     "execution_count": 318,
     "metadata": {},
     "output_type": "execute_result"
    }
   ],
   "source": [
    "shiftPixels(red_landsat_img_A, red_goes_img_corr, [latsA[0]-3, latsA[1]-1], [lonsA[0], lonsA[1]+2])"
   ]
  },
  {
   "cell_type": "code",
   "execution_count": 334,
   "id": "latest-detection",
   "metadata": {},
   "outputs": [
    {
     "data": {
      "text/plain": [
       "16"
      ]
     },
     "execution_count": 334,
     "metadata": {},
     "output_type": "execute_result"
    }
   ],
   "source": [
    "red_landsat_img_A.shape[1]"
   ]
  },
  {
   "cell_type": "code",
   "execution_count": 331,
   "id": "capital-angle",
   "metadata": {},
   "outputs": [
    {
     "data": {
      "text/plain": [
       "(10, 16)"
      ]
     },
     "execution_count": 331,
     "metadata": {},
     "output_type": "execute_result"
    }
   ],
   "source": [
    "red_goes_img_corr[latsA[0]-3:latsA[1]-1, lonsA[0]:lonsA[1]+2].shape"
   ]
  },
  {
   "cell_type": "code",
   "execution_count": 301,
   "id": "cardiovascular-panic",
   "metadata": {},
   "outputs": [
    {
     "data": {
      "text/plain": [
       "[[-2, -2, 0.38502878003219215],\n",
       " [-2, -1, 0.45813984403379937],\n",
       " [-2, 0, 0.46736609554388503],\n",
       " [-2, 1, 0.4139677137049941],\n",
       " [-2, 2, 0.41220293968132515],\n",
       " [-1, -2, 0.5090509143673204],\n",
       " [-1, -1, 0.5886851984514674],\n",
       " [-1, 0, 0.5970165008225883],\n",
       " [-1, 1, 0.4866521524004955],\n",
       " [-1, 2, 0.45914486534001114],\n",
       " [0, -2, 0.6056541826079119],\n",
       " [0, -1, 0.6867229648316416],\n",
       " [0, 0, 0.7355385634767672],\n",
       " [0, 1, 0.5900798352121159],\n",
       " [0, 2, 0.515354260068009],\n",
       " [1, -2, 0.6082011020400526],\n",
       " [1, -1, 0.709579556241882],\n",
       " [1, 0, 0.7695230293126772],\n",
       " [1, 1, 0.6365906477238364],\n",
       " [1, 2, 0.5768904340197794],\n",
       " [2, -2, 0.5657026950492969],\n",
       " [2, -1, 0.631940932834865],\n",
       " [2, 0, 0.6740119552432445],\n",
       " [2, 1, 0.6137975610497617],\n",
       " [2, 2, 0.5668322417526286]]"
      ]
     },
     "execution_count": 301,
     "metadata": {},
     "output_type": "execute_result"
    }
   ],
   "source": [
    "results = shiftPixels(red_landsat_img_A, red_goes_img_corr, [latsA[0]-3, latsA[1]-1], [lonsA[0], lonsA[1]+2])\n",
    "results"
   ]
  },
  {
   "cell_type": "code",
   "execution_count": 295,
   "id": "static-punishment",
   "metadata": {},
   "outputs": [
    {
     "data": {
      "text/plain": [
       "Text(0.5, 1.0, 'goes')"
      ]
     },
     "execution_count": 295,
     "metadata": {},
     "output_type": "execute_result"
    },
    {
     "data": {
      "image/png": "[encoded data removed]",
      "text/plain": [
       "<Figure size 432x288 with 2 Axes>"
      ]
     },
     "metadata": {
      "needs_background": "light"
     },
     "output_type": "display_data"
    }
   ],
   "source": [
    "fig, ax = plt.subplots(1, 2)\n",
    "ax[0].imshow(red_landsat_img_A, cmap='hot')\n",
    "ax[0].set_title('landsat')\n",
    "ax[1].imshow(red_goes_img[latsA[0]-3+1:latsA[1]-1+1, lonsA[0]:lonsA[1]+2], cmap='hot')\n",
    "ax[1].set_title('goes')"
   ]
  },
  {
   "cell_type": "code",
   "execution_count": 297,
   "id": "running-burlington",
   "metadata": {},
   "outputs": [],
   "source": [
    "red_goes_img_fit = red_goes_img[latsA[0]-3+1:latsA[1]-1+1, lonsA[0]:lonsA[1]+2]"
   ]
  },
  {
   "cell_type": "code",
   "execution_count": 298,
   "id": "retained-chance",
   "metadata": {},
   "outputs": [
    {
     "data": {
      "text/plain": [
       "Text(0, 0.5, 'Landsat')"
      ]
     },
     "execution_count": 298,
     "metadata": {},
     "output_type": "execute_result"
    },
    {
     "data": {
      "image/png": "[encoded data removed]",
      "text/plain": [
       "<Figure size 432x288 with 1 Axes>"
      ]
     },
     "metadata": {
      "needs_background": "light"
     },
     "output_type": "display_data"
    }
   ],
   "source": [
    "slope_A, intercept_A = np.polyfit(red_goes_img_A.ravel(), red_landsat_img_A.ravel(), 1)\n",
    "red_goes_img_corr = red_goes_img*slope_A + intercept_A\n",
    "red_goes_img_A_corr = red_goes_img_A*slope_A + intercept_A\n",
    "\n",
    "plt.scatter(red_goes_img_fit, red_landsat_img_A)\n",
    "plt.title('A')\n",
    "plt.xlabel('GOES')\n",
    "plt.ylabel('Landsat')"
   ]
  },
  {
   "cell_type": "code",
   "execution_count": 299,
   "id": "incomplete-colors",
   "metadata": {},
   "outputs": [
    {
     "data": {
      "text/plain": [
       "array([[0.05586357, 0.06232195, 0.09996258, 0.10778465, 0.06671319,\n",
       "        0.12434305, 0.15657594, 0.08360477, 0.09289679, 0.10275989,\n",
       "        0.07337883, 0.05768496, 0.05860805, 0.10600063, 0.06376226,\n",
       "        0.06887478],\n",
       "       [0.04484334, 0.04931254, 0.0892324 , 0.12759124, 0.12342029,\n",
       "        0.1399805 , 0.13573744, 0.08074621, 0.10062104, 0.09668738,\n",
       "        0.06540107, 0.06535282, 0.07263753, 0.06240936, 0.0600643 ,\n",
       "        0.0859623 ],\n",
       "       [0.04558805, 0.04581925, 0.06961978, 0.12904993, 0.14530779,\n",
       "        0.10094463, 0.14552013, 0.11058659, 0.09011225, 0.1336941 ,\n",
       "        0.06820795, 0.06037162, 0.07268724, 0.06548349, 0.0499405 ,\n",
       "        0.04607353],\n",
       "       [0.0448402 , 0.04622728, 0.05060535, 0.07267139, 0.13241436,\n",
       "        0.11595084, 0.16124118, 0.10944981, 0.1113487 , 0.08678232,\n",
       "        0.05470963, 0.03277278, 0.04541863, 0.04430826, 0.03207717,\n",
       "        0.0307318 ],\n",
       "       [0.05349804, 0.05434572, 0.07131339, 0.07253206, 0.06927211,\n",
       "        0.04758728, 0.07375324, 0.09705656, 0.06314034, 0.05740898,\n",
       "        0.0466426 , 0.03766064, 0.03547048, 0.03723697, 0.0459263 ,\n",
       "        0.03670037],\n",
       "       [0.080681  , 0.07696696, 0.09399301, 0.09778182, 0.08896753,\n",
       "        0.05561206, 0.06561411, 0.07873451, 0.05125154, 0.05403811,\n",
       "        0.05472268, 0.04398305, 0.04985154, 0.04236907, 0.04616422,\n",
       "        0.03804327],\n",
       "       [0.09496465, 0.09422695, 0.08602121, 0.0870409 , 0.08601184,\n",
       "        0.09697825, 0.07514618, 0.04763123, 0.05392085, 0.04516138,\n",
       "        0.05408293, 0.04613059, 0.05136967, 0.04194416, 0.03998601,\n",
       "        0.04728049],\n",
       "       [0.09050274, 0.10047034, 0.08021588, 0.09364995, 0.09573131,\n",
       "        0.08566461, 0.09130909, 0.07966546, 0.0669766 , 0.06629687,\n",
       "        0.06248957, 0.05083492, 0.04901955, 0.04968802, 0.04085538,\n",
       "        0.04165189],\n",
       "       [0.07766982, 0.08502401, 0.08518309, 0.0879229 , 0.09185132,\n",
       "        0.07857559, 0.08345647, 0.08315095, 0.06826305, 0.0673361 ,\n",
       "        0.05899259, 0.05063027, 0.05645944, 0.0537869 , 0.05059988,\n",
       "        0.04851134],\n",
       "       [0.08363935, 0.07356159, 0.09312626, 0.08220459, 0.08161751,\n",
       "        0.07568064, 0.07179739, 0.07165566, 0.06806699, 0.06446007,\n",
       "        0.06512764, 0.06914573, 0.06975558, 0.06274507, 0.07344855,\n",
       "        0.07447015]])"
      ]
     },
     "execution_count": 299,
     "metadata": {},
     "output_type": "execute_result"
    }
   ],
   "source": [
    "red_landsat_img_A"
   ]
  },
  {
   "cell_type": "code",
   "execution_count": 166,
   "id": "herbal-discharge",
   "metadata": {},
   "outputs": [],
   "source": [
    "def load_image(array):\n",
    "    \"\"\"\n",
    "    Returns loaded .npy file.\n",
    "    \n",
    "    Parameter path: Path to load .npy file from\n",
    "    Precondition: path is a string\n",
    "    \"\"\"\n",
    "    result = np.zeros((array.shape[0], array.shape[1], 3))\n",
    "    result[:,:,0]= array\n",
    "    result[:,:,1]= array\n",
    "    result[:,:,2]= array\n",
    "    return result\n",
    "\n",
    "def preprocess_image(array):\n",
    "    \"\"\"\n",
    "    Returns preprocessed input array.\n",
    "    \n",
    "    Parameter array: array to preprocess\n",
    "    Precondition: array is a numpy array\n",
    "    \"\"\"\n",
    "    hr_image = array\n",
    "    hr_size = (tf.convert_to_tensor(hr_image.shape[:-1]) // 2) * 2\n",
    "    hr_image = tf.image.crop_to_bounding_box(hr_image, 0, 0, hr_size[0], hr_size[1])\n",
    "    hr_image = tf.cast(hr_image, tf.float32)\n",
    "    return tf.expand_dims(hr_image, 0)\n",
    "\n",
    "def downscale_image(image):\n",
    "    \"\"\"\n",
    "    Returns low resolution image after scaling down input image using nearest neighbor downsampling.\n",
    "\n",
    "    Parameter image: 3D of 4D tensor of preprocessed image\n",
    "    Precondition: image is a tensor\n",
    "    \"\"\"\n",
    "    height, width = image.shape\n",
    "    result = np.zeros((image.shape[0]//2, image.shape[1]//2, 3))\n",
    "    smallimg = resize(image, (round(height/2), round(width/2)))\n",
    "    result[:,:,0] = smallimg\n",
    "    result[:,:,1] = smallimg\n",
    "    result[:,:,2] = smallimg\n",
    "    lr_image = tf.expand_dims(result, 0)\n",
    "    lr_image = tf.cast(lr_image, tf.float32)\n",
    "    return lr_image\n",
    "\n",
    "def esrgan_sharpening_img(image):\n",
    "    \"\"\"\n",
    "    Returns dictionary containing errors after using the ESRGAN model.\n",
    "    \n",
    "    Parameter path: path of image not including file name\n",
    "    Precondition: path is a string\n",
    "    \n",
    "    Parameter file: file of the image\n",
    "    Precondition: file is a string of a .npy file\n",
    "    \"\"\"\n",
    "    hr_image = preprocess_image(load_image(image))\n",
    "    lr_image = downscale_image(image)\n",
    "    fake_image = model(lr_image)\n",
    "    fake_image = tf.squeeze(fake_image)\n",
    "\n",
    "    hr_image = tf.squeeze(hr_image).numpy()\n",
    "    lr_image = tf.squeeze(lr_image).numpy()\n",
    "#     lr_image = resize(lr_image, (hr_image.shape[0], hr_image.shape[1], 3)).ravel()\n",
    "#     fake_image = resize(fake_image.numpy(), (hr_image.shape[0], hr_image.shape[1], 3))\n",
    "\n",
    "    return np.mean(fake_image, axis=2)"
   ]
  },
  {
   "cell_type": "code",
   "execution_count": 195,
   "id": "forward-attraction",
   "metadata": {},
   "outputs": [],
   "source": [
    "landsat_path = '../landsat_files/landsat_files/'\n",
    "landsat_img_A = np.load(landsat_path + 'LC08_L2SP_044032_20210828_20210901_02_T1_goesLS_BTcounts_grid0.02degAcent.npy')\n",
    "goes_img_039 = np.load('../landsat_files/OR_ABI-L1b-RadC-M6C07_G17_s20212401846176_e20212401848561_c20212401849003.npy')\n",
    "goes_img_103 = np.load('../landsat_files/OR_ABI-L1b-RadC-M6C14_G17_s20212401846176_e20212401848549_c20212401848593.npy')\n",
    "goes_img = goes_img_103 - goes_img_039\n",
    "\n",
    "pc = ccrs.PlateCarree()\n",
    "pc_params = pc.proj4_params\n",
    "pc_extents = [-124.25, 32.25, -114.25, 42.25]\n",
    "shape = [500, 500]\n",
    "target_area = geometry.AreaDefinition.from_extent('CA', pc_params, shape, pc_extents)\n",
    "\n",
    "latlon1A = [40.49, -121.45]\n",
    "latlon2A = [40.650000000000006, -121.17]\n",
    "coords1A = target_area.get_array_coordinates_from_lonlat(latlon1A[1], latlon1A[0])\n",
    "coords1A = (round(coords1A[0]), round(coords1A[1]))\n",
    "coords2A = target_area.get_array_coordinates_from_lonlat(latlon2A[1], latlon2A[0])\n",
    "coords2A = (round(coords2A[0]), round(coords2A[1]))\n",
    "lonsA = [coords1A[0], coords2A[0]]\n",
    "latsA = [coords2A[1], coords1A[1]]\n",
    "\n",
    "landsat_img_A = np.flipud(red_landsat_img_A)\n",
    "goes_img_A = goes_img[latsA[0]-3:latsA[1]-1, lonsA[0]:lonsA[1]+2]"
   ]
  },
  {
   "cell_type": "code",
   "execution_count": 198,
   "id": "domestic-lawsuit",
   "metadata": {},
   "outputs": [],
   "source": [
    "new_goes = esrgan_sharpening_img(goes_img_A)"
   ]
  },
  {
   "cell_type": "code",
   "execution_count": 199,
   "id": "greek-cisco",
   "metadata": {},
   "outputs": [
    {
     "data": {
      "text/plain": [
       "Text(0.5, 1.0, 'new goes')"
      ]
     },
     "execution_count": 199,
     "metadata": {},
     "output_type": "execute_result"
    },
    {
     "data": {
      "image/png": "[encoded data removed]",
      "text/plain": [
       "<Figure size 432x288 with 2 Axes>"
      ]
     },
     "metadata": {
      "needs_background": "light"
     },
     "output_type": "display_data"
    }
   ],
   "source": [
    "fig, ax = plt.subplots(1, 2)\n",
    "ax[0].imshow(landsat_img_A)\n",
    "ax[0].set_title('landsat')\n",
    "ax[1].imshow(new_goes)\n",
    "ax[1].set_title('new goes')"
   ]
  },
  {
   "cell_type": "code",
   "execution_count": 36,
   "id": "original-bottom",
   "metadata": {},
   "outputs": [
    {
     "name": "stderr",
     "output_type": "stream",
     "text": [
      "/sharedData2/nshakoor/.conda/envs/fires/lib/python3.7/site-packages/pyproj/crs/crs.py:1216: UserWarning: You will likely lose important projection information when converting to a PROJ string from another format. See: https://proj.org/faq.html#what-is-the-best-format-for-describing-coordinate-reference-systems\n",
      "  return self._crs.to_proj4(version=version)\n",
      "/sharedData2/nshakoor/.conda/envs/fires/lib/python3.7/site-packages/pyproj/crs/crs.py:1216: UserWarning: You will likely lose important projection information when converting to a PROJ string from another format. See: https://proj.org/faq.html#what-is-the-best-format-for-describing-coordinate-reference-systems\n",
      "  return self._crs.to_proj4(version=version)\n"
     ]
    }
   ],
   "source": [
    "# # convert .nc\n",
    "\n",
    "# pc = ccrs.PlateCarree()\n",
    "# pc_extents = [-124.25, -114.25, 32.25, 42.25]\n",
    "# pc_params = pc.proj4_params\n",
    "# target_extents = [pc_extents[0],\n",
    "#                     pc_extents[2],\n",
    "#                     pc_extents[1],\n",
    "#                     pc_extents[3]]\n",
    "# target_rows = 500\n",
    "# target_cols = 500\n",
    "# shape = [target_rows, target_cols]\n",
    "\n",
    "# file = 'OR_ABI-L1b-RadC-M6C02_G17_s20212401846176_e20212401848549_c20212401848572.nc'\n",
    "# data = xr.open_dataset('../landsat_files/'+file)\n",
    "# dat = data.metpy.parse_cf('Rad')\n",
    "# geos = dat.metpy.cartopy_crs\n",
    "# rad = dat.data\n",
    "\n",
    "# # fk1 = float(data.metpy.parse_cf('planck_fk1'))\n",
    "# # fk2 = float(data.metpy.parse_cf('planck_fk2'))\n",
    "# # bc1 = float(data.metpy.parse_cf('planck_bc1'))\n",
    "# # bc2 = float(data.metpy.parse_cf('planck_bc2'))\n",
    "# # bt = (fk2/(xr.ufuncs.log(fk1/rad + 1)) - bc1)/bc2\n",
    "# # bt = np.asarray(bt)\n",
    "\n",
    "# goes_params = geos.proj4_params\n",
    "\n",
    "# source_area = geometry.AreaDefinition.from_cf(data)\n",
    "# target_area = geometry.AreaDefinition.from_extent('CA', pc_params, shape, target_extents)\n",
    "\n",
    "# result = grid.get_resampled_image(target_area, source_area, rad)\n",
    "# np.save('../landsat_files/' + file[:-3], result)\n",
    "# data.close()"
   ]
  },
  {
   "cell_type": "code",
   "execution_count": null,
   "id": "dangerous-occasion",
   "metadata": {},
   "outputs": [],
   "source": []
  }
 ],
 "metadata": {
  "kernelspec": {
   "display_name": "Python 3",
   "language": "python",
   "name": "python3"
  },
  "language_info": {
   "codemirror_mode": {
    "name": "ipython",
    "version": 3
   },
   "file_extension": ".py",
   "mimetype": "text/x-python",
   "name": "python",
   "nbconvert_exporter": "python",
   "pygments_lexer": "ipython3",
   "version": "3.7.9"
  }
 },
 "nbformat": 4,
 "nbformat_minor": 5
}
