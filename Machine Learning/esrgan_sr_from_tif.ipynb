{
 "cells": [
  {
   "cell_type": "code",
   "execution_count": 1,
   "metadata": {},
   "outputs": [],
   "source": [
    "#!pip install tensorflow\n",
    "#!pip install tensorflow_hub\n",
    "import os\n",
    "import time\n",
    "from PIL import Image\n",
    "from skimage import io\n",
    "from skimage.transform import resize\n",
    "from pathlib import Path\n",
    "import numpy as np\n",
    "import pandas as pd\n",
    "import tensorflow as tf\n",
    "import tensorflow_hub as hub\n",
    "import matplotlib.pyplot as plt\n",
    "os.environ[\"TFHUB_DOWNLOAD_PROGRESS\"] = \"True\""
   ]
  },
  {
   "cell_type": "code",
   "execution_count": 2,
   "metadata": {},
   "outputs": [],
   "source": [
    "def png(image):\n",
    "    band = io.imread(image)\n",
    "    band = np.squeeze(band[:,:,0])\n",
    "    GSband = np.zeros((band.shape[0], band.shape[1], 3))\n",
    "    GSband[:,:,0]= band\n",
    "    GSband[:,:,1]= band\n",
    "    GSband[:,:,2]= band\n",
    "    GSband = GSband.astype('uint8')\n",
    "    png = Image.fromarray(GSband)\n",
    "    image = image[:-4]\n",
    "    png.save(image + \".png\")\n",
    "\n",
    "#for filename in os.listdir('Fires/TIFF_Files/CampFire'):\n",
    "#     png(\"Fires/TIFF_Files/CampFire/\" + filename)"
   ]
  },
  {
   "cell_type": "code",
   "execution_count": 12,
   "metadata": {},
   "outputs": [],
   "source": [
    "SAVED_MODEL_PATH = \"https://tfhub.dev/captain-pool/esrgan-tf2/1\"\n",
    "model = hub.load(SAVED_MODEL_PATH)"
   ]
  },
  {
   "cell_type": "code",
   "execution_count": 3,
   "metadata": {},
   "outputs": [],
   "source": [
    "def preprocess_image(image_path):\n",
    "  hr_image = tf.image.decode_image(tf.io.read_file(image_path))\n",
    "  if hr_image.shape[-1] == 4:\n",
    "    hr_image = hr_image[...,:-1]\n",
    "  hr_size = (tf.convert_to_tensor(hr_image.shape[:-1]) // 2) * 2\n",
    "  hr_image = tf.image.crop_to_bounding_box(hr_image, 0, 0, hr_size[0], hr_size[1])\n",
    "  hr_image = tf.cast(hr_image, tf.float32)\n",
    "  return tf.expand_dims(hr_image, 0)\n",
    "\n",
    "def downscale_image(image):\n",
    "  image_size = []\n",
    "  if len(image.shape) == 3:\n",
    "    image_size = [image.shape[1], image.shape[0]]\n",
    "  else:\n",
    "    raise ValueError(\"Dimension mismatch. Can work only on single image.\")\n",
    "  image = tf.squeeze(tf.cast(tf.clip_by_value(image, 0, 255), tf.uint8))\n",
    "  lr_image = np.asarray(Image.fromarray(image.numpy()).resize([image_size[0] // 2, image_size[1] // 2],Image.BICUBIC))\n",
    "  lr_image = tf.expand_dims(lr_image, 0)\n",
    "  lr_image = tf.cast(lr_image, tf.float32)\n",
    "  return lr_image"
   ]
  },
  {
   "cell_type": "code",
   "execution_count": 14,
   "metadata": {},
   "outputs": [],
   "source": [
    "table = []\n",
    "\n",
    "hr_image = 0\n",
    "fake_image = 0"
   ]
  },
  {
   "cell_type": "code",
   "execution_count": 15,
   "metadata": {},
   "outputs": [],
   "source": [
    "def m_learning(fileID, band):\n",
    "    \n",
    "    hr_image = preprocess_image(fileID)\n",
    "    hr_image = tf.squeeze(hr_image)\n",
    "    lr_image = downscale_image(hr_image)\n",
    "    fake_image = model(lr_image)\n",
    "    fake_image = tf.squeeze(fake_image)\n",
    "    fake_image = resize(fake_image, (556, 540, 3))\n",
    "    print('done')\n",
    "    \n",
    "    abs_error = abs(hr_image - fake_image)\n",
    "    mean = np.mean(abs_error)\n",
    "    rmse = np.sqrt(np.mean((hr_image - fake_image)**2))\n",
    "    table.append({'Filename': fileID,'Band': band,'Mean': mean, 'RMSE': rmse})\n",
    "    \n",
    "    return pd.DataFrame(table)"
   ]
  },
  {
   "cell_type": "code",
   "execution_count": null,
   "metadata": {},
   "outputs": [
    {
     "name": "stdout",
     "output_type": "stream",
     "text": [
      "done\n",
      "done\n",
      "done\n",
      "done\n",
      "done\n"
     ]
    }
   ],
   "source": [
    "df07 = pd.concat(m_learning(str(file), '07') for file in Path('PNGs/').glob('GOES-17_ABI_RadC_C07*'))\n",
    "df14 = pd.concat(m_learning(str(file), '14') for file in Path('PNGs/').glob('GOES-17_ABI_RadC_C14*'))"
   ]
  },
  {
   "cell_type": "code",
   "execution_count": null,
   "metadata": {},
   "outputs": [],
   "source": [
    "#df_all = pd.concat([df14, df07])\n",
    "#df_all.to_csv('data.csv')"
   ]
  },
  {
   "cell_type": "code",
   "execution_count": null,
   "metadata": {},
   "outputs": [],
   "source": [
    "x = df_all.groupby(['Band']).std()"
   ]
  },
  {
   "cell_type": "code",
   "execution_count": null,
   "metadata": {},
   "outputs": [],
   "source": [
    "x"
   ]
  },
  {
   "cell_type": "code",
   "execution_count": 4,
   "metadata": {},
   "outputs": [],
   "source": [
    "df_all = pd.read_csv(\"data.csv\")"
   ]
  },
  {
   "cell_type": "code",
   "execution_count": 7,
   "metadata": {},
   "outputs": [
    {
     "data": {
      "text/html": [
       "<div>\n",
       "<style scoped>\n",
       "    .dataframe tbody tr th:only-of-type {\n",
       "        vertical-align: middle;\n",
       "    }\n",
       "\n",
       "    .dataframe tbody tr th {\n",
       "        vertical-align: top;\n",
       "    }\n",
       "\n",
       "    .dataframe thead th {\n",
       "        text-align: right;\n",
       "    }\n",
       "</style>\n",
       "<table border=\"1\" class=\"dataframe\">\n",
       "  <thead>\n",
       "    <tr style=\"text-align: right;\">\n",
       "      <th></th>\n",
       "      <th>Unnamed: 0</th>\n",
       "      <th>Filename</th>\n",
       "      <th>Band</th>\n",
       "      <th>Mean</th>\n",
       "      <th>RMSE</th>\n",
       "    </tr>\n",
       "  </thead>\n",
       "  <tbody>\n",
       "    <tr>\n",
       "      <th>0</th>\n",
       "      <td>0</td>\n",
       "      <td>Fires/Machine Learning/PNGs/GOES-17_ABI_RadC_C...</td>\n",
       "      <td>7</td>\n",
       "      <td>1.332050</td>\n",
       "      <td>1.820826</td>\n",
       "    </tr>\n",
       "    <tr>\n",
       "      <th>1</th>\n",
       "      <td>1</td>\n",
       "      <td>Fires/Machine Learning/PNGs/GOES-17_ABI_RadC_C...</td>\n",
       "      <td>7</td>\n",
       "      <td>1.237283</td>\n",
       "      <td>1.740089</td>\n",
       "    </tr>\n",
       "    <tr>\n",
       "      <th>2</th>\n",
       "      <td>2</td>\n",
       "      <td>Fires/Machine Learning/PNGs/GOES-17_ABI_RadC_C...</td>\n",
       "      <td>7</td>\n",
       "      <td>1.315958</td>\n",
       "      <td>1.793417</td>\n",
       "    </tr>\n",
       "    <tr>\n",
       "      <th>3</th>\n",
       "      <td>3</td>\n",
       "      <td>Fires/Machine Learning/PNGs/GOES-17_ABI_RadC_C...</td>\n",
       "      <td>7</td>\n",
       "      <td>1.402152</td>\n",
       "      <td>1.934412</td>\n",
       "    </tr>\n",
       "    <tr>\n",
       "      <th>4</th>\n",
       "      <td>4</td>\n",
       "      <td>Fires/Machine Learning/PNGs/GOES-17_ABI_RadC_C...</td>\n",
       "      <td>7</td>\n",
       "      <td>1.250406</td>\n",
       "      <td>1.683789</td>\n",
       "    </tr>\n",
       "    <tr>\n",
       "      <th>...</th>\n",
       "      <td>...</td>\n",
       "      <td>...</td>\n",
       "      <td>...</td>\n",
       "      <td>...</td>\n",
       "      <td>...</td>\n",
       "    </tr>\n",
       "    <tr>\n",
       "      <th>1825</th>\n",
       "      <td>25</td>\n",
       "      <td>Fires/Machine Learning/PNGs/GOES-17_ABI_RadC_C...</td>\n",
       "      <td>7</td>\n",
       "      <td>1.412189</td>\n",
       "      <td>1.967320</td>\n",
       "    </tr>\n",
       "    <tr>\n",
       "      <th>1826</th>\n",
       "      <td>26</td>\n",
       "      <td>Fires/Machine Learning/PNGs/GOES-17_ABI_RadC_C...</td>\n",
       "      <td>7</td>\n",
       "      <td>1.281800</td>\n",
       "      <td>1.738358</td>\n",
       "    </tr>\n",
       "    <tr>\n",
       "      <th>1827</th>\n",
       "      <td>27</td>\n",
       "      <td>Fires/Machine Learning/PNGs/GOES-17_ABI_RadC_C...</td>\n",
       "      <td>7</td>\n",
       "      <td>1.399028</td>\n",
       "      <td>1.953365</td>\n",
       "    </tr>\n",
       "    <tr>\n",
       "      <th>1828</th>\n",
       "      <td>28</td>\n",
       "      <td>Fires/Machine Learning/PNGs/GOES-17_ABI_RadC_C...</td>\n",
       "      <td>7</td>\n",
       "      <td>1.261871</td>\n",
       "      <td>1.785128</td>\n",
       "    </tr>\n",
       "    <tr>\n",
       "      <th>1829</th>\n",
       "      <td>29</td>\n",
       "      <td>Fires/Machine Learning/PNGs/GOES-17_ABI_RadC_C...</td>\n",
       "      <td>7</td>\n",
       "      <td>1.445014</td>\n",
       "      <td>2.015149</td>\n",
       "    </tr>\n",
       "  </tbody>\n",
       "</table>\n",
       "<p>1830 rows × 5 columns</p>\n",
       "</div>"
      ],
      "text/plain": [
       "      Unnamed: 0                                           Filename  Band  \\\n",
       "0              0  Fires/Machine Learning/PNGs/GOES-17_ABI_RadC_C...     7   \n",
       "1              1  Fires/Machine Learning/PNGs/GOES-17_ABI_RadC_C...     7   \n",
       "2              2  Fires/Machine Learning/PNGs/GOES-17_ABI_RadC_C...     7   \n",
       "3              3  Fires/Machine Learning/PNGs/GOES-17_ABI_RadC_C...     7   \n",
       "4              4  Fires/Machine Learning/PNGs/GOES-17_ABI_RadC_C...     7   \n",
       "...          ...                                                ...   ...   \n",
       "1825          25  Fires/Machine Learning/PNGs/GOES-17_ABI_RadC_C...     7   \n",
       "1826          26  Fires/Machine Learning/PNGs/GOES-17_ABI_RadC_C...     7   \n",
       "1827          27  Fires/Machine Learning/PNGs/GOES-17_ABI_RadC_C...     7   \n",
       "1828          28  Fires/Machine Learning/PNGs/GOES-17_ABI_RadC_C...     7   \n",
       "1829          29  Fires/Machine Learning/PNGs/GOES-17_ABI_RadC_C...     7   \n",
       "\n",
       "          Mean      RMSE  \n",
       "0     1.332050  1.820826  \n",
       "1     1.237283  1.740089  \n",
       "2     1.315958  1.793417  \n",
       "3     1.402152  1.934412  \n",
       "4     1.250406  1.683789  \n",
       "...        ...       ...  \n",
       "1825  1.412189  1.967320  \n",
       "1826  1.281800  1.738358  \n",
       "1827  1.399028  1.953365  \n",
       "1828  1.261871  1.785128  \n",
       "1829  1.445014  2.015149  \n",
       "\n",
       "[1830 rows x 5 columns]"
      ]
     },
     "execution_count": 7,
     "metadata": {},
     "output_type": "execute_result"
    }
   ],
   "source": [
    "df_all"
   ]
  },
  {
   "cell_type": "code",
   "execution_count": 5,
   "metadata": {},
   "outputs": [],
   "source": [
    "x = df_all.groupby(['Band']).std()"
   ]
  },
  {
   "cell_type": "code",
   "execution_count": 6,
   "metadata": {},
   "outputs": [
    {
     "data": {
      "text/html": [
       "<div>\n",
       "<style scoped>\n",
       "    .dataframe tbody tr th:only-of-type {\n",
       "        vertical-align: middle;\n",
       "    }\n",
       "\n",
       "    .dataframe tbody tr th {\n",
       "        vertical-align: top;\n",
       "    }\n",
       "\n",
       "    .dataframe thead th {\n",
       "        text-align: right;\n",
       "    }\n",
       "</style>\n",
       "<table border=\"1\" class=\"dataframe\">\n",
       "  <thead>\n",
       "    <tr style=\"text-align: right;\">\n",
       "      <th></th>\n",
       "      <th>Unnamed: 0</th>\n",
       "      <th>Mean</th>\n",
       "      <th>RMSE</th>\n",
       "    </tr>\n",
       "    <tr>\n",
       "      <th>Band</th>\n",
       "      <th></th>\n",
       "      <th></th>\n",
       "      <th></th>\n",
       "    </tr>\n",
       "  </thead>\n",
       "  <tbody>\n",
       "    <tr>\n",
       "      <th>7</th>\n",
       "      <td>8.500504</td>\n",
       "      <td>0.097117</td>\n",
       "      <td>0.139841</td>\n",
       "    </tr>\n",
       "    <tr>\n",
       "      <th>14</th>\n",
       "      <td>7.187953</td>\n",
       "      <td>0.177363</td>\n",
       "      <td>0.259998</td>\n",
       "    </tr>\n",
       "  </tbody>\n",
       "</table>\n",
       "</div>"
      ],
      "text/plain": [
       "      Unnamed: 0      Mean      RMSE\n",
       "Band                                \n",
       "7       8.500504  0.097117  0.139841\n",
       "14      7.187953  0.177363  0.259998"
      ]
     },
     "execution_count": 6,
     "metadata": {},
     "output_type": "execute_result"
    }
   ],
   "source": [
    "x"
   ]
  },
  {
   "cell_type": "code",
   "execution_count": null,
   "metadata": {},
   "outputs": [],
   "source": []
  }
 ],
 "metadata": {
  "kernelspec": {
   "display_name": "Python 3",
   "language": "python",
   "name": "python3"
  },
  "language_info": {
   "codemirror_mode": {
    "name": "ipython",
    "version": 3
   },
   "file_extension": ".py",
   "mimetype": "text/x-python",
   "name": "python",
   "nbconvert_exporter": "python",
   "pygments_lexer": "ipython3",
   "version": "3.8.5"
  }
 },
 "nbformat": 4,
 "nbformat_minor": 4
}
