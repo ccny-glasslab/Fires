{
 "cells": [
  {
   "cell_type": "code",
   "execution_count": 5,
   "id": "architectural-botswana",
   "metadata": {},
   "outputs": [],
   "source": [
    "import os\n",
    "import random\n",
    "import numpy as np\n",
    "import pandas as pd\n",
    "import matplotlib.pyplot as plt\n",
    "import tensorflow as tf\n",
    "import tensorflow_hub as hub\n",
    "from PIL import Image\n",
    "from skimage.transform import resize\n",
    "from sklearn.metrics import mean_absolute_error\n",
    "from sklearn.metrics import mean_squared_error\n",
    "%matplotlib inline\n",
    "\n",
    "random.seed(42)\n",
    "\n",
    "model = hub.load(\"https://tfhub.dev/captain-pool/esrgan-tf2/1\")"
   ]
  },
  {
   "cell_type": "code",
   "execution_count": 3,
   "id": "beneficial-transfer",
   "metadata": {},
   "outputs": [],
   "source": [
    "def control(path, file):\n",
    "    \"\"\"\n",
    "    Returns a dictionary of errors for the given file without sharpening.\n",
    "    \n",
    "    Parameter path: The path to the given file\n",
    "    Precondition: path is a string\n",
    "    \n",
    "    Parameter file: The file to evaluate the error of\n",
    "    Precondition: file is a string\n",
    "    \"\"\"\n",
    "    img = np.load(path + file)\n",
    "    height, width = img.shape\n",
    "    smallimg = resize(img, (round(height/2), round(width/2)))\n",
    "    control = resize(smallimg, (height, width))\n",
    "    mae = mean_absolute_error(img, control)\n",
    "    rmse = mean_squared_error(img, control, squared=False)\n",
    "    return {'File': file, 'Band': file[19:21], 'Control_MAE': mae, 'Control_RMSE': rmse}\n",
    "\n",
    "def load_image(path):\n",
    "    \"\"\"\n",
    "    Returns loaded .npy file.\n",
    "    \n",
    "    Parameter path: Path to load .npy file from\n",
    "    Precondition: path is a string\n",
    "    \"\"\"\n",
    "    array = np.load(path)\n",
    "    result = np.zeros((array.shape[0], array.shape[1], 3))\n",
    "    result[:,:,0]= array\n",
    "    result[:,:,1]= array\n",
    "    result[:,:,2]= array\n",
    "    result = result.astype('uint8')\n",
    "    return result\n",
    "\n",
    "def preprocess_image(array):\n",
    "    \"\"\"\n",
    "    Returns preprocessed input array.\n",
    "    \n",
    "    Parameter array: array to preprocess\n",
    "    Precondition: array is a numpy array\n",
    "    \"\"\"\n",
    "    hr_image = array\n",
    "    hr_size = (tf.convert_to_tensor(hr_image.shape[:-1]) // 2) * 2\n",
    "    hr_image = tf.image.crop_to_bounding_box(hr_image, 0, 0, hr_size[0], hr_size[1])\n",
    "    hr_image = tf.cast(hr_image, tf.float32)\n",
    "    return tf.expand_dims(hr_image, 0)\n",
    "\n",
    "def downscale_image(image):\n",
    "    \"\"\"\n",
    "    Returns low resolution image after scaling down input image using nearest neighbor downsampling.\n",
    "\n",
    "    Parameter image: 3D of 4D tensor of preprocessed image\n",
    "    Precondition: image is a tensor\n",
    "    \"\"\"\n",
    "    image_size = []\n",
    "    if len(image.shape) == 3:\n",
    "        image_size = [image.shape[1], image.shape[0]]\n",
    "    else:\n",
    "        raise ValueError(\"Dimension mismatch. Can work only on single image.\")\n",
    "\n",
    "    image = tf.squeeze(tf.cast(image, tf.uint8))\n",
    "\n",
    "    lr_image = np.asarray(Image.fromarray(image.numpy()).resize([image_size[0] // 2, image_size[1] // 2]))\n",
    "    lr_image = tf.expand_dims(lr_image, 0)\n",
    "    lr_image = tf.cast(lr_image, tf.float32)\n",
    "    return lr_image"
   ]
  },
  {
   "cell_type": "code",
   "execution_count": 25,
   "id": "worldwide-mozambique",
   "metadata": {},
   "outputs": [
    {
     "name": "stdout",
     "output_type": "stream",
     "text": [
      "LR initial shape: (1, 250, 250, 3)\n",
      "HF initial shape: (1, 1000, 1000, 3)\n",
      "LR final shape: (500, 500)\n",
      "HF final shape: (500, 500)\n"
     ]
    }
   ],
   "source": [
    "path = '../../GOES_Files/npy_files/'\n",
    "file = random.choice(os.listdir(path))\n",
    "image = load_image(path + file)\n",
    "hr_image = preprocess_image(image)\n",
    "lr_image = downscale_image(tf.squeeze(hr_image))\n",
    "print('LR initial shape: {}'.format(lr_image.shape))\n",
    "fake_image = model(lr_image)\n",
    "print('HF initial shape: {}'.format(fake_image.shape))\n",
    "fake_image = tf.squeeze(fake_image)\n",
    "\n",
    "hr_image = tf.squeeze(hr_image).numpy()[:,:,0]\n",
    "lr_image = tf.squeeze(tf.cast(lr_image, tf.uint8))\n",
    "lr_image = np.asarray(Image.fromarray(tf.squeeze(lr_image).numpy()).resize([hr_image.shape[0], hr_image.shape[1]]))[:,:,0]\n",
    "fake_image = resize(fake_image.numpy()[:,:,0], [hr_image.shape[0], hr_image.shape[1]])\n",
    "\n",
    "print('LR final shape: {}'.format(lr_image.shape))\n",
    "print('HF final shape: {}'.format(fake_image.shape))\n",
    "\n",
    "control_mae = mean_absolute_error(hr_image, lr_image)\n",
    "control_rmse = mean_squared_error(hr_image, lr_image, squared=False)\n",
    "\n",
    "mae = mean_absolute_error(hr_image, fake_image)\n",
    "rmse = mean_squared_error(hr_image, fake_image, squared=False)\n",
    "df = {'File': file, 'Band': file[19:21], 'Control_MAE*': control_mae, 'Control_RMSE*': control_rmse, 'MAE': mae, 'RMSE': rmse}"
   ]
  },
  {
   "cell_type": "code",
   "execution_count": 15,
   "id": "stable-mexican",
   "metadata": {},
   "outputs": [
    {
     "data": {
      "text/plain": [
       "{'File': 'OR_ABI-L1b-RadC-M3C13_G17_s20183221412189_e20183221414513_c20183221414540.npy',\n",
       " 'Band': '13',\n",
       " 'Control_MAE*': 4.5757365,\n",
       " 'Control_RMSE*': 17.508064,\n",
       " 'MAE': 3.620645,\n",
       " 'RMSE': 12.232249}"
      ]
     },
     "execution_count": 15,
     "metadata": {},
     "output_type": "execute_result"
    }
   ],
   "source": [
    "df"
   ]
  },
  {
   "cell_type": "code",
   "execution_count": 16,
   "id": "victorian-bride",
   "metadata": {},
   "outputs": [
    {
     "data": {
      "text/plain": [
       "{'File': 'OR_ABI-L1b-RadC-M3C13_G17_s20183221412189_e20183221414513_c20183221414540.npy',\n",
       " 'Band': '13',\n",
       " 'Control_MAE': 0.742452,\n",
       " 'Control_RMSE': 1.0831027}"
      ]
     },
     "execution_count": 16,
     "metadata": {},
     "output_type": "execute_result"
    }
   ],
   "source": [
    "control(path, file)"
   ]
  },
  {
   "cell_type": "code",
   "execution_count": null,
   "id": "balanced-poster",
   "metadata": {},
   "outputs": [],
   "source": []
  }
 ],
 "metadata": {
  "kernelspec": {
   "display_name": "Python 3",
   "language": "python",
   "name": "python3"
  },
  "language_info": {
   "codemirror_mode": {
    "name": "ipython",
    "version": 3
   },
   "file_extension": ".py",
   "mimetype": "text/x-python",
   "name": "python",
   "nbconvert_exporter": "python",
   "pygments_lexer": "ipython3",
   "version": "3.7.9"
  }
 },
 "nbformat": 4,
 "nbformat_minor": 5
}
