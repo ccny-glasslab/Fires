{
 "cells": [
  {
   "cell_type": "code",
   "execution_count": 1,
   "metadata": {},
   "outputs": [],
   "source": [
    "#!pip install tensorflow\n",
    "#!pip install tensorflow_hub\n",
    "import os\n",
    "import time\n",
    "from PIL import Image\n",
    "from skimage import io\n",
    "from skimage.transform import resize\n",
    "from pathlib import Path\n",
    "import numpy as np\n",
    "import pandas as pd\n",
    "import tensorflow as tf\n",
    "import tensorflow_hub as hub\n",
    "import matplotlib.pyplot as plt\n",
    "os.environ[\"TFHUB_DOWNLOAD_PROGRESS\"] = \"True\""
   ]
  },
  {
   "cell_type": "code",
   "execution_count": 2,
   "metadata": {},
   "outputs": [],
   "source": [
    "def png(image):\n",
    "    band = io.imread(image)\n",
    "    band = np.squeeze(band[:,:,0])\n",
    "    GSband = np.zeros((band.shape[0], band.shape[1], 3))\n",
    "    GSband[:,:,0]= band\n",
    "    GSband[:,:,1]= band\n",
    "    GSband[:,:,2]= band\n",
    "    GSband = GSband.astype('uint8')\n",
    "    png = Image.fromarray(GSband)\n",
    "    image = image[:-4]\n",
    "    png.save(image + \".png\")\n",
    "\n",
    "#for filename in os.listdir('Fires/TIFF_Files/CampFire'):\n",
    "#     png(\"Fires/TIFF_Files/CampFire/\" + filename)"
   ]
  },
  {
   "cell_type": "code",
   "execution_count": 3,
   "metadata": {},
   "outputs": [],
   "source": [
    "SAVED_MODEL_PATH = \"https://tfhub.dev/captain-pool/esrgan-tf2/1\"\n",
    "model = hub.load(SAVED_MODEL_PATH)"
   ]
  },
  {
   "cell_type": "code",
   "execution_count": 4,
   "metadata": {},
   "outputs": [],
   "source": [
    "def preprocess_image(image_path):\n",
    "  hr_image = tf.image.decode_image(tf.io.read_file(image_path))\n",
    "  if hr_image.shape[-1] == 4:\n",
    "    hr_image = hr_image[...,:-1]\n",
    "  hr_size = (tf.convert_to_tensor(hr_image.shape[:-1]) // 2) * 2\n",
    "  hr_image = tf.image.crop_to_bounding_box(hr_image, 0, 0, hr_size[0], hr_size[1])\n",
    "  hr_image = tf.cast(hr_image, tf.float32)\n",
    "  return tf.expand_dims(hr_image, 0)\n",
    "\n",
    "def downscale_image(image):\n",
    "  image_size = []\n",
    "  if len(image.shape) == 3:\n",
    "    image_size = [image.shape[1], image.shape[0]]\n",
    "  else:\n",
    "    raise ValueError(\"Dimension mismatch. Can work only on single image.\")\n",
    "  image = tf.squeeze(tf.cast(tf.clip_by_value(image, 0, 255), tf.uint8))\n",
    "  lr_image = np.asarray(Image.fromarray(image.numpy()).resize([image_size[0] // 2, image_size[1] // 2],Image.BICUBIC))\n",
    "  lr_image = tf.expand_dims(lr_image, 0)\n",
    "  lr_image = tf.cast(lr_image, tf.float32)\n",
    "  return lr_image"
   ]
  },
  {
   "cell_type": "code",
   "execution_count": 5,
   "metadata": {},
   "outputs": [],
   "source": [
    "table = []\n",
    "\n",
    "hr_image = 0\n",
    "fake_image = 0"
   ]
  },
  {
   "cell_type": "code",
   "execution_count": 13,
   "metadata": {},
   "outputs": [],
   "source": [
    "def m_learning(fileID, band):\n",
    "    \n",
    "    hr_image = preprocess_image(fileID)\n",
    "    hr_image = tf.squeeze(hr_image)\n",
    "    lr_image = downscale_image(hr_image)\n",
    "    fake_image = model(lr_image)\n",
    "    fake_image = tf.squeeze(fake_image)\n",
    "    fake_image = resize(fake_image, (556, 540, 3))\n",
    "    print('done')\n",
    "    \n",
    "    abs_error = abs(hr_image - fake_image)\n",
    "    mean = np.mean(abs_error)\n",
    "    rmse = np.sqrt(np.mean((hr_image - fake_image)**2))\n",
    "    table.append({'Filename': fileID,'Band': band,'Mean': mean, 'RMSE': rmse})\n",
    "    \n",
    "    return pd.DataFrame(table)"
   ]
  },
  {
   "cell_type": "code",
   "execution_count": 16,
   "metadata": {},
   "outputs": [],
   "source": [
    "#df07 = pd.concat(m_learning(str(file), '07') for file in Path('Fires/Machine Learning/PNGs/').glob('GOES-17_ABI_RadC_C07*'))\n",
    "#df14 = pd.concat(m_learning(str(file), '14') for file in Path('Fires/Machine Learning/PNGs/').glob('GOES-17_ABI_RadC_C14*'))"
   ]
  },
  {
   "cell_type": "code",
   "execution_count": 18,
   "metadata": {},
   "outputs": [],
   "source": [
    "df_all = pd.concat([df14, df07])\n",
    "#df_all.to_csv('data.csv')"
   ]
  },
  {
   "cell_type": "code",
   "execution_count": 19,
   "metadata": {},
   "outputs": [],
   "source": [
    "x = df_all.groupby(['Band']).mean()"
   ]
  },
  {
   "cell_type": "code",
   "execution_count": 20,
   "metadata": {},
   "outputs": [
    {
     "data": {
      "text/html": [
       "<div>\n",
       "<style scoped>\n",
       "    .dataframe tbody tr th:only-of-type {\n",
       "        vertical-align: middle;\n",
       "    }\n",
       "\n",
       "    .dataframe tbody tr th {\n",
       "        vertical-align: top;\n",
       "    }\n",
       "\n",
       "    .dataframe thead th {\n",
       "        text-align: right;\n",
       "    }\n",
       "</style>\n",
       "<table border=\"1\" class=\"dataframe\">\n",
       "  <thead>\n",
       "    <tr style=\"text-align: right;\">\n",
       "      <th></th>\n",
       "      <th>Mean</th>\n",
       "      <th>RMSE</th>\n",
       "    </tr>\n",
       "    <tr>\n",
       "      <th>Band</th>\n",
       "      <th></th>\n",
       "      <th></th>\n",
       "    </tr>\n",
       "  </thead>\n",
       "  <tbody>\n",
       "    <tr>\n",
       "      <th>07</th>\n",
       "      <td>1.342072</td>\n",
       "      <td>1.864966</td>\n",
       "    </tr>\n",
       "    <tr>\n",
       "      <th>14</th>\n",
       "      <td>1.657210</td>\n",
       "      <td>2.484322</td>\n",
       "    </tr>\n",
       "  </tbody>\n",
       "</table>\n",
       "</div>"
      ],
      "text/plain": [
       "          Mean      RMSE\n",
       "Band                    \n",
       "07    1.342072  1.864966\n",
       "14    1.657210  2.484322"
      ]
     },
     "execution_count": 20,
     "metadata": {},
     "output_type": "execute_result"
    }
   ],
   "source": [
    "x"
   ]
  },
  {
   "cell_type": "code",
   "execution_count": null,
   "metadata": {},
   "outputs": [],
   "source": []
  }
 ],
 "metadata": {
  "kernelspec": {
   "display_name": "Python 3",
   "language": "python",
   "name": "python3"
  },
  "language_info": {
   "codemirror_mode": {
    "name": "ipython",
    "version": 3
   },
   "file_extension": ".py",
   "mimetype": "text/x-python",
   "name": "python",
   "nbconvert_exporter": "python",
   "pygments_lexer": "ipython3",
   "version": "3.8.3"
  }
 },
 "nbformat": 4,
 "nbformat_minor": 4
}
