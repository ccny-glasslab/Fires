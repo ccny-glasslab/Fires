{
 "cells": [
  {
   "cell_type": "code",
   "execution_count": 15,
   "metadata": {},
   "outputs": [],
   "source": [
    "import os\n",
    "import time\n",
    "import random\n",
    "from PIL import Image\n",
    "from skimage import io\n",
    "from skimage.transform import resize\n",
    "from sklearn.metrics import mean_absolute_error\n",
    "from sklearn.metrics import mean_squared_error\n",
    "from pathlib import Path\n",
    "import numpy as np\n",
    "import pandas as pd\n",
    "import tensorflow as tf\n",
    "import tensorflow_hub as hub\n",
    "import matplotlib.pyplot as plt\n",
    "\n",
    "MAE = tf.keras.losses.MeanAbsoluteError()\n",
    "MSE = tf.keras.losses.MeanSquaredError()"
   ]
  },
  {
   "cell_type": "code",
   "execution_count": 2,
   "metadata": {},
   "outputs": [],
   "source": [
    "SAVED_MODEL_PATH = \"https://tfhub.dev/captain-pool/esrgan-tf2/1\"\n",
    "model = hub.load(SAVED_MODEL_PATH)"
   ]
  },
  {
   "cell_type": "code",
   "execution_count": 3,
   "metadata": {},
   "outputs": [],
   "source": [
    "def png(image, in_path, out_path):\n",
    "    band = np.load(in_path + image)\n",
    "    GSband = np.zeros((band.shape[0], band.shape[1], 3))\n",
    "    GSband[:,:,0]= band\n",
    "    GSband[:,:,1]= band\n",
    "    GSband[:,:,2]= band\n",
    "    GSband = GSband.astype('uint8')\n",
    "    png = Image.fromarray(GSband)\n",
    "    image = image[:-4]\n",
    "    png.save(out_path + image + \".png\")\n",
    "\n",
    "def random_pngs():\n",
    "path = '../../GOES_Files/diff_files/'\n",
    "for x in range(20):\n",
    "    file = random.choice(os.listdir(path))\n",
    "    png(file, path, '../../GOES_Files/png_files/')"
   ]
  },
  {
   "cell_type": "code",
   "execution_count": 14,
   "metadata": {},
   "outputs": [],
   "source": [
    "# random_pngs()"
   ]
  },
  {
   "cell_type": "code",
   "execution_count": 42,
   "metadata": {},
   "outputs": [],
   "source": [
    "def preprocess_image(image_path):\n",
    "    #need to divide values\n",
    "    hr_image = tf.image.decode_image(tf.io.read_file(image_path))\n",
    "    if hr_image.shape[-1] == 4:\n",
    "        hr_image = hr_image[...,:-1]\n",
    "    hr_size = (tf.convert_to_tensor(hr_image.shape[:-1]) // 2) * 2\n",
    "    hr_image = tf.image.crop_to_bounding_box(hr_image, 0, 0, hr_size[0], hr_size[1])\n",
    "    hr_image = tf.cast(hr_image, tf.float32)\n",
    "    return tf.expand_dims(hr_image, 0)\n",
    "\n",
    "def downscale_image(image):\n",
    "    image_size = []\n",
    "    if len(image.shape) == 3:\n",
    "        image_size = [image.shape[1], image.shape[0]]\n",
    "    else:\n",
    "        raise ValueError(\"Dimension mismatch. Can work only on single image.\")\n",
    "\n",
    "    image = tf.squeeze(tf.cast(tf.clip_by_value(image, 0, 255), tf.uint8))\n",
    "\n",
    "    lr_image = np.asarray(\n",
    "#     Image.fromarray(image.numpy()).resize([image_size[0] // 4, image_size[1] // 4], Image.BICUBIC))\n",
    "    Image.fromarray(image.numpy()).resize([image_size[0] // 2, image_size[1] // 2], Image.NEAREST))\n",
    "\n",
    "    lr_image = tf.expand_dims(lr_image, 0)\n",
    "    lr_image = tf.cast(lr_image, tf.float32)\n",
    "    return lr_image\n",
    "\n",
    "\n",
    "def m_learning(fileID):\n",
    "    band = fileID[-58:-56]\n",
    "    hr_image = preprocess_image(fileID)\n",
    "    hr_image = tf.squeeze(hr_image)\n",
    "    lr_image = downscale_image(hr_image)\n",
    "    fake_image = model(lr_image)\n",
    "    fake_image = tf.squeeze(fake_image)\n",
    "    fake_image = resize(fake_image, (500, 500, 3))\n",
    "    lr_image = resize(tf.squeeze(lr_image), (500, 500, 3))\n",
    "\n",
    "#     controlmae = np.sum(resize(tf.squeeze(lr_image), (500, 500, 3)) - hr_image)/(500*500)\n",
    "#     controlrmse = np.sqrt(np.sum((resize(tf.squeeze(lr_image), (500, 500, 3)) - hr_image)**2)/(500*500))\n",
    "#     mae = np.sum(fake_image - hr_image)/(500*500)\n",
    "#     rmse = np.sqrt(np.sum(fake_image - hr_image)**2)/(500*500)\n",
    "    \n",
    "    controlmae = MAE(hr_image, lr_image).numpy()\n",
    "    controlrmse = np.sqrt(MSE(hr_image, lr_image).numpy())\n",
    "    mae = MAE(hr_image, fake_image).numpy()\n",
    "    rmse = np.sqrt(MSE(hr_image, fake_image).numpy())\n",
    "    \n",
    "    table.append({'File': fileID, 'Control MAE': controlmae, 'Control RMSE': controlrmse, 'MAE': mae, 'RMSE': rmse})"
   ]
  },
  {
   "cell_type": "code",
   "execution_count": 43,
   "metadata": {},
   "outputs": [
    {
     "name": "stdout",
     "output_type": "stream",
     "text": [
      ".ipynb_checkpoints\n"
     ]
    }
   ],
   "source": [
    "table = []\n",
    "path = '../../GOES_Files/png_files/'\n",
    "for file in os.listdir(path):\n",
    "    try:\n",
    "        m_learning(path + file)\n",
    "    except:\n",
    "        print(file)"
   ]
  },
  {
   "cell_type": "code",
   "execution_count": 44,
   "metadata": {},
   "outputs": [
    {
     "data": {
      "text/plain": [
       "Control MAE      5.551455\n",
       "Control RMSE    20.539092\n",
       "MAE              9.448898\n",
       "RMSE            30.639948\n",
       "dtype: float64"
      ]
     },
     "execution_count": 44,
     "metadata": {},
     "output_type": "execute_result"
    }
   ],
   "source": [
    "x = pd.DataFrame(table)\n",
    "agg_function = {'Control MAE': 'mean', 'Control RMSE': 'mean', 'MAE': 'mean', 'RMSE': 'mean'}\n",
    "y = x.agg(agg_function)\n",
    "y"
   ]
  },
  {
   "cell_type": "code",
   "execution_count": null,
   "metadata": {},
   "outputs": [],
   "source": []
  }
 ],
 "metadata": {
  "kernelspec": {
   "display_name": "Python 3",
   "language": "python",
   "name": "python3"
  },
  "language_info": {
   "codemirror_mode": {
    "name": "ipython",
    "version": 3
   },
   "file_extension": ".py",
   "mimetype": "text/x-python",
   "name": "python",
   "nbconvert_exporter": "python",
   "pygments_lexer": "ipython3",
   "version": "3.7.9"
  }
 },
 "nbformat": 4,
 "nbformat_minor": 4
}
