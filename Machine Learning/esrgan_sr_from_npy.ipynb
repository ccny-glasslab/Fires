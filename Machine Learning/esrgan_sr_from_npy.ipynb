{
 "cells": [
  {
   "cell_type": "code",
   "execution_count": 40,
   "metadata": {},
   "outputs": [],
   "source": [
    "import os\n",
    "import time\n",
    "from PIL import Image\n",
    "from skimage import io\n",
    "from skimage.transform import resize\n",
    "from sklearn.metrics import mean_absolute_error\n",
    "from sklearn.metrics import mean_squared_error\n",
    "from pathlib import Path\n",
    "import numpy as np\n",
    "import pandas as pd\n",
    "import tensorflow as tf\n",
    "import tensorflow_hub as hub\n",
    "import matplotlib.pyplot as plt\n",
    "os.environ[\"TFHUB_DOWNLOAD_PROGRESS\"] = \"True\""
   ]
  },
  {
   "cell_type": "code",
   "execution_count": 14,
   "metadata": {},
   "outputs": [
    {
     "name": "stdout",
     "output_type": "stream",
     "text": [
      "Downloaded https://tfhub.dev/captain-pool/esrgan-tf2/1, Total size: 20.60MB\n",
      "\n"
     ]
    }
   ],
   "source": [
    "SAVED_MODEL_PATH = \"https://tfhub.dev/captain-pool/esrgan-tf2/1\"\n",
    "model = hub.load(SAVED_MODEL_PATH)"
   ]
  },
  {
   "cell_type": "code",
   "execution_count": 36,
   "metadata": {},
   "outputs": [],
   "source": [
    "def png(image, in_path, out_path):\n",
    "    band = np.load(in_path + image)\n",
    "    GSband = np.zeros((band.shape[0], band.shape[1], 3))\n",
    "    GSband[:,:,0]= band\n",
    "    GSband[:,:,1]= band\n",
    "    GSband[:,:,2]= band\n",
    "    GSband = GSband.astype('uint8')\n",
    "    png = Image.fromarray(GSband)\n",
    "    image = image[:-4]\n",
    "    png.save(out_path + image + \".png\")"
   ]
  },
  {
   "cell_type": "code",
   "execution_count": 38,
   "metadata": {},
   "outputs": [
    {
     "name": "stdout",
     "output_type": "stream",
     "text": [
      ".ipynb_checkpoints\n"
     ]
    }
   ],
   "source": [
    "path = '../../GOES_Files/npy_files/'\n",
    "for file in os.listdir(path):\n",
    "    try:\n",
    "        png(file, path, '../../GOES_Files/png_files/')\n",
    "    except:\n",
    "        print(file)"
   ]
  },
  {
   "cell_type": "code",
   "execution_count": 119,
   "metadata": {},
   "outputs": [],
   "source": [
    "def preprocess_image(image_path):\n",
    "    hr_image = tf.image.decode_image(tf.io.read_file(image_path))\n",
    "    if hr_image.shape[-1] == 4:\n",
    "        hr_image = hr_image[...,:-1]\n",
    "    hr_size = (tf.convert_to_tensor(hr_image.shape[:-1]) // 4) * 4\n",
    "    hr_image = tf.image.crop_to_bounding_box(hr_image, 0, 0, hr_size[0], hr_size[1])\n",
    "    hr_image = tf.cast(hr_image, tf.float32)\n",
    "    return tf.expand_dims(hr_image, 0)\n",
    "\n",
    "def downscale_image(image):\n",
    "    image_size = []\n",
    "    if len(image.shape) == 3:\n",
    "        image_size = [image.shape[1], image.shape[0]]\n",
    "    else:\n",
    "        raise ValueError(\"Dimension mismatch. Can work only on single image.\")\n",
    "\n",
    "    image = tf.squeeze(\n",
    "      tf.cast(tf.clip_by_value(image, 0, 255), tf.uint8))\n",
    "\n",
    "    lr_image = np.asarray(\n",
    "    Image.fromarray(image.numpy()).resize([image_size[0] // 4, image_size[1] // 4],\n",
    "              Image.BICUBIC))\n",
    "\n",
    "    lr_image = tf.expand_dims(lr_image, 0)\n",
    "    lr_image = tf.cast(lr_image, tf.float32)\n",
    "    return lr_image\n",
    "\n",
    "\n",
    "def m_learning(fileID):\n",
    "    band = fileID[-58:-56]\n",
    "    hr_image = preprocess_image(fileID)\n",
    "    hr_image = tf.squeeze(hr_image)\n",
    "    lr_image = downscale_image(hr_image)\n",
    "    fake_image = model(lr_image)\n",
    "    fake_image = tf.squeeze(fake_image)\n",
    "    fake_image = resize(fake_image, (500, 500, 3))\n",
    "\n",
    "    controlmae = np.sum(resize(tf.squeeze(lr_image), (500, 500, 3)) - hr_image)/(500*500)\n",
    "    controlrmse = np.sqrt(np.sum((resize(tf.squeeze(lr_image), (500, 500, 3)) - hr_image)**2)/(500*500))\n",
    "    mae = np.sum(fake_image - hr_image)/(500*500)\n",
    "    rmse = np.sqrt(np.sum(fake_image - hr_image)**2)/(500*500)\n",
    "    table.append({'File': fileID, 'Band': band, 'Control MAE': controlmae, 'Control RMSE': controlrmse, 'MAE': mae, 'RMSE': rmse})"
   ]
  },
  {
   "cell_type": "code",
   "execution_count": 120,
   "metadata": {},
   "outputs": [],
   "source": [
    "table = []\n",
    "path = '../../GOES_Files/png_files/'\n",
    "for file in os.listdir(path):\n",
    "    m_learning(path + file)\n"
   ]
  },
  {
   "cell_type": "code",
   "execution_count": 124,
   "metadata": {},
   "outputs": [
    {
     "data": {
      "text/html": [
       "<div>\n",
       "<style scoped>\n",
       "    .dataframe tbody tr th:only-of-type {\n",
       "        vertical-align: middle;\n",
       "    }\n",
       "\n",
       "    .dataframe tbody tr th {\n",
       "        vertical-align: top;\n",
       "    }\n",
       "\n",
       "    .dataframe thead th {\n",
       "        text-align: right;\n",
       "    }\n",
       "</style>\n",
       "<table border=\"1\" class=\"dataframe\">\n",
       "  <thead>\n",
       "    <tr style=\"text-align: right;\">\n",
       "      <th></th>\n",
       "      <th>Control MAE</th>\n",
       "      <th>Control RMSE</th>\n",
       "      <th>MAE</th>\n",
       "      <th>RMSE</th>\n",
       "    </tr>\n",
       "    <tr>\n",
       "      <th>Band</th>\n",
       "      <th></th>\n",
       "      <th></th>\n",
       "      <th></th>\n",
       "      <th></th>\n",
       "    </tr>\n",
       "  </thead>\n",
       "  <tbody>\n",
       "    <tr>\n",
       "      <th>07</th>\n",
       "      <td>-0.015682</td>\n",
       "      <td>20.902448</td>\n",
       "      <td>-3.022498</td>\n",
       "      <td>3.022498</td>\n",
       "    </tr>\n",
       "    <tr>\n",
       "      <th>14</th>\n",
       "      <td>-0.017081</td>\n",
       "      <td>42.954432</td>\n",
       "      <td>-4.137238</td>\n",
       "      <td>4.137238</td>\n",
       "    </tr>\n",
       "  </tbody>\n",
       "</table>\n",
       "</div>"
      ],
      "text/plain": [
       "      Control MAE  Control RMSE       MAE      RMSE\n",
       "Band                                               \n",
       "07      -0.015682     20.902448 -3.022498  3.022498\n",
       "14      -0.017081     42.954432 -4.137238  4.137238"
      ]
     },
     "execution_count": 124,
     "metadata": {},
     "output_type": "execute_result"
    }
   ],
   "source": [
    "x = pd.DataFrame(table)\n",
    "agg_function = {'Control MAE': 'mean', 'Control RMSE': 'mean', 'MAE': 'mean', 'RMSE': 'mean'}\n",
    "y = x.groupby(x['Band']).agg(agg_function)\n",
    "y"
   ]
  }
 ],
 "metadata": {
  "kernelspec": {
   "display_name": "Python 3",
   "language": "python",
   "name": "python3"
  },
  "language_info": {
   "codemirror_mode": {
    "name": "ipython",
    "version": 3
   },
   "file_extension": ".py",
   "mimetype": "text/x-python",
   "name": "python",
   "nbconvert_exporter": "python",
   "pygments_lexer": "ipython3",
   "version": "3.8.5"
  }
 },
 "nbformat": 4,
 "nbformat_minor": 4
}
