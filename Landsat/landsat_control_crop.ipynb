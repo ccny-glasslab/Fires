{
 "cells": [
  {
   "cell_type": "code",
   "execution_count": 46,
   "id": "quick-financing",
   "metadata": {},
   "outputs": [],
   "source": [
    "import matplotlib.pyplot as plt\n",
    "import numpy as np\n",
    "import os\n",
    "import random\n",
    "import cartopy.crs as ccrs\n",
    "from pyresample import geometry, grid\n",
    "import pyresample\n",
    "import matplotlib.pyplot as plt\n",
    "import datetime\n",
    "import metpy\n",
    "import datetime\n",
    "import xarray as xr\n",
    "from pyresample import geometry, grid\n",
    "import cartopy.crs as ccrs\n",
    "from sklearn.metrics import mean_squared_error\n",
    "import math\n",
    "from skimage.transform import resize\n",
    "from skimage.transform import resize_local_mean\n",
    "import tensorflow as tf\n",
    "import tensorflow_hub as hub\n",
    "from skimage.filters import laplace\n",
    "from skimage.filters import unsharp_mask\n",
    "\n",
    "model = hub.load(\"https://tfhub.dev/captain-pool/esrgan-tf2/1\")\n",
    "random.seed(42)\n",
    "\n",
    "from sharpening_functions import *\n",
    "from cropping_functions import *"
   ]
  },
  {
   "cell_type": "code",
   "execution_count": 125,
   "id": "waiting-curve",
   "metadata": {},
   "outputs": [],
   "source": [
    "pc = ccrs.PlateCarree()\n",
    "pc_params = pc.proj4_params\n",
    "shape = [500, 500]\n",
    "pc_extents = [-124.25, 32.25, -114.25, 42.25]\n",
    "target_area = geometry.AreaDefinition.from_extent('CA', pc_params, shape, pc_extents)\n",
    "\n",
    "goes_path = '../landsat_files/'\n",
    "landsat_path = '../landsat_files/landsat_files/'\n",
    "\n",
    "day1 = {'goes':'2021240', 'landsat':'20210828'}\n",
    "day2 = {'goes':'2021247', 'landsat':'20210904'}\n",
    "\n",
    "a1 = {'day':day1, 'loc':'A', 'lat_0':40.49, 'lon_0':-121.45, 'lat_f':40.650000000000006, 'lon_f':-121.17}\n",
    "b1 = {'day':day1, 'loc':'B', 'lat_0':39.91, 'lon_0':-120.97, 'lat_f':40.13, 'lon_f':-120.49000000000001}\n",
    "a2 = {'day':day2, 'loc':'A', 'lat_0':40.707499999999996, 'lon_0':-123.4325, 'lat_f':41.1325, 'lon_f':-122.7075}\n",
    "b2 = {'day':day2, 'loc':'B', 'lat_0':41.027499999999996, 'lon_0':-123.0925, 'lat_f':41.31250000000001, 'lon_f':-122.6875}\n",
    "\n",
    "subsets = [a1, b1, a2, b2]"
   ]
  },
  {
   "cell_type": "code",
   "execution_count": 126,
   "id": "independent-people",
   "metadata": {},
   "outputs": [],
   "source": [
    "subset = a1\n",
    "\n",
    "for file in os.listdir(landsat_path):\n",
    "    if file[17:25] == subset['day']['landsat'] and file[48:] == 'BT3.9_grid' + subset['loc'] + 'cent0.02deg.npy':\n",
    "        landsat_img_039 = np.flipud(np.load(landsat_path + file))\n",
    "    if file[17:25] == subset['day']['landsat'] and file[48:] == 'BT10.3_grid' + subset['loc'] + 'cent0.02deg.npy':\n",
    "        landsat_img_103 = np.flipud(np.load(landsat_path + file))\n",
    "    if file[17:25] == subset['day']['landsat'] and file[48:] == 'BT3.9_grid' + subset['loc'] + 'cent0.01deg.npy':\n",
    "        new_landsat_img_039 = np.flipud(np.load(landsat_path + file))\n",
    "    if file[17:25] == subset['day']['landsat'] and file[48:] == 'BT10.3_grid' + subset['loc'] + 'cent0.01deg.npy':\n",
    "        new_landsat_img_103 = np.flipud(np.load(landsat_path + file))\n",
    "\n",
    "for file in os.listdir(goes_path):\n",
    "    if file[:34] == 'OR_ABI-L1b-RadC-M6C07_G17_s' + subset['day']['goes']:\n",
    "        goes_img_039 = np.load(goes_path + file)\n",
    "    if file[:34] == 'OR_ABI-L1b-RadC-M6C14_G17_s' + subset['day']['goes']:\n",
    "        goes_img_103 = np.load(goes_path + file)\n",
    "\n",
    "new_landsat_diff = new_landsat_img_039 - new_landsat_img_103\n",
    "subset['landsat_diff'] = new_landsat_diff\n",
    "subset['landsat_img_039'] = new_landsat_img_039\n",
    "subset['landsat_img_103'] = new_landsat_img_103"
   ]
  },
  {
   "cell_type": "code",
   "execution_count": 127,
   "id": "according-column",
   "metadata": {},
   "outputs": [],
   "source": [
    "latslons(subset)\n",
    "pixshifts(subset)"
   ]
  },
  {
   "cell_type": "code",
   "execution_count": 128,
   "id": "acting-density",
   "metadata": {},
   "outputs": [],
   "source": [
    "for file in os.listdir(landsat_path):\n",
    "    if file[17:25] == subset['day']['landsat'] and file[48:] == 'BT3.9_grid' + subset['loc'] + 'cent0.02deg.npy':\n",
    "        landsat_img_039 = np.flipud(np.load(landsat_path + file))\n",
    "    if file[17:25] == subset['day']['landsat'] and file[48:] == 'BT10.3_grid' + subset['loc'] + 'cent0.02deg.npy':\n",
    "        landsat_img_103 = np.flipud(np.load(landsat_path + file))\n",
    "    if file[17:25] == subset['day']['landsat'] and file[48:] == 'BT3.9_grid' + subset['loc'] + 'cent0.01deg.npy':\n",
    "        new_landsat_img_039 = np.flipud(np.load(landsat_path + file))\n",
    "    if file[17:25] == subset['day']['landsat'] and file[48:] == 'BT10.3_grid' + subset['loc'] + 'cent0.01deg.npy':\n",
    "        new_landsat_img_103 = np.flipud(np.load(landsat_path + file))\n",
    "\n",
    "for file in os.listdir(goes_path):\n",
    "    if file[:34] == 'OR_ABI-L1b-RadC-M6C07_G17_s' + subset['day']['goes']:\n",
    "        goes_img_039 = np.load(goes_path + file)\n",
    "    if file[:34] == 'OR_ABI-L1b-RadC-M6C14_G17_s' + subset['day']['goes']:\n",
    "        goes_img_103 = np.load(goes_path + file)\n",
    "\n",
    "new_landsat_diff = new_landsat_img_039 - new_landsat_img_103\n",
    "subset['landsat_diff'] = new_landsat_diff\n",
    "subset['landsat_img_039'] = new_landsat_img_039\n",
    "subset['landsat_img_103'] = new_landsat_img_103\n",
    "\n",
    "goes_img_expanded_039 = expand(landsat_img_039, goes_img_039, subset['shift'][0], subset['shift'][1], subset['lats'], subset['lons'])\n",
    "goes_img_expanded_103 = expand(landsat_img_103, goes_img_103, subset['shift'][0], subset['shift'][1], subset['lats'], subset['lons'])"
   ]
  },
  {
   "cell_type": "code",
   "execution_count": 129,
   "id": "manual-training",
   "metadata": {},
   "outputs": [
    {
     "data": {
      "text/plain": [
       "(12, 18)"
      ]
     },
     "execution_count": 129,
     "metadata": {},
     "output_type": "execute_result"
    }
   ],
   "source": [
    "goes_img_expanded_039.shape"
   ]
  },
  {
   "cell_type": "code",
   "execution_count": 130,
   "id": "disabled-lesbian",
   "metadata": {},
   "outputs": [],
   "source": [
    "def shiftPixels_old(refimg, newimg_full, lats=None, lons=None):\n",
    "    assert refimg.shape[0] <= newimg_full.shape[0]\n",
    "    assert refimg.shape[1] <= newimg_full.shape[1]\n",
    "    \n",
    "    if lats != None or lons != None:\n",
    "        newimg = newimg_full[lats[0]:lats[1], lons[0]:lons[1]]\n",
    "    else:\n",
    "        newimg = newimg_full.copy()\n",
    "    \n",
    "    nx = 0\n",
    "    ny = 0\n",
    "    \n",
    "    x_add = 0\n",
    "    y_add = 0\n",
    "        \n",
    "    while refimg.shape != newimg.shape:\n",
    "        if refimg.shape[0] > newimg.shape[0]:\n",
    "            x_add += 1\n",
    "            nx += 1\n",
    "        elif refimg.shape[0] < newimg.shape[0]:\n",
    "            x_add -= 1\n",
    "            nx += 1\n",
    "        if refimg.shape[1] > newimg.shape[1]:\n",
    "            y_add += 1\n",
    "            ny += 1\n",
    "        elif refimg.shape[1] < newimg.shape[1]:\n",
    "            y_add -= 1\n",
    "            ny += 1\n",
    "        \n",
    "        if lats != None or lons != None:\n",
    "            newimg = newimg_full[lats[0]:lats[1] + nx, lons[0]:lons[1] + ny]\n",
    "        else:\n",
    "            newimg = newimg_full[:(newimg.shape[0] + x_add), :(newimg.shape[1] + y_add)]\n",
    "    \n",
    "    if lats != None or lons != None:\n",
    "        lats[1] += x_add\n",
    "        lons[1] += y_add\n",
    "\n",
    "    nx = 1\n",
    "    ny = 1\n",
    "    x_shift = np.arange(-nx, nx+1)\n",
    "    y_shift = np.arange(-ny, ny+1)\n",
    "    scores = []\n",
    "    \n",
    "    for x in x_shift:\n",
    "        for y in y_shift:\n",
    "            if lats != None or lons != None:\n",
    "                testimg = newimg_full[lats[0]+x:lats[1]+x+1, lons[0]+y:lons[1]+y+1]\n",
    "            else:\n",
    "                testimg = newimg_full[abs(x):(newimg.shape[0]+abs(x)), abs(y):(newimg.shape[1]+abs(y))]\n",
    "            scores.append([x, y, np.corrcoef(refimg.flatten(), testimg.flatten())[0, 1]])\n",
    "          \n",
    "    max_score = 0\n",
    "    min_score_index = 0\n",
    "    \n",
    "    for score_index in range(len(scores)-1):\n",
    "        score = scores[score_index][-1]\n",
    "        if abs(score) > abs(max_score):\n",
    "            max_score = score\n",
    "            max_score_index = score_index\n",
    "            \n",
    "    min_x, min_y, max_score = scores[max_score_index]\n",
    "    print(min_x, min_y)\n",
    "    if lats != None or lons != None:\n",
    "        return newimg_full[lats[0]+min_x:lats[1]+min_x, lons[0]+min_y:lons[1]+min_y]\n",
    "    return newimg_full[abs(min_x):(newimg.shape[0] + abs(min_x)), abs(min_y):(newimg.shape[1] + abs(min_y))]"
   ]
  },
  {
   "cell_type": "code",
   "execution_count": 131,
   "id": "associate-technician",
   "metadata": {},
   "outputs": [],
   "source": [
    "def control_img(img):\n",
    "    from skimage.transform import resize\n",
    "    height, width = img.shape\n",
    "    control = resize(img, (2*height, 2*width))\n",
    "    return control"
   ]
  },
  {
   "cell_type": "code",
   "execution_count": 154,
   "id": "swiss-touch",
   "metadata": {},
   "outputs": [],
   "source": [
    "subset=a1"
   ]
  },
  {
   "cell_type": "markdown",
   "id": "standard-knitting",
   "metadata": {},
   "source": [
    "## 3.9 and 10.3 have different shifts, one the same as diff and one different"
   ]
  },
  {
   "cell_type": "code",
   "execution_count": 147,
   "id": "together-olive",
   "metadata": {},
   "outputs": [
    {
     "data": {
      "text/plain": [
       "[-1, 0]"
      ]
     },
     "execution_count": 147,
     "metadata": {},
     "output_type": "execute_result"
    }
   ],
   "source": [
    "a1['shift']"
   ]
  },
  {
   "cell_type": "code",
   "execution_count": 155,
   "id": "million-sandwich",
   "metadata": {},
   "outputs": [
    {
     "name": "stdout",
     "output_type": "stream",
     "text": [
      "0 0\n",
      "0 -1\n"
     ]
    }
   ],
   "source": [
    "control1_goes_img_039 = shiftPixels_old(new_landsat_img_039, control_img(goes_img_expanded_039))\n",
    "control1_goes_img_103 = shiftPixels_old(new_landsat_img_103, control_img(goes_img_expanded_103))"
   ]
  },
  {
   "cell_type": "code",
   "execution_count": 157,
   "id": "noted-stuff",
   "metadata": {},
   "outputs": [],
   "source": [
    "control_goes_img_039 = shiftPixels(new_landsat_img_039, control_img(goes_img_expanded_039), subset['shift'][0], subset['shift'][1])\n",
    "control_goes_img_103 = shiftPixels(new_landsat_img_103, control_img(goes_img_expanded_103), subset['shift'][0], subset['shift'][1])"
   ]
  },
  {
   "cell_type": "code",
   "execution_count": 163,
   "id": "front-reservoir",
   "metadata": {},
   "outputs": [],
   "source": [
    "control2_goes_img_039 = shiftPixels(new_landsat_img_039, control_img(goes_img_expanded_039), 0, 0)\n",
    "control2_goes_img_103 = shiftPixels(new_landsat_img_103, control_img(goes_img_expanded_103), 0, 0)"
   ]
  },
  {
   "cell_type": "code",
   "execution_count": 158,
   "id": "joined-moscow",
   "metadata": {},
   "outputs": [],
   "source": [
    "control_goes_diff = control_goes_img_039 - control_goes_img_103\n",
    "control_goes_img_039 = control_goes_img_039\n",
    "control_goes_img_039[control_goes_img_039 > 373] = 373\n",
    "control_goes_img_103 = control_goes_img_103"
   ]
  },
  {
   "cell_type": "code",
   "execution_count": 165,
   "id": "designing-deviation",
   "metadata": {},
   "outputs": [],
   "source": [
    "control2_goes_diff = control2_goes_img_039 - control2_goes_img_103\n",
    "control2_goes_img_039 = control2_goes_img_039\n",
    "control2_goes_img_039[control2_goes_img_039 > 373] = 373\n",
    "control2_goes_img_103 = control2_goes_img_103"
   ]
  },
  {
   "cell_type": "code",
   "execution_count": 160,
   "id": "informative-active",
   "metadata": {},
   "outputs": [],
   "source": [
    "def results(refimg, newimg, title):\n",
    "    print(title + \" correlation coefficient: \" + str(np.corrcoef(refimg.ravel(), newimg.ravel())[0, 1]))\n",
    "    print(title + \" rmse: \" + str(math.sqrt(np.square(refimg - newimg).mean())))\n",
    "    return [abs(np.corrcoef(refimg, newimg).mean()), math.sqrt(np.square(refimg - newimg).mean())/50]"
   ]
  },
  {
   "cell_type": "code",
   "execution_count": 161,
   "id": "multiple-impact",
   "metadata": {},
   "outputs": [
    {
     "name": "stdout",
     "output_type": "stream",
     "text": [
      "Control correlation coefficient: 0.27918191477907506\n",
      "Control rmse: 7.286482451154725\n"
     ]
    },
    {
     "data": {
      "text/plain": [
       "[0.16816526082856706, 0.1457296490230945]"
      ]
     },
     "execution_count": 161,
     "metadata": {},
     "output_type": "execute_result"
    }
   ],
   "source": [
    "results(subset['landsat_diff'], control_goes_diff, 'Control')"
   ]
  },
  {
   "cell_type": "code",
   "execution_count": 166,
   "id": "closed-anaheim",
   "metadata": {},
   "outputs": [
    {
     "name": "stdout",
     "output_type": "stream",
     "text": [
      "Control correlation coefficient: 0.28750096294123967\n",
      "Control rmse: 7.214067241979874\n"
     ]
    },
    {
     "data": {
      "text/plain": [
       "[0.17809986745898437, 0.14428134483959748]"
      ]
     },
     "execution_count": 166,
     "metadata": {},
     "output_type": "execute_result"
    }
   ],
   "source": [
    "results(subset['landsat_diff'], control2_goes_diff, 'Control')"
   ]
  },
  {
   "cell_type": "code",
   "execution_count": null,
   "id": "according-charles",
   "metadata": {},
   "outputs": [],
   "source": [
    "print('max bt 373 stats \\n')\n",
    "\n",
    "titles = ['ESRGAN', 'Laplace', 'Unsharp Mask', 'Control']\n",
    "\n",
    "latslons(subset)\n",
    "pixshifts(subset)\n",
    "applySR(subset)\n",
    "\n",
    "corrcoeffs = []\n",
    "rmses = []\n",
    "\n",
    "print('Subset ' + subset['loc'])\n",
    "stats = [subset['esrgan_goes_diff'], subset['laplace_goes_diff'], subset['unsharpmask_goes_diff'], subset['control_goes_diff']]\n",
    "for n in range(len(titles)):\n",
    "    vals = results(subset['landsat_diff'], stats[n], titles[n])\n",
    "    corrcoeffs.append(vals[0])\n",
    "    rmses.append(vals[1])\n",
    "\n",
    "subset['corrcoeffs'] = corrcoeffs\n",
    "subset['rmses'] = rmses\n",
    "\n",
    "print('')"
   ]
  },
  {
   "cell_type": "code",
   "execution_count": 18,
   "id": "experienced-homework",
   "metadata": {},
   "outputs": [],
   "source": [
    "def latslons(subset):\n",
    "    coords_0 = target_area.get_array_coordinates_from_lonlat(subset['lon_0'], subset['lat_0'])\n",
    "    coords_0 = (round(coords_0[0]), round(coords_0[1]))\n",
    "    coords_f = target_area.get_array_coordinates_from_lonlat(subset['lon_f'], subset['lat_f'])\n",
    "    coords_f = (round(coords_f[0]), round(coords_f[1]))\n",
    "    subset['lons'] = [coords_0[0], coords_f[0]]\n",
    "    subset['lats'] = [coords_f[1], coords_0[1]]\n",
    "\n",
    "def pixshifts(subset):\n",
    "    for file in os.listdir(landsat_path):\n",
    "        if file[17:25] == subset['day']['landsat'] and file[48:] == 'red_grid' + subset['loc'] + 'cent0.02deg.npy':\n",
    "            refimg = np.flipud(np.load(landsat_path + file))\n",
    "\n",
    "    for file in os.listdir(goes_path):\n",
    "        if file[:34] == 'OR_ABI-L1b-RadC-M6C02_G17_s' + subset['day']['goes']:\n",
    "            newimg_full = np.load(goes_path + file)\n",
    "    \n",
    "    lats = subset['lats']\n",
    "    lons = subset['lons']\n",
    "\n",
    "    newimg = newimg_full[lats[0]:lats[1], lons[0]:lons[1]]\n",
    "    \n",
    "    x_add = 0\n",
    "    y_add = 0\n",
    "    \n",
    "    while refimg.shape != newimg.shape: \n",
    "        if refimg.shape[0] > newimg.shape[0]:\n",
    "            x_add += 1\n",
    "        elif refimg.shape[0] < newimg.shape[0]:\n",
    "            x_add -= 1\n",
    "        if refimg.shape[1] > newimg.shape[1]:\n",
    "            y_add += 1\n",
    "        elif refimg.shape[1] < newimg.shape[1]:\n",
    "            y_add -= 1\n",
    "        \n",
    "        newimg = newimg_full[lats[0]:lats[1] + x_add, lons[0]:lons[1] + y_add]\n",
    "    \n",
    "    lats[1] += x_add\n",
    "    lons[1] += y_add\n",
    "\n",
    "    nx = 1\n",
    "    ny = 1\n",
    "    x_shift = np.arange(-nx, nx+1)\n",
    "    y_shift = np.arange(-ny, ny+1)\n",
    "    scores = []\n",
    "    \n",
    "    for x in x_shift:\n",
    "        for y in y_shift:\n",
    "            testimg = newimg_full[lats[0]+x:lats[1]+x, lons[0]+y:lons[1]+y]\n",
    "            scores.append([x, y, np.corrcoef(refimg.flatten(), testimg.flatten())[0, 1]])\n",
    "    \n",
    "    max_score = 0\n",
    "    min_score_index = 0\n",
    "    \n",
    "    for score_index in range(len(scores)-1):\n",
    "        score = scores[score_index][-1]\n",
    "        if abs(score) > abs(max_score):\n",
    "            max_score = score\n",
    "            max_score_index = score_index\n",
    "            \n",
    "    min_x, min_y, max_score = scores[max_score_index]\n",
    "    subset['shift'] = [min_x, min_y]"
   ]
  },
  {
   "cell_type": "code",
   "execution_count": 4,
   "id": "numeric-coupon",
   "metadata": {},
   "outputs": [],
   "source": [
    "def applySR(subset):\n",
    "    for file in os.listdir(landsat_path):\n",
    "        if file[17:25] == subset['day']['landsat'] and file[48:] == 'BT3.9_grid' + subset['loc'] + 'cent0.02deg.npy':\n",
    "            landsat_img_039 = np.flipud(np.load(landsat_path + file))\n",
    "        if file[17:25] == subset['day']['landsat'] and file[48:] == 'BT10.3_grid' + subset['loc'] + 'cent0.02deg.npy':\n",
    "            landsat_img_103 = np.flipud(np.load(landsat_path + file))\n",
    "        if file[17:25] == subset['day']['landsat'] and file[48:] == 'BT3.9_grid' + subset['loc'] + 'cent0.01deg.npy':\n",
    "            new_landsat_img_039 = np.flipud(np.load(landsat_path + file))\n",
    "        if file[17:25] == subset['day']['landsat'] and file[48:] == 'BT10.3_grid' + subset['loc'] + 'cent0.01deg.npy':\n",
    "            new_landsat_img_103 = np.flipud(np.load(landsat_path + file))\n",
    "\n",
    "    for file in os.listdir(goes_path):\n",
    "        if file[:34] == 'OR_ABI-L1b-RadC-M6C07_G17_s' + subset['day']['goes']:\n",
    "            goes_img_039 = np.load(goes_path + file)\n",
    "        if file[:34] == 'OR_ABI-L1b-RadC-M6C14_G17_s' + subset['day']['goes']:\n",
    "            goes_img_103 = np.load(goes_path + file)\n",
    "            \n",
    "    new_landsat_diff = new_landsat_img_039 - new_landsat_img_103\n",
    "    subset['landsat_diff'] = new_landsat_diff\n",
    "    subset['landsat_img_039'] = new_landsat_img_039\n",
    "    subset['landsat_img_103'] = new_landsat_img_103\n",
    "\n",
    "    goes_img_expanded_039 = expand(landsat_img_039, goes_img_039, subset['shift'][0], subset['shift'][1], subset['lats'], subset['lons'])\n",
    "    goes_img_expanded_103 = expand(landsat_img_103, goes_img_103, subset['shift'][0], subset['shift'][1], subset['lats'], subset['lons'])\n",
    "\n",
    "    esrgan_goes_img_039 = shiftPixels(new_landsat_img_039, esrgan_sharpening_img(goes_img_expanded_039), subset['shift'][0], subset['shift'][1])\n",
    "    esrgan_goes_img_039[esrgan_goes_img_039 > 373] = 373\n",
    "    esrgan_goes_img_103 = shiftPixels(new_landsat_img_103, esrgan_sharpening_img(goes_img_expanded_103), subset['shift'][0], subset['shift'][1])\n",
    "    subset['esrgan_goes_diff'] = esrgan_goes_img_039 - esrgan_goes_img_103\n",
    "    subset['esrgan_goes_img_039'] = esrgan_goes_img_039\n",
    "    subset['esrgan_goes_img_103'] = esrgan_goes_img_103\n",
    "\n",
    "    laplace_goes_img_039 = shiftPixels(new_landsat_img_039, laplace_sharpening_img(goes_img_expanded_039), subset['shift'][0], subset['shift'][1])\n",
    "    laplace_goes_img_039[laplace_goes_img_039 > 373] = 373\n",
    "    laplace_goes_img_103 = shiftPixels(new_landsat_img_103, laplace_sharpening_img(goes_img_expanded_103), subset['shift'][0], subset['shift'][1])\n",
    "    subset['laplace_goes_diff'] = laplace_goes_img_039 - laplace_goes_img_103\n",
    "    subset['laplace_goes_img_039'] = laplace_goes_img_039\n",
    "    subset['laplace_goes_img_103'] = laplace_goes_img_103\n",
    "\n",
    "    unsharpmask_goes_img_039 = shiftPixels(new_landsat_img_039, unsharpmask_sharpening_img(goes_img_expanded_039), subset['shift'][0], subset['shift'][1])\n",
    "    unsharpmask_goes_img_039[unsharpmask_goes_img_039 > 373] = 373\n",
    "    unsharpmask_goes_img_103 = shiftPixels(new_landsat_img_103, unsharpmask_sharpening_img(goes_img_expanded_103), subset['shift'][0], subset['shift'][1])\n",
    "    subset['unsharpmask_goes_diff'] = unsharpmask_goes_img_039 - unsharpmask_goes_img_103\n",
    "    subset['unsharpmask_goes_img_039'] = unsharpmask_goes_img_039\n",
    "    subset['unsharpmask_goes_img_103'] = unsharpmask_goes_img_103\n",
    "\n",
    "    control_goes_img_039 = shiftPixels(new_landsat_img_039, control_img(goes_img_expanded_039), subset['shift'][0], subset['shift'][1])\n",
    "    control_goes_img_103 = shiftPixels(new_landsat_img_103, control_img(goes_img_expanded_103), subset['shift'][0], subset['shift'][1])\n",
    "    subset['control_goes_diff'] = control_goes_img_039 - control_goes_img_103\n",
    "    subset['control_goes_img_039'] = control_goes_img_039\n",
    "    control_goes_img_039[control_goes_img_039 > 373] = 373\n",
    "    subset['control_goes_img_103'] = control_goes_img_103"
   ]
  },
  {
   "cell_type": "code",
   "execution_count": null,
   "id": "british-secret",
   "metadata": {},
   "outputs": [],
   "source": []
  }
 ],
 "metadata": {
  "kernelspec": {
   "display_name": "Python 3",
   "language": "python",
   "name": "python3"
  },
  "language_info": {
   "codemirror_mode": {
    "name": "ipython",
    "version": 3
   },
   "file_extension": ".py",
   "mimetype": "text/x-python",
   "name": "python",
   "nbconvert_exporter": "python",
   "pygments_lexer": "ipython3",
   "version": "3.7.9"
  }
 },
 "nbformat": 4,
 "nbformat_minor": 5
}
