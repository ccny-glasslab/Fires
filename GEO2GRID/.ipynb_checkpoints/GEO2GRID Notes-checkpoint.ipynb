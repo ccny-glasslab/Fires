{
 "cells": [
  {
   "cell_type": "markdown",
   "metadata": {},
   "source": [
    "geo2grid.sh -r abi_l1b -w geotiff -p natural_color --ll-bbox -95.0 40.0 -85.0 50.0 -f OR_ABI-L1b-RadC*.nc"
   ]
  },
  {
   "cell_type": "markdown",
   "metadata": {},
   "source": [
    "geo2grid.sh -r abi_l1b -w geotiff --ll-bbox <lonmin latmin lonmax latmax> -f <path_to_abi_files>"
   ]
  },
  {
   "cell_type": "markdown",
   "metadata": {},
   "source": [
    "Works: OR_ABI-L1b-RadF-M3C01_G16_s20180581900411_e20180581911178_c20180581911221.nc\n",
    "Doesn't Work (?): OR_ABI-L1b-RadF-M6C01_G17_s20200010000355_e20200010009421_c20200010009469.nc"
   ]
  },
  {
   "cell_type": "raw",
   "metadata": {},
   "source": [
    "geo2grid.sh -r abi_l1b -w geotiff --ll-bbox -125 32 -115 42 -g eqc_fit -f \"Data\" --cache-dir Logs"
   ]
  },
  {
   "cell_type": "markdown",
   "metadata": {},
   "source": [
    "geo2grid.sh -r abi_l1b -w geotiff --ll-bbox -125 32.7 -114.3 42 -f \"Data\" --cache-dir Logs"
   ]
  },
  {
   "cell_type": "markdown",
   "metadata": {},
   "source": [
    "geo2grid.sh -r abi_l1b -w geotiff -f \"Data\" --cache-dir Logs --grid-configs mygrid.conf"
   ]
  },
  {
   "cell_type": "code",
   "execution_count": null,
   "metadata": {},
   "outputs": [],
   "source": [
    "geo2grid.sh -r abi_l1b -w geotiff --ll-bbox -125 32 -115 42 -g goes_west_1km -f \"Data/Sept08\" --cache-dir Logs"
   ]
  },
  {
   "cell_type": "markdown",
   "metadata": {},
   "source": [
    "p2g_grid_helper.sh [-h] [-p PROJ_STR]\n",
    "                          grid_name center_longitude center_latitude\n",
    "                          pixel_size_x pixel_size_y grid_width grid_height\n",
    "                          \n",
    "p2g_grid_helper.sh cali -119.4 36.8 2000 2000 541 556"
   ]
  },
  {
   "cell_type": "code",
   "execution_count": null,
   "metadata": {},
   "outputs": [],
   "source": [
    "geo2grid.sh -r abi_l1b -w geotiff -f \"Data/2019251\" --cache-dir Logs --grid-configs mygrid.conf -g cali"
   ]
  }
 ],
 "metadata": {
  "kernelspec": {
   "display_name": "Python 3",
   "language": "python",
   "name": "python3"
  },
  "language_info": {
   "codemirror_mode": {
    "name": "ipython",
    "version": 3
   },
   "file_extension": ".py",
   "mimetype": "text/x-python",
   "name": "python",
   "nbconvert_exporter": "python",
   "pygments_lexer": "ipython3",
   "version": "3.8.3"
  }
 },
 "nbformat": 4,
 "nbformat_minor": 4
}
