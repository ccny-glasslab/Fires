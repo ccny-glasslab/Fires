{
 "cells": [
  {
   "cell_type": "code",
   "execution_count": 3,
   "metadata": {},
   "outputs": [],
   "source": [
    "import xarray as xr"
   ]
  },
  {
   "cell_type": "code",
   "execution_count": 11,
   "metadata": {},
   "outputs": [],
   "source": [
    "data = xr.open_rasterio('GOES-17_ABI_RadF_true_color_20181117_180037_eqc_fit.tif')"
   ]
  },
  {
   "cell_type": "code",
   "execution_count": 12,
   "metadata": {},
   "outputs": [
    {
     "name": "stdout",
     "output_type": "stream",
     "text": [
      "<xarray.DataArray (band: 4, y: 4807, x: 7033)>\n",
      "[135230524 values with dtype=uint8]\n",
      "Coordinates:\n",
      "  * band     (band) int64 1 2 3 4\n",
      "  * y        (y) float64 4.734e+06 4.734e+06 4.734e+06 ... 3.533e+06 3.533e+06\n",
      "  * x        (x) float64 -1.41e+07 -1.41e+07 -1.41e+07 ... -1.235e+07 -1.235e+07\n",
      "Attributes:\n",
      "    transform:         (250.00882472559522, 0.0, -14104699.503688585, 0.0, -2...\n",
      "    crs:               +proj=eqc +lat_ts=0 +lat_0=0 +lon_0=0 +x_0=0 +y_0=0 +e...\n",
      "    res:               (250.00882472559522, 250.02462434564094)\n",
      "    is_tiled:          0\n",
      "    nodatavals:        (nan, nan, nan, nan)\n",
      "    scales:            (1.0, 1.0, 1.0, 1.0)\n",
      "    offsets:           (0.0, 0.0, 0.0, 0.0)\n",
      "    AREA_OR_POINT:     Area\n",
      "    TIFFTAG_DATETIME:  2018:11:17 18:00:37\n"
     ]
    }
   ],
   "source": [
    "print(data)"
   ]
  },
  {
   "cell_type": "code",
   "execution_count": 13,
   "metadata": {},
   "outputs": [
    {
     "data": {
      "text/plain": [
       "(array([33274313.,  4844360.,  7579994., 11590604., 14972430., 12572001.,\n",
       "         9368356.,  9889969.,  4716387., 26422110.]),\n",
       " array([  0. ,  25.5,  51. ,  76.5, 102. , 127.5, 153. , 178.5, 204. ,\n",
       "        229.5, 255. ]),\n",
       " <a list of 10 Patch objects>)"
      ]
     },
     "execution_count": 13,
     "metadata": {},
     "output_type": "execute_result"
    },
    {
     "data": {
      "image/png": "[encoded data removed]",
      "text/plain": [
       "<Figure size 432x288 with 1 Axes>"
      ]
     },
     "metadata": {
      "needs_background": "light"
     },
     "output_type": "display_data"
    }
   ],
   "source": [
    "data.plot()"
   ]
  },
  {
   "cell_type": "code",
   "execution_count": null,
   "metadata": {},
   "outputs": [],
   "source": []
  }
 ],
 "metadata": {
  "kernelspec": {
   "display_name": "Python 3",
   "language": "python",
   "name": "python3"
  },
  "language_info": {
   "codemirror_mode": {
    "name": "ipython",
    "version": 3
   },
   "file_extension": ".py",
   "mimetype": "text/x-python",
   "name": "python",
   "nbconvert_exporter": "python",
   "pygments_lexer": "ipython3",
   "version": "3.7.6"
  }
 },
 "nbformat": 4,
 "nbformat_minor": 4
}
