{
 "cells": [
  {
   "cell_type": "code",
   "execution_count": 24,
   "id": "oriental-telling",
   "metadata": {},
   "outputs": [],
   "source": [
    "import matplotlib.pyplot as plt\n",
    "import numpy as np\n",
    "import os\n",
    "import random\n",
    "import cartopy.crs as ccrs\n",
    "from pyresample import geometry, grid\n",
    "import pyresample\n",
    "import random\n",
    "import os\n",
    "import numpy as np\n",
    "import matplotlib.pyplot as plt\n",
    "import datetime"
   ]
  },
  {
   "cell_type": "code",
   "execution_count": 121,
   "id": "driving-poison",
   "metadata": {},
   "outputs": [],
   "source": [
    "pc = ccrs.PlateCarree()\n",
    "pc_params = pc.proj4_params\n",
    "pc_extents = [-124.25, 32.25, -114.25, 42.25]\n",
    "shape = [500, 500]\n",
    "target_area = geometry.AreaDefinition.from_extent('CA', pc_params, shape, pc_extents)\n",
    "\n",
    "latlon1 = [40.47, -121.465]\n",
    "latlon2 = [40.675000000000004, -121.155]\n",
    "coords1 = target_area.get_array_coordinates_from_lonlat(latlon1[1], latlon1[0])\n",
    "coords1 = (round(coords1[0]), round(coords1[1]))\n",
    "coords2 = target_area.get_array_coordinates_from_lonlat(latlon2[1], latlon2[0])\n",
    "coords2 = (round(coords2[0]), round(coords2[1]))\n",
    "lons = [coords1[0], coords2[0]]\n",
    "lats = [coords2[1], coords1[1]]"
   ]
  },
  {
   "cell_type": "code",
   "execution_count": 171,
   "id": "initial-natural",
   "metadata": {},
   "outputs": [],
   "source": [
    "landsat_path = '../landsat_files/landsat_files/'\n",
    "landsat_img039 = np.load(landsat_path + 'LC08_L2SP_044032_20210828_20210901_02_T1_goesLS_BT3.9_gridA0.02deg.npy')\n",
    "landsat_img103 = np.load(landsat_path + 'LC08_L2SP_044032_20210828_20210901_02_T1_goesLS_BT10.3_gridA0.02deg.npy')\n",
    "landsat_img = landsat_img039 - landsat_img103"
   ]
  },
  {
   "cell_type": "code",
   "execution_count": 172,
   "id": "coated-advocate",
   "metadata": {},
   "outputs": [],
   "source": [
    "goes_path = '../landsat_files/'\n",
    "goes_img039 = np.load(goes_path + 'OR_ABI-L1b-RadC-M6C07_G17_s20212401846176_e20212401848561_c20212401849003.npy')\n",
    "goes_img103 = np.load(goes_path + 'OR_ABI-L1b-RadC-M6C14_G17_s20212401846176_e20212401848549_c20212401848593.npy')\n",
    "goes_img = goes_img039 - goes_img103"
   ]
  },
  {
   "cell_type": "code",
   "execution_count": 173,
   "id": "radical-conversion",
   "metadata": {},
   "outputs": [
    {
     "data": {
      "text/plain": [
       "<matplotlib.image.AxesImage at 0x7f1d7bf1ac90>"
      ]
     },
     "execution_count": 173,
     "metadata": {},
     "output_type": "execute_result"
    },
    {
     "data": {
      "image/png": "[encoded data removed]",
      "text/plain": [
       "<Figure size 432x288 with 2 Axes>"
      ]
     },
     "metadata": {
      "needs_background": "light"
     },
     "output_type": "display_data"
    }
   ],
   "source": [
    "fig, ax = plt.subplots(1, 2)\n",
    "ax[0].imshow(landsat_img)\n",
    "ax[1].imshow(goes_img[lats[0]:lats[1], lons[0]:lons[1]])"
   ]
  },
  {
   "cell_type": "code",
   "execution_count": 182,
   "id": "hybrid-revolution",
   "metadata": {},
   "outputs": [],
   "source": [
    "landsat_img[landsat_img < 1] = 0\n",
    "goes_img[goes_img < 1] = 0"
   ]
  },
  {
   "cell_type": "code",
   "execution_count": 185,
   "id": "compatible-stockholm",
   "metadata": {},
   "outputs": [
    {
     "data": {
      "text/plain": [
       "<matplotlib.image.AxesImage at 0x7f1d7b7e6dd0>"
      ]
     },
     "execution_count": 185,
     "metadata": {},
     "output_type": "execute_result"
    },
    {
     "data": {
      "image/png": "[encoded data removed]",
      "text/plain": [
       "<Figure size 432x288 with 2 Axes>"
      ]
     },
     "metadata": {
      "needs_background": "light"
     },
     "output_type": "display_data"
    }
   ],
   "source": [
    "fig, ax = plt.subplots(1, 2)\n",
    "ax[0].imshow(landsat_img)\n",
    "ax[1].imshow(goes_img[lats[0]:lats[1], lons[0]:lons[1]])"
   ]
  },
  {
   "cell_type": "code",
   "execution_count": 174,
   "id": "million-alexandria",
   "metadata": {},
   "outputs": [
    {
     "name": "stdout",
     "output_type": "stream",
     "text": [
      "(8, 15)\n",
      "(11, 15)\n"
     ]
    }
   ],
   "source": [
    "print(landsat_img.shape)\n",
    "print(goes_img[lats[0]:lats[1], lons[0]:lons[1]].shape)"
   ]
  },
  {
   "cell_type": "code",
   "execution_count": 175,
   "id": "blocked-experiment",
   "metadata": {},
   "outputs": [
    {
     "data": {
      "text/plain": [
       "<matplotlib.collections.PathCollection at 0x7f1d7bd8a3d0>"
      ]
     },
     "execution_count": 175,
     "metadata": {},
     "output_type": "execute_result"
    },
    {
     "data": {
      "image/png": "[encoded data removed]",
      "text/plain": [
       "<Figure size 432x288 with 1 Axes>"
      ]
     },
     "metadata": {
      "needs_background": "light"
     },
     "output_type": "display_data"
    }
   ],
   "source": [
    "plt.scatter(landsat_img, goes_img[lats[0]:(lats[1]-3), lons[0]:lons[1]])"
   ]
  },
  {
   "cell_type": "code",
   "execution_count": 170,
   "id": "incorrect-technique",
   "metadata": {},
   "outputs": [],
   "source": [
    "landsat_path = '../landsat_files/landsat_files/'\n",
    "landsat_img = np.load(landsat_path + 'LC08_L2SP_044032_20210828_20210901_02_T1_goesLS_BTcounts_grid0.005degA.npy')"
   ]
  },
  {
   "cell_type": "code",
   "execution_count": null,
   "id": "gothic-venue",
   "metadata": {},
   "outputs": [],
   "source": []
  }
 ],
 "metadata": {
  "kernelspec": {
   "display_name": "Python 3",
   "language": "python",
   "name": "python3"
  },
  "language_info": {
   "codemirror_mode": {
    "name": "ipython",
    "version": 3
   },
   "file_extension": ".py",
   "mimetype": "text/x-python",
   "name": "python",
   "nbconvert_exporter": "python",
   "pygments_lexer": "ipython3",
   "version": "3.7.9"
  }
 },
 "nbformat": 4,
 "nbformat_minor": 5
}
