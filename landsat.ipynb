{
 "cells": [
  {
   "cell_type": "code",
   "execution_count": 92,
   "id": "sapphire-capture",
   "metadata": {},
   "outputs": [],
   "source": [
    "import matplotlib.pyplot as plt\n",
    "import numpy as np\n",
    "import os\n",
    "import random\n",
    "import cartopy.crs as ccrs\n",
    "from pyresample import geometry, grid\n",
    "import pyresample\n",
    "import datetime\n",
    "import metpy\n",
    "import datetime\n",
    "import s3fs\n",
    "import pandas as pd\n",
    "import xarray as xr\n",
    "import tensorflow as tf\n",
    "import tensorflow_hub as hub\n",
    "from PIL import Image\n",
    "from pyresample import geometry, grid\n",
    "import cartopy.crs as ccrs\n",
    "import matplotlib.pyplot as plt\n",
    "from skimage.filters import laplace\n",
    "from skimage.filters import unsharp_mask\n",
    "from skimage.transform import resize\n",
    "from sklearn.metrics import mean_absolute_error\n",
    "from sklearn.metrics import mean_squared_error\n",
    "\n",
    "fs = s3fs.S3FileSystem(anon = True)\n",
    "model = hub.load(\"https://tfhub.dev/captain-pool/esrgan-tf2/1\")\n",
    "random.seed(42)"
   ]
  },
  {
   "cell_type": "code",
   "execution_count": 93,
   "id": "sudden-kennedy",
   "metadata": {},
   "outputs": [],
   "source": [
    "pc = ccrs.PlateCarree()\n",
    "pc_params = pc.proj4_params\n",
    "pc_extents = [-124.25, 32.25, -114.25, 42.25]\n",
    "shape = [500, 500]\n",
    "target_area = geometry.AreaDefinition.from_extent('CA', pc_params, shape, pc_extents)\n",
    "\n",
    "latlon1 = [40.47, -121.465]\n",
    "latlon2 = [40.675000000000004, -121.155]\n",
    "coords1 = target_area.get_array_coordinates_from_lonlat(latlon1[1], latlon1[0])\n",
    "coords1 = (round(coords1[0]), round(coords1[1]))\n",
    "coords2 = target_area.get_array_coordinates_from_lonlat(latlon2[1], latlon2[0])\n",
    "coords2 = (round(coords2[0]), round(coords2[1]))\n",
    "lons = [coords1[0], coords2[0]]\n",
    "lats = [coords2[1], coords1[1]]"
   ]
  },
  {
   "cell_type": "code",
   "execution_count": 95,
   "id": "fifth-carbon",
   "metadata": {},
   "outputs": [],
   "source": [
    "landsat_path = '../landsat_files/landsat_files/'\n",
    "landsat_img039 = np.load(landsat_path + 'LC08_L2SP_044032_20210828_20210901_02_T1_goesLS_BT3.9_gridAcent0.02deg.npy')\n",
    "landsat_img103 = np.load(landsat_path + 'LC08_L2SP_044032_20210828_20210901_02_T1_goesLS_BT10.3_gridAcent0.02deg.npy')\n",
    "landsat_img = landsat_img039 - landsat_img103"
   ]
  },
  {
   "cell_type": "code",
   "execution_count": 96,
   "id": "dominican-senior",
   "metadata": {},
   "outputs": [],
   "source": [
    "goes_path = '../landsat_files/'\n",
    "goes_img039 = np.load(goes_path + 'OR_ABI-L1b-RadC-M6C07_G17_s20212401846176_e20212401848561_c20212401849003.npy')\n",
    "goes_img103 = np.load(goes_path + 'OR_ABI-L1b-RadC-M6C14_G17_s20212401846176_e20212401848549_c20212401848593.npy')\n",
    "goes_img = goes_img039 - goes_img103"
   ]
  },
  {
   "cell_type": "code",
   "execution_count": 102,
   "id": "brilliant-gazette",
   "metadata": {},
   "outputs": [
    {
     "data": {
      "text/plain": [
       "Text(0.5, 1.0, 'goes')"
      ]
     },
     "execution_count": 102,
     "metadata": {},
     "output_type": "execute_result"
    },
    {
     "data": {
      "image/png": "[encoded data removed]",
      "text/plain": [
       "<Figure size 432x288 with 2 Axes>"
      ]
     },
     "metadata": {
      "needs_background": "light"
     },
     "output_type": "display_data"
    }
   ],
   "source": [
    "fig, ax = plt.subplots(1, 2)\n",
    "ax[0].imshow(landsat_img)\n",
    "ax[0].set_title('landsat')\n",
    "ax[1].imshow(goes_img[lats[0]:lats[1], lons[0]:lons[1]])\n",
    "ax[1].set_title('goes')"
   ]
  },
  {
   "cell_type": "code",
   "execution_count": 87,
   "id": "wicked-cooling",
   "metadata": {},
   "outputs": [],
   "source": [
    "# landsat_img[landsat_img < 1] = 0\n",
    "# goes_img[goes_img < 1] = 0"
   ]
  },
  {
   "cell_type": "code",
   "execution_count": 89,
   "id": "opposed-morning",
   "metadata": {},
   "outputs": [
    {
     "data": {
      "text/plain": [
       "Text(0.5, 1.0, 'goes')"
      ]
     },
     "execution_count": 89,
     "metadata": {},
     "output_type": "execute_result"
    },
    {
     "data": {
      "image/png": "[encoded data removed]",
      "text/plain": [
       "<Figure size 432x288 with 2 Axes>"
      ]
     },
     "metadata": {
      "needs_background": "light"
     },
     "output_type": "display_data"
    }
   ],
   "source": [
    "fig, ax = plt.subplots(1, 2)\n",
    "ax[0].imshow(landsat_img[:, :-1])\n",
    "ax[0].set_title('landsat')\n",
    "ax[1].imshow(goes_img[lats[0]:lats[1], lons[0]:lons[1]])\n",
    "ax[1].set_title('goes')"
   ]
  },
  {
   "cell_type": "code",
   "execution_count": 8,
   "id": "therapeutic-family",
   "metadata": {},
   "outputs": [
    {
     "name": "stdout",
     "output_type": "stream",
     "text": [
      "(8, 15)\n",
      "(11, 15)\n"
     ]
    }
   ],
   "source": [
    "print(landsat_img.shape)\n",
    "print(goes_img[lats[0]:lats[1], lons[0]:lons[1]].shape)"
   ]
  },
  {
   "cell_type": "code",
   "execution_count": 73,
   "id": "suitable-sequence",
   "metadata": {},
   "outputs": [
    {
     "data": {
      "text/plain": [
       "<matplotlib.collections.PathCollection at 0x7fc85863c810>"
      ]
     },
     "execution_count": 73,
     "metadata": {},
     "output_type": "execute_result"
    },
    {
     "data": {
      "image/png": "[encoded data removed]",
      "text/plain": [
       "<Figure size 432x288 with 1 Axes>"
      ]
     },
     "metadata": {
      "needs_background": "light"
     },
     "output_type": "display_data"
    }
   ],
   "source": [
    "plt.scatter(landsat_img, np.flipud(goes_img[lats[0]+2:lats[1]-1, lons[0]:lons[1]]))"
   ]
  },
  {
   "cell_type": "code",
   "execution_count": 75,
   "id": "fundamental-flour",
   "metadata": {},
   "outputs": [],
   "source": [
    "landsat_img = landsat_img[:, :-1]\n",
    "goes_img = np.flipud(goes_img[lats[0]+2:lats[1]-1, lons[0]:lons[1]-1])"
   ]
  },
  {
   "cell_type": "code",
   "execution_count": 54,
   "id": "offensive-garage",
   "metadata": {},
   "outputs": [],
   "source": [
    "def load_image(array):\n",
    "    \"\"\"\n",
    "    Returns loaded .npy file.\n",
    "    \n",
    "    Parameter path: Path to load .npy file from\n",
    "    Precondition: path is a string\n",
    "    \"\"\"\n",
    "    result = np.zeros((array.shape[0], array.shape[1], 3))\n",
    "    result[:,:,0]= array\n",
    "    result[:,:,1]= array\n",
    "    result[:,:,2]= array\n",
    "    return result\n",
    "\n",
    "def preprocess_image(array):\n",
    "    \"\"\"\n",
    "    Returns preprocessed input array.\n",
    "    \n",
    "    Parameter array: array to preprocess\n",
    "    Precondition: array is a numpy array\n",
    "    \"\"\"\n",
    "    hr_image = array\n",
    "    hr_size = (tf.convert_to_tensor(hr_image.shape[:-1]) // 2) * 2\n",
    "    hr_image = tf.image.crop_to_bounding_box(hr_image, 0, 0, hr_size[0], hr_size[1])\n",
    "    hr_image = tf.cast(hr_image, tf.float32)\n",
    "    return tf.expand_dims(hr_image, 0)\n",
    "\n",
    "def downscale_image(image):\n",
    "    \"\"\"\n",
    "    Returns low resolution image after scaling down input image using nearest neighbor downsampling.\n",
    "\n",
    "    Parameter image: 3D of 4D tensor of preprocessed image\n",
    "    Precondition: image is a tensor\n",
    "    \"\"\"\n",
    "    height, width = image.shape\n",
    "    result = np.zeros((image.shape[0]//2, image.shape[1]//2, 3))\n",
    "    smallimg = resize(image, (round(height/2), round(width/2)))\n",
    "    result[:,:,0] = smallimg\n",
    "    result[:,:,1] = smallimg\n",
    "    result[:,:,2] = smallimg\n",
    "    lr_image = tf.expand_dims(result, 0)\n",
    "    lr_image = tf.cast(lr_image, tf.float32)\n",
    "    return lr_image\n",
    "\n",
    "def esrgan_sharpening_img(image):\n",
    "    \"\"\"\n",
    "    Returns dictionary containing errors after using the ESRGAN model.\n",
    "    \n",
    "    Parameter path: path of image not including file name\n",
    "    Precondition: path is a string\n",
    "    \n",
    "    Parameter file: file of the image\n",
    "    Precondition: file is a string of a .npy file\n",
    "    \"\"\"\n",
    "    hr_image = preprocess_image(load_image(image))\n",
    "    lr_image = downscale_image(image)\n",
    "    fake_image = model(lr_image)\n",
    "    fake_image = tf.squeeze(fake_image)\n",
    "\n",
    "    hr_image = tf.squeeze(hr_image).numpy()\n",
    "    lr_image = tf.squeeze(lr_image).numpy()\n",
    "#     lr_image = resize(lr_image, (hr_image.shape[0], hr_image.shape[1], 3)).ravel()\n",
    "#     fake_image = resize(fake_image.numpy(), (hr_image.shape[0], hr_image.shape[1], 3))\n",
    "\n",
    "    return np.mean(fake_image, axis=2)"
   ]
  },
  {
   "cell_type": "code",
   "execution_count": 76,
   "id": "convertible-underwear",
   "metadata": {},
   "outputs": [],
   "source": [
    "new_goes = esrgan_sharpening_img(goes_img)"
   ]
  },
  {
   "cell_type": "code",
   "execution_count": 77,
   "id": "conventional-pakistan",
   "metadata": {},
   "outputs": [
    {
     "data": {
      "text/plain": [
       "(16, 28)"
      ]
     },
     "execution_count": 77,
     "metadata": {},
     "output_type": "execute_result"
    }
   ],
   "source": [
    "new_goes.shape"
   ]
  },
  {
   "cell_type": "code",
   "execution_count": 82,
   "id": "gorgeous-banana",
   "metadata": {},
   "outputs": [
    {
     "data": {
      "text/plain": [
       "Text(0.5, 1.0, 'new goes')"
      ]
     },
     "execution_count": 82,
     "metadata": {},
     "output_type": "execute_result"
    },
    {
     "data": {
      "image/png": "[encoded data removed]",
      "text/plain": [
       "<Figure size 432x288 with 2 Axes>"
      ]
     },
     "metadata": {
      "needs_background": "light"
     },
     "output_type": "display_data"
    }
   ],
   "source": [
    "fig, ax = plt.subplots(1, 2)\n",
    "ax[0].imshow(landsat_img)\n",
    "ax[0].set_title('landsat')\n",
    "ax[1].imshow(new_goes)\n",
    "ax[1].set_title('new goes')"
   ]
  },
  {
   "cell_type": "code",
   "execution_count": 57,
   "id": "assigned-supervisor",
   "metadata": {},
   "outputs": [],
   "source": [
    "landsat_path = '../landsat_files/landsat_files/'\n",
    "landsat_img039hr = np.load(landsat_path + 'LC08_L2SP_044032_20210828_20210901_02_T1_goesLS_BT3.9_gridA0.01deg.npy')\n",
    "landsat_img103hr = np.load(landsat_path + 'LC08_L2SP_044032_20210828_20210901_02_T1_goesLS_BT10.3_gridA0.01deg.npy')\n",
    "landsat_imghr = landsat_img039hr - landsat_img103hr"
   ]
  },
  {
   "cell_type": "code",
   "execution_count": 58,
   "id": "consecutive-circumstances",
   "metadata": {},
   "outputs": [
    {
     "data": {
      "text/plain": [
       "Text(0.5, 1.0, 'new goes')"
      ]
     },
     "execution_count": 58,
     "metadata": {},
     "output_type": "execute_result"
    },
    {
     "data": {
      "image/png": "[encoded data removed]",
      "text/plain": [
       "<Figure size 432x288 with 2 Axes>"
      ]
     },
     "metadata": {
      "needs_background": "light"
     },
     "output_type": "display_data"
    }
   ],
   "source": [
    "fig, ax = plt.subplots(1, 2)\n",
    "ax[0].imshow(landsat_imghr)\n",
    "ax[0].set_title('landsat')\n",
    "ax[1].imshow(new_goes)\n",
    "ax[1].set_title('new goes')"
   ]
  },
  {
   "cell_type": "code",
   "execution_count": 60,
   "id": "organizational-article",
   "metadata": {},
   "outputs": [
    {
     "data": {
      "text/plain": [
       "(20, 30)"
      ]
     },
     "execution_count": 60,
     "metadata": {},
     "output_type": "execute_result"
    }
   ],
   "source": [
    "landsat_imghr.shape"
   ]
  },
  {
   "cell_type": "code",
   "execution_count": 64,
   "id": "dedicated-collector",
   "metadata": {},
   "outputs": [
    {
     "name": "stdout",
     "output_type": "stream",
     "text": [
      "(8, 15)\n",
      "(20, 30)\n",
      "(41, 62)\n"
     ]
    }
   ],
   "source": [
    "landsat_path = '../landsat_files/landsat_files/'\n",
    "landsat_img039 = np.load(landsat_path + 'LC08_L2SP_044032_20210828_20210901_02_T1_goesLS_BT3.9_gridA0.02deg.npy')\n",
    "landsat_img103 = np.load(landsat_path + 'LC08_L2SP_044032_20210828_20210901_02_T1_goesLS_BT10.3_gridA0.02deg.npy')\n",
    "landsat_img02 = landsat_img039 - landsat_img103\n",
    "print(landsat_img02.shape)\n",
    "landsat_img039 = np.load(landsat_path + 'LC08_L2SP_044032_20210828_20210901_02_T1_goesLS_BT3.9_gridA0.01deg.npy')\n",
    "landsat_img103 = np.load(landsat_path + 'LC08_L2SP_044032_20210828_20210901_02_T1_goesLS_BT10.3_gridA0.01deg.npy')\n",
    "landsat_img01 = landsat_img039 - landsat_img103\n",
    "print(landsat_img01.shape)\n",
    "landsat_img039 = np.load(landsat_path + 'LC08_L2SP_044032_20210828_20210901_02_T1_goesLS_BT3.9_gridA0.005deg.npy')\n",
    "landsat_img103 = np.load(landsat_path + 'LC08_L2SP_044032_20210828_20210901_02_T1_goesLS_BT10.3_gridA0.005deg.npy')\n",
    "landsat_img005 = landsat_img039 - landsat_img103\n",
    "print(landsat_img005.shape)"
   ]
  },
  {
   "cell_type": "code",
   "execution_count": null,
   "id": "contemporary-vegetation",
   "metadata": {},
   "outputs": [],
   "source": []
  }
 ],
 "metadata": {
  "kernelspec": {
   "display_name": "Python 3",
   "language": "python",
   "name": "python3"
  },
  "language_info": {
   "codemirror_mode": {
    "name": "ipython",
    "version": 3
   },
   "file_extension": ".py",
   "mimetype": "text/x-python",
   "name": "python",
   "nbconvert_exporter": "python",
   "pygments_lexer": "ipython3",
   "version": "3.7.9"
  }
 },
 "nbformat": 4,
 "nbformat_minor": 5
}
