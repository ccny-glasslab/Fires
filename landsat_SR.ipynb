{
 "cells": [
  {
   "cell_type": "code",
   "execution_count": 1,
   "id": "equipped-telling",
   "metadata": {},
   "outputs": [
    {
     "name": "stderr",
     "output_type": "stream",
     "text": [
      "/sharedData2/nshakoor/.conda/envs/fires/lib/python3.7/site-packages/pyresample/bilinear/__init__.py:49: UserWarning: XArray and/or zarr not found, XArrayBilinearResampler won't be available.\n",
      "  warnings.warn(\"XArray and/or zarr not found, XArrayBilinearResampler won't be available.\")\n"
     ]
    }
   ],
   "source": [
    "import cartopy.crs as ccrs\n",
    "import matplotlib.pyplot as plt\n",
    "import numpy as np\n",
    "from pyresample import geometry\n",
    "import random\n",
    "from skimage.transform import resize\n",
    "import tensorflow as tf\n",
    "import tensorflow_hub as hub\n",
    "\n",
    "model = hub.load(\"https://tfhub.dev/captain-pool/esrgan-tf2/1\")\n",
    "random.seed(42)"
   ]
  },
  {
   "cell_type": "code",
   "execution_count": 324,
   "id": "ecological-institute",
   "metadata": {},
   "outputs": [],
   "source": [
    "def shiftPixels(refimg, newimg_full, min_x, min_y, lats=None, lons=None):\n",
    "    assert refimg.shape[0] <= newimg_full.shape[0]\n",
    "    assert refimg.shape[1] <= newimg_full.shape[1]\n",
    "    \n",
    "    if lats != None or lons != None:\n",
    "        newimg = newimg_full[lats[0]:lats[1], lons[0]:lons[1]]\n",
    "    else:\n",
    "        newimg = newimg_full.copy()\n",
    "    \n",
    "    nx = 0\n",
    "    ny = 0\n",
    "    \n",
    "    while refimg.shape != newimg.shape:\n",
    "        x_add = 0\n",
    "        y_add = 0\n",
    "        \n",
    "        if refimg.shape[0] > newimg.shape[0]:\n",
    "            x_add += 1\n",
    "            nx += 1\n",
    "        elif refimg.shape[0] < newimg.shape[0]:\n",
    "            x_add -= 1\n",
    "            nx += 1\n",
    "        if refimg.shape[1] > newimg.shape[1]:\n",
    "            y_add += 1\n",
    "            ny += 1\n",
    "        elif refimg.shape[1] < newimg.shape[1]:\n",
    "            y_add -= 1\n",
    "            ny += 1\n",
    "        \n",
    "        if lats != None or lons != None:\n",
    "            newimg = newimg_full[lats[0]:lats[1] + nx, lons[0]:lons[1] + ny]\n",
    "        else:\n",
    "            newimg = newimg_full[:(newimg.shape[0] + x_add), :(newimg.shape[1] + y_add)]\n",
    "    \n",
    "    if lats != None or lons != None:\n",
    "        lats[1] += x_add\n",
    "        lons[1] += y_add\n",
    "\n",
    "    if lats != None or lons != None:\n",
    "        return newimg_full[lats[0]+min_x:lats[1]+min_x+1, lons[0]+min_y:lons[1]+min_y+1]\n",
    "    return newimg_full[abs(min_x):(newimg.shape[0] + abs(min_x)), abs(min_y):(newimg.shape[1] + abs(min_y))]\n",
    "\n",
    "def expand(refimg, newimg_full, min_x, min_y, lats, lons):\n",
    "    newimg = newimg_full[lats[0]:lats[1], lons[0]:lons[1]]\n",
    "    \n",
    "    nx = 0\n",
    "    ny = 0\n",
    "    \n",
    "    while refimg.shape != newimg.shape:\n",
    "        x_add = 0\n",
    "        y_add = 0\n",
    "    \n",
    "        if refimg.shape[0] > newimg.shape[0]:\n",
    "            x_add += 1\n",
    "            nx += 1\n",
    "        elif refimg.shape[0] < newimg.shape[0]:\n",
    "            x_add -= 1\n",
    "            nx += 1\n",
    "        if refimg.shape[1] > newimg.shape[1]:\n",
    "            y_add += 1\n",
    "            ny += 1\n",
    "        elif refimg.shape[1] < newimg.shape[1]:\n",
    "            y_add -= 1\n",
    "            ny += 1\n",
    "        newimg = newimg_full[lats[0]:lats[1] + nx, lons[0]:lons[1] + ny]\n",
    "\n",
    "    lats[1] += x_add\n",
    "    lons[1] += y_add\n",
    "\n",
    "    return newimg_full[lats[0]+min_x-1:lats[1]+min_x+2, lons[0]+min_y-1:lons[1]+min_y+2]"
   ]
  },
  {
   "cell_type": "code",
   "execution_count": 212,
   "id": "thorough-antigua",
   "metadata": {},
   "outputs": [],
   "source": [
    "def load_image(array):\n",
    "    \"\"\"\n",
    "    Returns loaded .npy file.\n",
    "    \n",
    "    Parameter path: Path to load .npy file from\n",
    "    Precondition: path is a string\n",
    "    \"\"\"\n",
    "    result = np.zeros((array.shape[0], array.shape[1], 3))\n",
    "    result[:,:,0]= array\n",
    "    result[:,:,1]= array\n",
    "    result[:,:,2]= array\n",
    "    return result\n",
    "\n",
    "def preprocess_image(array):\n",
    "    \"\"\"\n",
    "    Returns preprocessed input array.\n",
    "    \n",
    "    Parameter array: array to preprocess\n",
    "    Precondition: array is a numpy array\n",
    "    \"\"\"\n",
    "    hr_image = array\n",
    "    hr_size = (tf.convert_to_tensor(hr_image.shape[:-1]) // 2) * 2\n",
    "    hr_image = tf.image.crop_to_bounding_box(hr_image, 0, 0, hr_size[0], hr_size[1])\n",
    "    hr_image = tf.cast(hr_image, tf.float32)\n",
    "    return tf.expand_dims(hr_image, 0)\n",
    "\n",
    "def downscale_image(image):\n",
    "    \"\"\"\n",
    "    Returns low resolution image after scaling down input image using nearest neighbor downsampling.\n",
    "\n",
    "    Parameter image: 3D of 4D tensor of preprocessed image\n",
    "    Precondition: image is a tensor\n",
    "    \"\"\"\n",
    "    height, width = image.shape\n",
    "    result = np.zeros((image.shape[0]//2, image.shape[1]//2, 3))\n",
    "    smallimg = resize(image, (round(height/2), round(width/2)))\n",
    "    result[:,:,0] = smallimg\n",
    "    result[:,:,1] = smallimg\n",
    "    result[:,:,2] = smallimg\n",
    "    lr_image = tf.expand_dims(result, 0)\n",
    "    lr_image = tf.cast(lr_image, tf.float32)\n",
    "    return lr_image\n",
    "\n",
    "def esrgan_sharpening_img(image):\n",
    "    \"\"\"\n",
    "    Returns dictionary containing errors after using the ESRGAN model.\n",
    "    \n",
    "    Parameter path: path of image not including file name\n",
    "    Precondition: path is a string\n",
    "    \n",
    "    Parameter file: file of the image\n",
    "    Precondition: file is a string of a .npy file\n",
    "    \"\"\"\n",
    "    hr_image = preprocess_image(load_image(image))\n",
    "    lr_image = downscale_image(image)\n",
    "    fake_image = model(lr_image)\n",
    "    fake_image = tf.squeeze(fake_image)\n",
    "\n",
    "    hr_image = tf.squeeze(hr_image).numpy()\n",
    "    lr_image = tf.squeeze(lr_image).numpy()\n",
    "#     lr_image = resize(lr_image, (hr_image.shape[0], hr_image.shape[1], 3)).ravel()\n",
    "#     fake_image = resize(fake_image.numpy(), (hr_image.shape[0], hr_image.shape[1], 3))\n",
    "\n",
    "    return np.mean(fake_image, axis=2)"
   ]
  },
  {
   "cell_type": "code",
   "execution_count": 333,
   "id": "impressive-packing",
   "metadata": {},
   "outputs": [],
   "source": [
    "def dice_score(x, y):\n",
    "    numerator = 2*np.count_nonzero(np.logical_and(x, y))\n",
    "    denominator = np.count_nonzero(x) + np.count_nonzero(y)\n",
    "    return numerator/denominator"
   ]
  },
  {
   "cell_type": "code",
   "execution_count": 300,
   "id": "russian-heading",
   "metadata": {},
   "outputs": [],
   "source": [
    "landsat_path = '../landsat_files/landsat_files/'\n",
    "goes_path = '../landsat_files/'\n",
    "goes039 = np.load(goes_path + 'OR_ABI-L1b-RadC-M6C07_G17_s20212401846176_e20212401848561_c20212401849003.npy')\n",
    "goes103 = np.load(goes_path + 'OR_ABI-L1b-RadC-M6C14_G17_s20212401846176_e20212401848549_c20212401848593.npy')\n",
    "\n",
    "pc = ccrs.PlateCarree()\n",
    "pc_params = pc.proj4_params\n",
    "pc_extents = [-124.25, 32.25, -114.25, 42.25]\n",
    "shape = [500, 500]\n",
    "target_area = geometry.AreaDefinition.from_extent('CA', pc_params, shape, pc_extents)\n",
    "\n",
    "latlon1A = [40.49, -121.45]\n",
    "latlon2A = [40.650000000000006, -121.17]\n",
    "coords1A = target_area.get_array_coordinates_from_lonlat(latlon1A[1], latlon1A[0])\n",
    "coords1A = (round(coords1A[0]), round(coords1A[1]))\n",
    "coords2A = target_area.get_array_coordinates_from_lonlat(latlon2A[1], latlon2A[0])\n",
    "coords2A = (round(coords2A[0]), round(coords2A[1]))\n",
    "lonsA = [coords1A[0], coords2A[0]]\n",
    "latsA = [coords2A[1], coords1A[1]]\n",
    "\n",
    "latlon1B = [39.91, -120.97]\n",
    "latlon2B = [40.13, -120.49000000000001]\n",
    "coords1B = target_area.get_array_coordinates_from_lonlat(latlon1B[1], latlon1B[0])\n",
    "coords1B = (round(coords1B[0]), round(coords1B[1]))\n",
    "coords2B = target_area.get_array_coordinates_from_lonlat(latlon2B[1], latlon2B[0])\n",
    "coords2B = (round(coords2B[0]), round(coords2B[1]))\n",
    "lonsB = [coords1B[0], coords2B[0]]\n",
    "latsB = [coords2B[1], coords1B[1]]"
   ]
  },
  {
   "cell_type": "code",
   "execution_count": 358,
   "id": "ideal-angel",
   "metadata": {},
   "outputs": [],
   "source": [
    "goes_fire_mask = np.load(goes_path + 'OR_ABI-L2-FDCC-M6_G17_s20212401846176_e20212401848549_c20212401849146.npy')\n",
    "goes_fire_mask[goes_fire_mask >= 100] = 0"
   ]
  },
  {
   "cell_type": "markdown",
   "id": "spanish-advancement",
   "metadata": {},
   "source": [
    "## SR on Full GOES"
   ]
  },
  {
   "cell_type": "code",
   "execution_count": 297,
   "id": "moderate-counter",
   "metadata": {},
   "outputs": [],
   "source": [
    "pc = ccrs.PlateCarree()\n",
    "pc_params = pc.proj4_params\n",
    "pc_extents = [-124.25, 32.25, -114.25, 42.25]\n",
    "shape = [1000, 1000]\n",
    "target_area = geometry.AreaDefinition.from_extent('CA', pc_params, shape, pc_extents)\n",
    "\n",
    "latlon1A = [40.49, -121.45]\n",
    "latlon2A = [40.650000000000006, -121.17]\n",
    "coords1A = target_area.get_array_coordinates_from_lonlat(latlon1A[1], latlon1A[0])\n",
    "coords1A = (round(coords1A[0]), round(coords1A[1]))\n",
    "coords2A = target_area.get_array_coordinates_from_lonlat(latlon2A[1], latlon2A[0])\n",
    "coords2A = (round(coords2A[0]), round(coords2A[1]))\n",
    "lonsA = [coords1A[0], coords2A[0]]\n",
    "latsA = [coords2A[1], coords1A[1]]\n",
    "\n",
    "latlon1B = [39.91, -120.97]\n",
    "latlon2B = [40.13, -120.49000000000001]\n",
    "coords1B = target_area.get_array_coordinates_from_lonlat(latlon1B[1], latlon1B[0])\n",
    "coords1B = (round(coords1B[0]), round(coords1B[1]))\n",
    "coords2B = target_area.get_array_coordinates_from_lonlat(latlon2B[1], latlon2B[0])\n",
    "coords2B = (round(coords2B[0]), round(coords2B[1]))\n",
    "lonsB = [coords1B[0], coords2B[0]]\n",
    "latsB = [coords2B[1], coords1B[1]]"
   ]
  },
  {
   "cell_type": "code",
   "execution_count": 298,
   "id": "partial-thinking",
   "metadata": {},
   "outputs": [],
   "source": [
    "new_landsat_039_A = np.flipud(np.load(landsat_path + 'LC08_L2SP_044032_20210828_20210901_02_T1_goesLS_BT3.9_gridAcent0.01deg.npy'))\n",
    "new_landsat_103_A = np.flipud(np.load(landsat_path + 'LC08_L2SP_044032_20210828_20210901_02_T1_goesLS_BT10.3_gridAcent0.01deg.npy'))\n",
    "new_landsat_diff_A = new_landsat_039_A - new_landsat_103_A\n",
    "\n",
    "new_landsat_039_B = np.flipud(np.load(landsat_path + 'LC08_L2SP_044032_20210828_20210901_02_T1_goesLS_BT3.9_gridBcent0.01deg.npy'))\n",
    "new_landsat_103_B = np.flipud(np.load(landsat_path + 'LC08_L2SP_044032_20210828_20210901_02_T1_goesLS_BT10.3_gridBcent0.01deg.npy'))\n",
    "new_landsat_diff_B = new_landsat_039_B - new_landsat_103_B\n",
    "\n",
    "new_goes_039_full = esrgan_sharpening_img(goes039)\n",
    "new_goes_103_full = esrgan_sharpening_img(goes103)\n",
    "new_goes_diff_full = new_goes_039_full - new_goes_103_full\n",
    "\n",
    "new_goes_039_A_full = shiftPixels(new_landsat_039_A, new_goes_039_full, -1, 0, [latsA[0], latsA[1]], [lonsA[0], lonsA[1]])\n",
    "new_goes_103_A_full = shiftPixels(new_landsat_103_A, new_goes_103_full, -1, 0, [latsA[0], latsA[1]], [lonsA[0], lonsA[1]])\n",
    "new_goes_diff_A_full = new_goes_039_A_full - new_goes_103_A_full\n",
    "\n",
    "new_goes_039_B_full = shiftPixels(new_landsat_039_B, new_goes_039_full, -1, 0, [latsB[0], latsB[1]], [lonsB[0], lonsB[1]])\n",
    "new_goes_103_B_full = shiftPixels(new_landsat_103_B, new_goes_103_full, -1, 0, [latsB[0], latsB[1]], [lonsB[0], lonsB[1]])\n",
    "new_goes_diff_B_full = new_goes_039_B_full - new_goes_103_B_full"
   ]
  },
  {
   "cell_type": "code",
   "execution_count": 299,
   "id": "floral-rates",
   "metadata": {},
   "outputs": [
    {
     "data": {
      "text/plain": [
       "Text(0.5, 1.0, 'GOES Image B')"
      ]
     },
     "execution_count": 299,
     "metadata": {},
     "output_type": "execute_result"
    },
    {
     "data": {
      "image/png": "[encoded data removed]",
      "text/plain": [
       "<Figure size 1080x720 with 4 Axes>"
      ]
     },
     "metadata": {
      "needs_background": "light"
     },
     "output_type": "display_data"
    }
   ],
   "source": [
    "f, (ax1, ax2) = plt.subplots(2, 2, figsize=(15, 10))\n",
    "max_temp = 10\n",
    "min_temp = 0\n",
    "ax1[0].imshow(new_landsat_diff_A, vmin = min_temp, vmax = max_temp, cmap='hot')\n",
    "ax1[0].set_title('Landsat Image A')\n",
    "ax1[1].imshow(new_goes_diff_A_full, vmin = min_temp, vmax = max_temp, cmap='hot')\n",
    "ax1[1].set_title('GOES Image A')\n",
    "# plt.colorbar(landsat_map, ax = ax2, shrink=0.25)\n",
    "ax2[0].imshow(new_landsat_diff_B, vmin = min_temp, vmax = max_temp, cmap='hot')\n",
    "ax2[0].set_title('Landsat Image B')\n",
    "ax2[1].imshow(new_goes_diff_B_full, vmin = min_temp, vmax = max_temp, cmap='hot')\n",
    "ax2[1].set_title('GOES Image B')"
   ]
  },
  {
   "cell_type": "markdown",
   "id": "portuguese-sherman",
   "metadata": {},
   "source": [
    "## SR on Cropped GOES"
   ]
  },
  {
   "cell_type": "code",
   "execution_count": 352,
   "id": "specified-diving",
   "metadata": {},
   "outputs": [],
   "source": [
    "landsat_img_039_A = np.flipud(np.load(landsat_path + 'LC08_L2SP_044032_20210828_20210901_02_T1_goesLS_BT3.9_gridAcent0.02deg.npy'))\n",
    "new_landsat_img_039_A = np.flipud(np.load(landsat_path + 'LC08_L2SP_044032_20210828_20210901_02_T1_goesLS_BT3.9_gridAcent0.01deg.npy'))\n",
    "goes_img_expanded_039_A = expand(landsat_img_039_A, goes039, -1, 0, [latsA[0], latsA[1]], [lonsA[0], lonsA[1]])\n",
    "goes_img_original_039_A = esrgan_sharpening_img(goes_img_expanded_039_A)\n",
    "\n",
    "landsat_img_103_A = np.flipud(np.load(landsat_path + 'LC08_L2SP_044032_20210828_20210901_02_T1_goesLS_BT10.3_gridAcent0.02deg.npy'))\n",
    "new_landsat_img_103_A = np.flipud(np.load(landsat_path + 'LC08_L2SP_044032_20210828_20210901_02_T1_goesLS_BT10.3_gridAcent0.01deg.npy'))\n",
    "goes_img_expanded_103_A = expand(landsat_img_103_A, goes103, -1, 0, [latsA[0], latsA[1]], [lonsA[0], lonsA[1]])\n",
    "goes_img_original_103_A = esrgan_sharpening_img(goes_img_expanded_103_A)\n",
    "\n",
    "new_landsat_diff_A = new_landsat_img_039_A - new_landsat_img_103_A\n",
    "new_goes_img_039_A = shiftPixels(new_landsat_img_039_A, goes_img_original_039_A, 0, 0)\n",
    "new_goes_img_103_A = shiftPixels(new_landsat_img_103_A, goes_img_original_103_A, 0, 0)\n",
    "new_goes_diff_A = new_goes_img_039_A - new_goes_img_103_A\n",
    "\n",
    "landsat_img_039_B = np.flipud(np.load(landsat_path + 'LC08_L2SP_044032_20210828_20210901_02_T1_goesLS_BT3.9_gridBcent0.02deg.npy'))[:12, :26]\n",
    "new_landsat_img_039_B = np.flipud(np.load(landsat_path + 'LC08_L2SP_044032_20210828_20210901_02_T1_goesLS_BT3.9_gridBcent0.01deg.npy'))\n",
    "goes_img_expanded_039_B = expand(landsat_img_039_B, goes039, -1, 0, [latsB[0], latsB[1]], [lonsB[0], lonsB[1]])\n",
    "goes_img_original_039_B = esrgan_sharpening_img(goes_img_expanded_039_B)\n",
    "\n",
    "landsat_img_103_B = np.flipud(np.load(landsat_path + 'LC08_L2SP_044032_20210828_20210901_02_T1_goesLS_BT10.3_gridBcent0.02deg.npy'))[:12, :26]\n",
    "new_landsat_img_103_B = np.flipud(np.load(landsat_path + 'LC08_L2SP_044032_20210828_20210901_02_T1_goesLS_BT10.3_gridBcent0.01deg.npy'))\n",
    "goes_img_expanded_103_B = expand(landsat_img_103_B, goes103, -1, 0, [latsB[0], latsB[1]], [lonsB[0], lonsB[1]])\n",
    "goes_img_original_103_B = esrgan_sharpening_img(goes_img_expanded_103_B)\n",
    "\n",
    "new_landsat_diff_B = new_landsat_img_039_B - new_landsat_img_103_B\n",
    "new_goes_img_039_B = shiftPixels(new_landsat_img_039_B, goes_img_original_039_B, 0, -1)\n",
    "new_goes_img_103_B = shiftPixels(new_landsat_img_103_B, goes_img_original_103_B, 0, -1)\n",
    "new_goes_diff_B = new_goes_img_039_B - new_goes_img_103_B"
   ]
  },
  {
   "cell_type": "code",
   "execution_count": 353,
   "id": "atomic-forum",
   "metadata": {},
   "outputs": [
    {
     "name": "stdout",
     "output_type": "stream",
     "text": [
      "0.01 deg\n"
     ]
    },
    {
     "data": {
      "text/plain": [
       "Text(0.5, 1.0, 'GOES Image B')"
      ]
     },
     "execution_count": 353,
     "metadata": {},
     "output_type": "execute_result"
    },
    {
     "data": {
      "image/png": "[encoded data removed]",
      "text/plain": [
       "<Figure size 1080x720 with 4 Axes>"
      ]
     },
     "metadata": {
      "needs_background": "light"
     },
     "output_type": "display_data"
    }
   ],
   "source": [
    "print(\"0.01 deg\")\n",
    "\n",
    "landsat_zscore_A = np.log(np.abs(((new_landsat_diff_A-new_landsat_diff_A.mean())/new_landsat_diff_A.std())))\n",
    "goes_zscore_A = np.log(np.abs((new_goes_diff_A-new_goes_diff_A.mean())/new_goes_diff_A.std()))\n",
    "\n",
    "landsat_zscore_B = np.log(np.abs(((new_landsat_diff_B-new_landsat_diff_B.mean())/new_landsat_diff_B.std())))\n",
    "goes_zscore_B = np.log(np.abs((new_goes_diff_B-new_goes_diff_B.mean())/new_goes_diff_B.std()))\n",
    "\n",
    "f, (ax1, ax2) = plt.subplots(2, 2, figsize=(15, 10))\n",
    "max_temp = 3\n",
    "min_temp = 0\n",
    "ax1[0].imshow(landsat_zscore_A, vmin = min_temp, vmax = max_temp, cmap='hot')\n",
    "ax1[0].set_title('Landsat Image A')\n",
    "ax1[1].imshow(goes_zscore_A, vmin = min_temp, vmax = max_temp, cmap='hot')\n",
    "ax1[1].set_title('GOES Image A')\n",
    "# plt.colorbar(landsat_map, ax = ax2, shrink=0.25)\n",
    "ax2[0].imshow(landsat_zscore_B, vmin = min_temp, vmax = max_temp, cmap='hot')\n",
    "ax2[0].set_title('Landsat Image B')\n",
    "ax2[1].imshow(goes_zscore_B, vmin = min_temp, vmax = max_temp, cmap='hot')\n",
    "ax2[1].set_title('GOES Image B')"
   ]
  },
  {
   "cell_type": "code",
   "execution_count": 354,
   "id": "digital-reviewer",
   "metadata": {},
   "outputs": [
    {
     "name": "stdout",
     "output_type": "stream",
     "text": [
      "1.0\n",
      "1.0\n"
     ]
    }
   ],
   "source": [
    "print(dice_score(new_landsat_diff_A, new_goes_diff_A))\n",
    "print(dice_score(new_landsat_diff_B, new_goes_diff_B))"
   ]
  },
  {
   "cell_type": "code",
   "execution_count": 355,
   "id": "assumed-corrections",
   "metadata": {},
   "outputs": [],
   "source": [
    "landsat_img_039_A = np.flipud(np.load(landsat_path + 'LC08_L2SP_044032_20210828_20210901_02_T1_goesLS_BT3.9_gridAcent0.01deg.npy'))\n",
    "new_landsat_img_039_A = np.flipud(np.load(landsat_path + 'LC08_L2SP_044032_20210828_20210901_02_T1_goesLS_BT3.9_gridAcent0.005deg.npy'))\n",
    "goes_img_original_039_A = esrgan_sharpening_img(goes_img_original_039_A)\n",
    "\n",
    "landsat_img_103_A = np.flipud(np.load(landsat_path + 'LC08_L2SP_044032_20210828_20210901_02_T1_goesLS_BT10.3_gridAcent0.01deg.npy'))\n",
    "new_landsat_img_103_A = np.flipud(np.load(landsat_path + 'LC08_L2SP_044032_20210828_20210901_02_T1_goesLS_BT10.3_gridAcent0.005deg.npy'))\n",
    "goes_img_original_103_A = esrgan_sharpening_img(goes_img_original_103_A)\n",
    "\n",
    "new_landsat_diff_A = new_landsat_img_039_A - new_landsat_img_103_A\n",
    "new_goes_img_039_A = shiftPixels(new_landsat_img_039_A, goes_img_original_039_A, 0, -1)\n",
    "new_goes_img_103_A = shiftPixels(new_landsat_img_103_A, goes_img_original_103_A, 0, -1)\n",
    "new_goes_diff_A = new_goes_img_039_A - new_goes_img_103_A\n",
    "\n",
    "landsat_img_039_B = np.flipud(np.load(landsat_path + 'LC08_L2SP_044032_20210828_20210901_02_T1_goesLS_BT3.9_gridBcent0.01deg.npy'))\n",
    "new_landsat_img_039_B = np.flipud(np.load(landsat_path + 'LC08_L2SP_044032_20210828_20210901_02_T1_goesLS_BT3.9_gridBcent0.005deg.npy'))\n",
    "goes_img_original_039_B = esrgan_sharpening_img(goes_img_original_039_B)\n",
    "\n",
    "landsat_img_103_B = np.flipud(np.load(landsat_path + 'LC08_L2SP_044032_20210828_20210901_02_T1_goesLS_BT10.3_gridBcent0.01deg.npy'))\n",
    "new_landsat_img_103_B = np.flipud(np.load(landsat_path + 'LC08_L2SP_044032_20210828_20210901_02_T1_goesLS_BT10.3_gridBcent0.005deg.npy'))\n",
    "goes_img_original_103_B = esrgan_sharpening_img(goes_img_original_103_B)\n",
    "\n",
    "new_landsat_diff_B = new_landsat_img_039_B - new_landsat_img_103_B\n",
    "new_goes_img_039_B = shiftPixels(new_landsat_img_039_B, goes_img_original_039_B, 0, -1)\n",
    "new_goes_img_103_B = shiftPixels(new_landsat_img_103_B, goes_img_original_103_B, 0, -1)\n",
    "new_goes_diff_B = new_goes_img_039_B - new_goes_img_103_B"
   ]
  },
  {
   "cell_type": "code",
   "execution_count": 356,
   "id": "headed-channel",
   "metadata": {},
   "outputs": [
    {
     "name": "stdout",
     "output_type": "stream",
     "text": [
      "0.005 deg\n"
     ]
    },
    {
     "data": {
      "text/plain": [
       "Text(0.5, 1.0, 'GOES Image B')"
      ]
     },
     "execution_count": 356,
     "metadata": {},
     "output_type": "execute_result"
    },
    {
     "data": {
      "image/png": "[encoded data removed]",
      "text/plain": [
       "<Figure size 1080x720 with 4 Axes>"
      ]
     },
     "metadata": {
      "needs_background": "light"
     },
     "output_type": "display_data"
    }
   ],
   "source": [
    "print(\"0.005 deg\")\n",
    "\n",
    "f, (ax1, ax2) = plt.subplots(2, 2, figsize=(15, 10))\n",
    "max_temp = 65\n",
    "min_temp = 0\n",
    "ax1[0].imshow(new_landsat_diff_A, vmin = min_temp, vmax = max_temp, cmap='hot')\n",
    "ax1[0].set_title('Landsat Image A')\n",
    "ax1[1].imshow(new_goes_diff_A, vmin = min_temp, vmax = max_temp, cmap='hot')\n",
    "ax1[1].set_title('GOES Image A')\n",
    "# plt.colorbar(landsat_map, ax = ax2, shrink=0.25)\n",
    "ax2[0].imshow(new_landsat_diff_B, vmin = min_temp, vmax = max_temp, cmap='hot')\n",
    "ax2[0].set_title('Landsat Image B')\n",
    "ax2[1].imshow(new_goes_diff_B, vmin = min_temp, vmax = max_temp, cmap='hot')\n",
    "ax2[1].set_title('GOES Image B')"
   ]
  },
  {
   "cell_type": "code",
   "execution_count": 357,
   "id": "alternate-cleaners",
   "metadata": {},
   "outputs": [
    {
     "name": "stdout",
     "output_type": "stream",
     "text": [
      "1.0\n",
      "1.0\n"
     ]
    }
   ],
   "source": [
    "print(dice_score(new_landsat_diff_A, new_goes_diff_A))\n",
    "print(dice_score(new_landsat_diff_B, new_goes_diff_B))"
   ]
  },
  {
   "cell_type": "code",
   "execution_count": null,
   "id": "existing-nepal",
   "metadata": {},
   "outputs": [],
   "source": []
  }
 ],
 "metadata": {
  "kernelspec": {
   "display_name": "Python 3",
   "language": "python",
   "name": "python3"
  },
  "language_info": {
   "codemirror_mode": {
    "name": "ipython",
    "version": 3
   },
   "file_extension": ".py",
   "mimetype": "text/x-python",
   "name": "python",
   "nbconvert_exporter": "python",
   "pygments_lexer": "ipython3",
   "version": "3.7.9"
  }
 },
 "nbformat": 4,
 "nbformat_minor": 5
}
