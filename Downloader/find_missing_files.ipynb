{
 "cells": [
  {
   "cell_type": "code",
   "execution_count": 93,
   "id": "silent-windsor",
   "metadata": {},
   "outputs": [],
   "source": [
    "import os\n",
    "import random"
   ]
  },
  {
   "cell_type": "code",
   "execution_count": 94,
   "id": "soviet-glory",
   "metadata": {},
   "outputs": [
    {
     "name": "stdout",
     "output_type": "stream",
     "text": [
      "113187\n"
     ]
    }
   ],
   "source": [
    "print(len(os.listdir('../../GOES_Files/npy_files')))"
   ]
  },
  {
   "cell_type": "code",
   "execution_count": 95,
   "id": "macro-token",
   "metadata": {},
   "outputs": [
    {
     "name": "stdout",
     "output_type": "stream",
     "text": [
      "31039\n"
     ]
    }
   ],
   "source": [
    "print(len(os.listdir('../../GOES_Files/clear_sky_mask')))"
   ]
  },
  {
   "cell_type": "code",
   "execution_count": null,
   "id": "failing-stationery",
   "metadata": {},
   "outputs": [],
   "source": []
  },
  {
   "cell_type": "code",
   "execution_count": 96,
   "id": "cooked-carolina",
   "metadata": {},
   "outputs": [],
   "source": [
    "def find_npy_file(path, file, band):\n",
    "    \"\"\"\n",
    "    Returns the string name of another file from the same time for a given GOES band npy file,\n",
    "    or None if there is no such file in the given directory.\n",
    "    \n",
    "    Parameter path: The path where the returned file is located in\n",
    "    Precondition: path is a string to a directory relative to the current one, with .npy files\n",
    "    \n",
    "    Parameter file: A file from the same time the returned file should have\n",
    "    Precondition: file is a string with the name of the original file, and includes the path\n",
    "    \n",
    "    Parameter band: GOES band the returned file should be from\n",
    "    Precondition: band is a string of length 2\n",
    "    \"\"\"\n",
    "    for x in os.listdir(path):\n",
    "        if x[19:21] == band and file[23:37] == x[27:41]:\n",
    "            return x"
   ]
  },
  {
   "cell_type": "code",
   "execution_count": 99,
   "id": "homeless-bread",
   "metadata": {},
   "outputs": [],
   "source": [
    "count = 0\n",
    "for file in os.listdir('../../GOES_Files/clear_sky_mask'):\n",
    "    try:\n",
    "        file07 = find_npy_file('../../GOES_Files/npy_files', file, '07')\n",
    "        file14 = find_npy_file('../../GOES_Files/npy_files', file, '14')\n",
    "        img07 = np.load(path + file07)\n",
    "        img14 = np.load(path + file14)\n",
    "\n",
    "        cloud_mask = np.load('../../GOES_Files/clear_sky_mask' + file)\n",
    "        cloud_mask = cloud_mask.astype(bool)\n",
    "        fires = np.logical_and(fire_mask(img07, img14), np.logical_not(cloud_mask))\n",
    "\n",
    "        if np.count_nonzero(fires) != 0:\n",
    "            x += 1\n",
    "            \n",
    "    except:\n",
    "        pass"
   ]
  },
  {
   "cell_type": "code",
   "execution_count": 100,
   "id": "prospective-birthday",
   "metadata": {},
   "outputs": [
    {
     "data": {
      "text/plain": [
       "0"
      ]
     },
     "execution_count": 100,
     "metadata": {},
     "output_type": "execute_result"
    }
   ],
   "source": [
    "count"
   ]
  },
  {
   "cell_type": "code",
   "execution_count": 37,
   "id": "aggressive-henry",
   "metadata": {},
   "outputs": [],
   "source": [
    "def missing_cloud_masks():\n",
    "    for filedate in filedates:\n",
    "        if filedate not in cmdates:\n",
    "            return filedate\n",
    "    return None\n",
    "\n",
    "def missing_files():\n",
    "    for cmdate in cmdates:\n",
    "        if cmdate not in filedates:\n",
    "            return cmdate\n",
    "    return None"
   ]
  },
  {
   "cell_type": "code",
   "execution_count": 137,
   "id": "turkish-telescope",
   "metadata": {},
   "outputs": [],
   "source": [
    "filedates = set()\n",
    "for file in os.listdir('../../GOES_Files/npy_files'):\n",
    "    filedates.add(file[27:41])\n",
    "\n",
    "cmdates = set()\n",
    "for file in os.listdir('../../GOES_Files/clear_sky_mask'):\n",
    "    cmdates.add(file[23:37])"
   ]
  },
  {
   "cell_type": "code",
   "execution_count": 120,
   "id": "increased-tribute",
   "metadata": {},
   "outputs": [
    {
     "name": "stdout",
     "output_type": "stream",
     "text": [
      "The earliest date is 20182400002156\n",
      "The latest date is 20203592356177\n"
     ]
    }
   ],
   "source": [
    "mini = 99999999999999\n",
    "maxi = 0\n",
    "for date in cmdates:\n",
    "    try:\n",
    "        if date in filedates:\n",
    "            date = int(date)\n",
    "            if date > maxi:\n",
    "                maxi = date\n",
    "            elif date < mini:\n",
    "                mini = date\n",
    "    except ValueError:\n",
    "        pass\n",
    "print(\"The earliest date is \" + str(mini))\n",
    "print(\"The latest date is \" + str(maxi))"
   ]
  },
  {
   "cell_type": "code",
   "execution_count": 138,
   "id": "burning-semiconductor",
   "metadata": {},
   "outputs": [
    {
     "data": {
      "text/plain": [
       "'20203340701178'"
      ]
     },
     "execution_count": 138,
     "metadata": {},
     "output_type": "execute_result"
    }
   ],
   "source": [
    "missing_cloud_masks()"
   ]
  },
  {
   "cell_type": "code",
   "execution_count": 139,
   "id": "persistent-sydney",
   "metadata": {},
   "outputs": [
    {
     "data": {
      "text/plain": [
       "'20183191857189'"
      ]
     },
     "execution_count": 139,
     "metadata": {},
     "output_type": "execute_result"
    }
   ],
   "source": [
    "missing_files()"
   ]
  },
  {
   "cell_type": "code",
   "execution_count": 42,
   "id": "metropolitan-debut",
   "metadata": {},
   "outputs": [
    {
     "name": "stdout",
     "output_type": "stream",
     "text": [
      "False\n"
     ]
    }
   ],
   "source": [
    "print ('2020296*' in filedates)"
   ]
  },
  {
   "cell_type": "code",
   "execution_count": 92,
   "id": "potential-writing",
   "metadata": {},
   "outputs": [],
   "source": [
    "for x in filedates:\n",
    "    if x[:7] == '2018300':\n",
    "        print(True)"
   ]
  },
  {
   "cell_type": "code",
   "execution_count": 91,
   "id": "unlimited-afghanistan",
   "metadata": {},
   "outputs": [],
   "source": [
    "for x in cmdates:\n",
    "    if x[:7] == '2018300':\n",
    "        print(True)"
   ]
  },
  {
   "cell_type": "code",
   "execution_count": 46,
   "id": "organic-position",
   "metadata": {},
   "outputs": [
    {
     "name": "stdout",
     "output_type": "stream",
     "text": [
      "True\n"
     ]
    }
   ],
   "source": [
    "print ('20202291621176' in cmdates)"
   ]
  },
  {
   "cell_type": "code",
   "execution_count": 136,
   "id": "essential-algebra",
   "metadata": {},
   "outputs": [],
   "source": [
    "for x in os.listdir('../../GOES_Files/clear_sky_mask'):\n",
    "    if x[23:30] == '2018239':\n",
    "        os.remove('../../GOES_Files/clear_sky_mask/' + x)"
   ]
  }
 ],
 "metadata": {
  "kernelspec": {
   "display_name": "Python 3",
   "language": "python",
   "name": "python3"
  },
  "language_info": {
   "codemirror_mode": {
    "name": "ipython",
    "version": 3
   },
   "file_extension": ".py",
   "mimetype": "text/x-python",
   "name": "python",
   "nbconvert_exporter": "python",
   "pygments_lexer": "ipython3",
   "version": "3.7.9"
  }
 },
 "nbformat": 4,
 "nbformat_minor": 5
}
