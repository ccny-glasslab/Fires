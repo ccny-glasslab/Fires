{
 "cells": [
  {
   "cell_type": "code",
   "execution_count": 1,
   "id": "excellent-capital",
   "metadata": {},
   "outputs": [],
   "source": [
    "import os\n",
    "import random"
   ]
  },
  {
   "cell_type": "code",
   "execution_count": 2,
   "id": "painful-harmony",
   "metadata": {},
   "outputs": [],
   "source": [
    "def missing_cloud_masks():\n",
    "    for filedate in filedates:\n",
    "        if filedate not in cmdates:\n",
    "            return filedate\n",
    "    return None"
   ]
  },
  {
   "cell_type": "code",
   "execution_count": 3,
   "id": "impaired-motivation",
   "metadata": {},
   "outputs": [],
   "source": [
    "filedates = set()\n",
    "for file in os.listdir('../../GOES_Files/npy_files'):\n",
    "    filedates.add(file[27:41])\n",
    "\n",
    "cmdates = set()\n",
    "for file in os.listdir('../../GOES_Files/clear_sky_mask'):\n",
    "    cmdates.add(file[23:37])"
   ]
  },
  {
   "cell_type": "code",
   "execution_count": 4,
   "id": "sound-defendant",
   "metadata": {},
   "outputs": [
    {
     "data": {
      "text/plain": [
       "'20182592322189'"
      ]
     },
     "execution_count": 4,
     "metadata": {},
     "output_type": "execute_result"
    }
   ],
   "source": [
    "missing_cloud_masks()"
   ]
  },
  {
   "cell_type": "code",
   "execution_count": null,
   "id": "extraordinary-analysis",
   "metadata": {},
   "outputs": [],
   "source": []
  },
  {
   "cell_type": "code",
   "execution_count": null,
   "id": "original-evolution",
   "metadata": {},
   "outputs": [],
   "source": []
  }
 ],
 "metadata": {
  "kernelspec": {
   "display_name": "Python 3",
   "language": "python",
   "name": "python3"
  },
  "language_info": {
   "codemirror_mode": {
    "name": "ipython",
    "version": 3
   },
   "file_extension": ".py",
   "mimetype": "text/x-python",
   "name": "python",
   "nbconvert_exporter": "python",
   "pygments_lexer": "ipython3",
   "version": "3.7.9"
  }
 },
 "nbformat": 4,
 "nbformat_minor": 5
}
