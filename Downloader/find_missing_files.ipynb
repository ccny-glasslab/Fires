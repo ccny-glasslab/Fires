{
 "cells": [
  {
   "cell_type": "code",
   "execution_count": 5,
   "id": "encouraging-samba",
   "metadata": {},
   "outputs": [],
   "source": [
    "import os\n",
    "import random"
   ]
  },
  {
   "cell_type": "code",
   "execution_count": 44,
   "id": "harmful-emperor",
   "metadata": {},
   "outputs": [
    {
     "name": "stdout",
     "output_type": "stream",
     "text": [
      "53438\n"
     ]
    }
   ],
   "source": [
    "print(len(os.listdir('../../GOES_Files/npy_files')))"
   ]
  },
  {
   "cell_type": "code",
   "execution_count": 45,
   "id": "special-nightlife",
   "metadata": {},
   "outputs": [
    {
     "name": "stdout",
     "output_type": "stream",
     "text": [
      "31039\n"
     ]
    }
   ],
   "source": [
    "print(len(os.listdir('../../GOES_Files/clear_sky_mask')))"
   ]
  },
  {
   "cell_type": "code",
   "execution_count": 31,
   "id": "laden-individual",
   "metadata": {},
   "outputs": [],
   "source": [
    "def missing_cloud_masks():\n",
    "    for filedate in filedates:\n",
    "        if filedate not in cmdates:\n",
    "            return filedate\n",
    "    return None"
   ]
  },
  {
   "cell_type": "code",
   "execution_count": 39,
   "id": "unlikely-discount",
   "metadata": {},
   "outputs": [],
   "source": [
    "filedates = set()\n",
    "for file in os.listdir('../../GOES_Files/npy_files'):\n",
    "    filedates.add(file[27:41])\n",
    "\n",
    "cmdates = set()\n",
    "for file in os.listdir('../../GOES_Files/clear_sky_mask'):\n",
    "    cmdates.add(file[23:37])"
   ]
  },
  {
   "cell_type": "code",
   "execution_count": 32,
   "id": "corresponding-short",
   "metadata": {},
   "outputs": [
    {
     "data": {
      "text/plain": [
       "'20182451307191'"
      ]
     },
     "execution_count": 32,
     "metadata": {},
     "output_type": "execute_result"
    }
   ],
   "source": [
    "missing_cloud_masks()"
   ]
  },
  {
   "cell_type": "code",
   "execution_count": 40,
   "id": "blind-characteristic",
   "metadata": {},
   "outputs": [
    {
     "name": "stdout",
     "output_type": "stream",
     "text": [
      "False\n"
     ]
    }
   ],
   "source": [
    "print ('20182781201191' in filedates)"
   ]
  },
  {
   "cell_type": "code",
   "execution_count": 41,
   "id": "alpha-lodge",
   "metadata": {},
   "outputs": [
    {
     "name": "stdout",
     "output_type": "stream",
     "text": [
      "True\n"
     ]
    }
   ],
   "source": [
    "print ('20183290342190' in cmdates)"
   ]
  },
  {
   "cell_type": "code",
   "execution_count": null,
   "id": "about-helena",
   "metadata": {},
   "outputs": [],
   "source": []
  },
  {
   "cell_type": "code",
   "execution_count": null,
   "id": "massive-parent",
   "metadata": {},
   "outputs": [],
   "source": []
  }
 ],
 "metadata": {
  "kernelspec": {
   "display_name": "Python 3",
   "language": "python",
   "name": "python3"
  },
  "language_info": {
   "codemirror_mode": {
    "name": "ipython",
    "version": 3
   },
   "file_extension": ".py",
   "mimetype": "text/x-python",
   "name": "python",
   "nbconvert_exporter": "python",
   "pygments_lexer": "ipython3",
   "version": "3.7.9"
  }
 },
 "nbformat": 4,
 "nbformat_minor": 5
}
