{
 "cells": [
  {
   "cell_type": "code",
   "execution_count": 1,
   "metadata": {},
   "outputs": [],
   "source": [
    "import datetime\n",
    "import s3fs\n",
    "fs = s3fs.S3FileSystem(anon = True)"
   ]
  },
  {
   "cell_type": "markdown",
   "metadata": {},
   "source": [
    "# AWS Link"
   ]
  },
  {
   "cell_type": "code",
   "execution_count": 2,
   "metadata": {},
   "outputs": [],
   "source": [
    "def AWSname(year, jday, utchr, band):\n",
    "    \"\"\"\n",
    "    appends to file for using wget -i with\n",
    "    puts the links for the first file for a given band at a given hour into goescodes.txt\n",
    "    band should be two digits\n",
    "    all inputs are strings\n",
    "    \"\"\"\n",
    "    urls = open(\"test/AWSurls.txt\", \"a\")\n",
    "    time_log = open(\"test/time_log.txt\", \"a\")\n",
    "    prefix = 'https://noaa-goes17.s3.amazonaws.com/'\n",
    "    file_list = fs.ls('s3://noaa-goes17/ABI-L1b-RadC/' + year + '/' + jday + '/' + utchr)\n",
    "    date = datetime.datetime.strptime(year[2:] + jday, '%y%j').date()\n",
    "    date = date.strftime('%m/%d/%Y')\n",
    "    for file in file_list:\n",
    "        if file[56:58] == band:\n",
    "            file = prefix + file[12:]\n",
    "            print(file)\n",
    "            urls.write('\\n' + file)\n",
    "            time_log.write('\\n' + date + ' UTC ' + utchr + ' band ' + band)\n",
    "            break\n",
    "    urls.close()\n",
    "    time_log.close()\n",
    "    \n",
    "def writeAWSURLs(hr_0, day_0, yr, band, hr_f=None, day_f=None):\n",
    "    \"\"\"\n",
    "    appends to file for using wget -i with\n",
    "    uses a range of hours and days\n",
    "    takes the first file in each hour\n",
    "    all inputs are strings\n",
    "    \"\"\"\n",
    "    if hr_f == None:\n",
    "        hr_f = hr_0\n",
    "    if day_f == None:\n",
    "        day_f = day_0\n",
    "        \n",
    "    hr = int(hr_0)\n",
    "    day = int(day_0)\n",
    "    \n",
    "    while day <= int(day_f):\n",
    "        while hr <= int(hr_f):\n",
    "            AWSname(yr, str(day), str(hr), band)\n",
    "            hr += 1\n",
    "        day += 1\n",
    "        hr = int(hr_0)"
   ]
  },
  {
   "cell_type": "code",
   "execution_count": 3,
   "metadata": {},
   "outputs": [
    {
     "name": "stdout",
     "output_type": "stream",
     "text": [
      "https://noaa-goes17.s3.amazonaws.com/ABI-L1b-RadC/2018/317/18/OR_ABI-L1b-RadC-M3C01_G17_s20183171802219_e20183171804592_c20183171805029.nc\n"
     ]
    }
   ],
   "source": [
    "writeAWSURLs('18','317','2018','01','18','317')"
   ]
  },
  {
   "cell_type": "markdown",
   "metadata": {},
   "source": [
    "# GCP Link"
   ]
  },
  {
   "cell_type": "code",
   "execution_count": 4,
   "metadata": {},
   "outputs": [],
   "source": [
    "def GCPname(year, jday, utchr, band):\n",
    "    \"\"\"\n",
    "    appends to file for using wget -i with\n",
    "    puts the links for the first file for a given band at a given hour into goescodes.txt\n",
    "    band should be two digits\n",
    "    all inputs are strings\n",
    "    \"\"\"\n",
    "    urls = open(\"../../GOES_Files/GCPurls.txt\", \"a\")\n",
    "    time_log = open(\"../../GOES_Files/time_log.txt\", \"a\")\n",
    "    prefix = 'gs://gcp-public-data-goes-17/ABI-L1b-RadC/'\n",
    "    for n in range(10):\n",
    "        code = year + jday + utchr + '0' + str(n) \n",
    "        urls.write(prefix + year + '/' + jday + '/' + utchr + '/' + 'OR_ABI-L1b-RadC-M*C' + band + '_G17_s' + code + '*.nc' + '\\n')\n",
    "        print(prefix + year + '/' + jday + '/' + utchr + '/' + 'OR_ABI-L1b-RadC-M*C' + band + '_G17_s' + code + '*.nc' + '\\n')\n",
    "    date = datetime.datetime.strptime(year[2:] + jday, '%y%j').date()\n",
    "    date = date.strftime('%m/%d/%Y')\n",
    "    time_log.write('\\n' + date + ' UTC ' + utchr + ' band ' + band)\n",
    "    urls.close()\n",
    "    time_log.close()\n",
    "\n",
    "#gs://gcp-public-data-goes-17/ABI-L1b-RadC/2018/320/18/OR_ABI-L1b-RadC-M3C01_G17_s20183201806190_e20183201808563_c20183201812152.nc"
   ]
  },
  {
   "cell_type": "code",
   "execution_count": 6,
   "metadata": {},
   "outputs": [
    {
     "name": "stdout",
     "output_type": "stream",
     "text": [
      "gs://gcp-public-data-goes-17/ABI-L1b-RadC/2018/320/18/OR_ABI-L1b-RadC-M*C01_G17_s20183201800*.nc\n",
      "\n",
      "gs://gcp-public-data-goes-17/ABI-L1b-RadC/2018/320/18/OR_ABI-L1b-RadC-M*C01_G17_s20183201801*.nc\n",
      "\n",
      "gs://gcp-public-data-goes-17/ABI-L1b-RadC/2018/320/18/OR_ABI-L1b-RadC-M*C01_G17_s20183201802*.nc\n",
      "\n",
      "gs://gcp-public-data-goes-17/ABI-L1b-RadC/2018/320/18/OR_ABI-L1b-RadC-M*C01_G17_s20183201803*.nc\n",
      "\n",
      "gs://gcp-public-data-goes-17/ABI-L1b-RadC/2018/320/18/OR_ABI-L1b-RadC-M*C01_G17_s20183201804*.nc\n",
      "\n",
      "gs://gcp-public-data-goes-17/ABI-L1b-RadC/2018/320/18/OR_ABI-L1b-RadC-M*C01_G17_s20183201805*.nc\n",
      "\n",
      "gs://gcp-public-data-goes-17/ABI-L1b-RadC/2018/320/18/OR_ABI-L1b-RadC-M*C01_G17_s20183201806*.nc\n",
      "\n",
      "gs://gcp-public-data-goes-17/ABI-L1b-RadC/2018/320/18/OR_ABI-L1b-RadC-M*C01_G17_s20183201807*.nc\n",
      "\n",
      "gs://gcp-public-data-goes-17/ABI-L1b-RadC/2018/320/18/OR_ABI-L1b-RadC-M*C01_G17_s20183201808*.nc\n",
      "\n",
      "gs://gcp-public-data-goes-17/ABI-L1b-RadC/2018/320/18/OR_ABI-L1b-RadC-M*C01_G17_s20183201809*.nc\n",
      "\n"
     ]
    }
   ],
   "source": [
    "GCPname('2018', '320', '18', '01')"
   ]
  },
  {
   "cell_type": "code",
   "execution_count": null,
   "metadata": {},
   "outputs": [],
   "source": []
  }
 ],
 "metadata": {
  "kernelspec": {
   "display_name": "Python 3",
   "language": "python",
   "name": "python3"
  },
  "language_info": {
   "codemirror_mode": {
    "name": "ipython",
    "version": 3
   },
   "file_extension": ".py",
   "mimetype": "text/x-python",
   "name": "python",
   "nbconvert_exporter": "python",
   "pygments_lexer": "ipython3",
   "version": "3.7.9"
  }
 },
 "nbformat": 4,
 "nbformat_minor": 4
}
