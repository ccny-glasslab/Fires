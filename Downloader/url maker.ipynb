{
 "cells": [
  {
   "cell_type": "code",
   "execution_count": 12,
   "metadata": {
    "collapsed": false
   },
   "outputs": [],
   "source": [
    "import s3fs\n",
    "fs = s3fs.S3FileSystem(anon = True)"
   ]
  },
  {
   "cell_type": "code",
   "execution_count": 44,
   "metadata": {
    "collapsed": true
   },
   "outputs": [],
   "source": [
    "def name(year, jday, utchr, band):\n",
    "    \"\"\"\n",
    "    appends to file for using wget -i with\n",
    "    puts the links for the first file for a given band at a given hour into goescodes.txt\n",
    "    band should be two digits\n",
    "    all inputs are strings\n",
    "    \"\"\"\n",
    "    urls = open(\"goescodes.txt\", \"a\")\n",
    "    prefix = 'https://noaa-goes17.s3.amazonaws.com/'\n",
    "    file_list = fs.ls('s3://noaa-goes17/ABI-L1b-RadC/' + year + '/' + jday + '/' + utchr)\n",
    "    for file in file_list:\n",
    "        if file[56:58] == band:\n",
    "            file = prefix + file[12:]\n",
    "            print(file)\n",
    "            urls.write('\\n' + file)\n",
    "            break\n",
    "    urls.close()"
   ]
  },
  {
   "cell_type": "code",
   "execution_count": 40,
   "metadata": {
    "collapsed": false
   },
   "outputs": [
    {
     "name": "stdout",
     "output_type": "stream",
     "text": [
      "https://noaa-goes17.s3.amazonaws.com/ABI-L1b-RadC/2018/322/18/OR_ABI-L1b-RadC-M3C03_G17_s20183221802189_e20183221804562_c20183221804595.nc\n"
     ]
    }
   ],
   "source": [
    "name('2018', '322', '18', '03')"
   ]
  },
  {
   "cell_type": "code",
   "execution_count": 101,
   "metadata": {
    "collapsed": false
   },
   "outputs": [],
   "source": [
    "def downloadfiles(hr_0, day_0, yr, band, hr_f=None, day_f=None):\n",
    "    \"\"\"\n",
    "    appends to file for using wget -i with\n",
    "    uses a range of hours and days\n",
    "    takes the first file in each hour\n",
    "    all inputs are strings\n",
    "    \"\"\"\n",
    "    if hr_f == None:\n",
    "        hr_f = hr_0\n",
    "    if day_f == None:\n",
    "        day_f = day_0\n",
    "        \n",
    "    hr = int(hr_0)\n",
    "    day = int(day_0)\n",
    "    \n",
    "    while day <= int(day_f):\n",
    "        while hr <= int(hr_f):\n",
    "            name(yr, day_0, str(hr), band)\n",
    "            hr += 1\n",
    "        day += 1\n",
    "        hr = int(hr_0)"
   ]
  },
  {
   "cell_type": "code",
   "execution_count": 102,
   "metadata": {
    "collapsed": false
   },
   "outputs": [
    {
     "name": "stdout",
     "output_type": "stream",
     "text": [
      "https://noaa-goes17.s3.amazonaws.com/ABI-L1b-RadC/2018/322/18/OR_ABI-L1b-RadC-M3C03_G17_s20183221802189_e20183221804562_c20183221804595.nc\n",
      "https://noaa-goes17.s3.amazonaws.com/ABI-L1b-RadC/2018/322/18/OR_ABI-L1b-RadC-M3C03_G17_s20183221802189_e20183221804562_c20183221804595.nc\n"
     ]
    }
   ],
   "source": [
    "downloadfiles('18','322','2018','03','18','323')"
   ]
  }
 ],
 "metadata": {
  "kernelspec": {
   "display_name": "wildfireenv3",
   "language": "python",
   "name": "wildfireenv3"
  },
  "language_info": {
   "codemirror_mode": {
    "name": "ipython",
    "version": 3
   },
   "file_extension": ".py",
   "mimetype": "text/x-python",
   "name": "python",
   "nbconvert_exporter": "python",
   "pygments_lexer": "ipython3",
   "version": "3.8.5"
  }
 },
 "nbformat": 4,
 "nbformat_minor": 4
}
