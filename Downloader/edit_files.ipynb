{
 "cells": [
  {
   "cell_type": "code",
   "execution_count": 1,
   "id": "still-study",
   "metadata": {},
   "outputs": [],
   "source": [
    "import os\n",
    "import sys\n",
    "\n",
    "sys.path.append('../Functions')\n",
    "import edit_files"
   ]
  },
  {
   "cell_type": "code",
   "execution_count": 6,
   "id": "conventional-champagne",
   "metadata": {},
   "outputs": [
    {
     "name": "stdout",
     "output_type": "stream",
     "text": [
      "The total number of .npy files is 18191\n",
      "The number of .npy files per band is 6063\n"
     ]
    }
   ],
   "source": [
    "path, dirs, files = next(os.walk(\"../../GOES_Files/npy_files\"))\n",
    "print(\"The total number of .npy files is \" + str(len(files)))\n",
    "print(\"The number of .npy files per band is \" + str(int(len(files)/3)))"
   ]
  },
  {
   "cell_type": "code",
   "execution_count": 7,
   "id": "european-earthquake",
   "metadata": {},
   "outputs": [
    {
     "name": "stdout",
     "output_type": "stream",
     "text": [
      "The total number of masks is 1947\n"
     ]
    }
   ],
   "source": [
    "path, dirs, files = next(os.walk(\"../../GOES_Files/clear_sky_mask\"))\n",
    "print(\"The total number of masks is \" + str(len(files)))"
   ]
  },
  {
   "cell_type": "code",
   "execution_count": null,
   "id": "employed-confusion",
   "metadata": {},
   "outputs": [],
   "source": []
  }
 ],
 "metadata": {
  "kernelspec": {
   "display_name": "Python 3",
   "language": "python",
   "name": "python3"
  },
  "language_info": {
   "codemirror_mode": {
    "name": "ipython",
    "version": 3
   },
   "file_extension": ".py",
   "mimetype": "text/x-python",
   "name": "python",
   "nbconvert_exporter": "python",
   "pygments_lexer": "ipython3",
   "version": "3.7.9"
  }
 },
 "nbformat": 4,
 "nbformat_minor": 5
}
