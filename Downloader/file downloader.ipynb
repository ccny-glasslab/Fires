{
 "cells": [
  {
   "cell_type": "code",
   "execution_count": 69,
   "metadata": {},
   "outputs": [],
   "source": [
    "import s3fs\n",
    "fs = s3fs.S3FileSystem(anon = True)"
   ]
  },
  {
   "cell_type": "code",
   "execution_count": 70,
   "metadata": {},
   "outputs": [],
   "source": [
    "def name(year, jday, utchr, band):\n",
    "    \"\"\"\n",
    "    appends to file for using wget -i with\n",
    "    puts the links for all files for a given band at a given hour into goescodes.txt\n",
    "    band should be two digits\n",
    "    \"\"\"\n",
    "    file = open(\"goescodes.txt\", \"a\")\n",
    "    prefix = 'https://noaa-goes17.s3.amazonaws.com/'\n",
    "    x = fs.ls('s3://noaa-goes17/ABI-L1b-RadC/' + year + '/' + jday + '/' + utchr)\n",
    "    name=[]\n",
    "    for y in x:\n",
    "        if y[56:58] == band:\n",
    "            y = prefix + y[12:]\n",
    "            file.write('\\n' + y)\n",
    "    file.close()"
   ]
  },
  {
   "cell_type": "code",
   "execution_count": 68,
   "metadata": {},
   "outputs": [],
   "source": [
    "name('2020', '293', '00', '14')"
   ]
  },
  {
   "cell_type": "code",
   "execution_count": null,
   "metadata": {},
   "outputs": [],
   "source": []
  }
 ],
 "metadata": {
  "kernelspec": {
   "display_name": "Python 3",
   "language": "python",
   "name": "python3"
  },
  "language_info": {
   "codemirror_mode": {
    "name": "ipython",
    "version": 3
   },
   "file_extension": ".py",
   "mimetype": "text/x-python",
   "name": "python",
   "nbconvert_exporter": "python",
   "pygments_lexer": "ipython3",
   "version": "3.7.6"
  }
 },
 "nbformat": 4,
 "nbformat_minor": 4
}
