{
 "cells": [
  {
   "cell_type": "code",
   "execution_count": 1,
   "id": "turkish-coating",
   "metadata": {},
   "outputs": [
    {
     "name": "stderr",
     "output_type": "stream",
     "text": [
      "/sharedData2/nshakoor/.conda/envs/fires/lib/python3.7/site-packages/pyresample/bilinear/__init__.py:49: UserWarning: XArray and/or zarr not found, XArrayBilinearResampler won't be available.\n",
      "  warnings.warn(\"XArray and/or zarr not found, XArrayBilinearResampler won't be available.\")\n"
     ]
    }
   ],
   "source": [
    "import datetime\n",
    "import os\n",
    "import random\n",
    "import xarray as xr\n",
    "import metpy\n",
    "import cartopy.crs as ccrs\n",
    "from pyresample import geometry, grid\n",
    "import numpy as np\n",
    "import matplotlib.pyplot as plt\n",
    "import netCDF4"
   ]
  },
  {
   "cell_type": "markdown",
   "id": "studied-garden",
   "metadata": {},
   "source": [
    "Define parameters"
   ]
  },
  {
   "cell_type": "code",
   "execution_count": 2,
   "id": "owned-builder",
   "metadata": {},
   "outputs": [],
   "source": [
    "pc = ccrs.PlateCarree() #equidistant cylindrical projection\n",
    "pc_extents = [-124.25, -114.25, 32.25, 42.25] #lons, lats\n",
    "pc_params = pc.proj4_params #projection parameters loaded from proj4\n",
    "target_extents = [pc_extents[0], pc_extents[2], pc_extents[1], pc_extents[3]] #reorder the lons and lats\n",
    "target_rows, target_cols = 500, 500\n",
    "shape = [target_rows, target_cols] #shape of the image is 500x500 pixels"
   ]
  },
  {
   "cell_type": "code",
   "execution_count": 3,
   "id": "rational-valve",
   "metadata": {},
   "outputs": [
    {
     "name": "stdout",
     "output_type": "stream",
     "text": [
      "{'ellps': 'WGS84', 'a': 57.29577951308232, 'proj': 'eqc', 'lon_0': 0.0}\n"
     ]
    }
   ],
   "source": [
    "#here is what is shown from the parameters\n",
    "print(pc_params)"
   ]
  },
  {
   "cell_type": "markdown",
   "id": "round-thickness",
   "metadata": {},
   "source": [
    "Load the .nc file and parse the radiance data"
   ]
  },
  {
   "cell_type": "code",
   "execution_count": 4,
   "id": "aboriginal-brisbane",
   "metadata": {},
   "outputs": [],
   "source": [
    "file = random.choice(os.listdir('../../GOES_Files/nc_files/'))\n",
    "data = xr.open_dataset('../../GOES_Files/nc_files/' + file)\n",
    "dat = data.metpy.parse_cf('Rad')\n",
    "rad = dat.data"
   ]
  },
  {
   "cell_type": "markdown",
   "id": "immune-tiger",
   "metadata": {},
   "source": [
    "Calculate the brightness temperatures based on the radiance data and other information from the .nc file and save as an array"
   ]
  },
  {
   "cell_type": "code",
   "execution_count": 5,
   "id": "laughing-presence",
   "metadata": {},
   "outputs": [],
   "source": [
    "fk1 = float(data.metpy.parse_cf('planck_fk1'))\n",
    "fk2 = float(data.metpy.parse_cf('planck_fk2'))\n",
    "bc1 = float(data.metpy.parse_cf('planck_bc1'))\n",
    "bc2 = float(data.metpy.parse_cf('planck_bc2'))\n",
    "bt = (fk2/(xr.ufuncs.log(fk1/rad + 1)) - bc1)/bc2\n",
    "bt = np.asarray(bt)"
   ]
  },
  {
   "cell_type": "markdown",
   "id": "hawaiian-while",
   "metadata": {},
   "source": [
    "Define source and target areas <br />\n",
    "Source area is from nc file <br />\n",
    "Target Area is created using the previously defined parameters"
   ]
  },
  {
   "cell_type": "code",
   "execution_count": 6,
   "id": "visible-extraction",
   "metadata": {},
   "outputs": [
    {
     "name": "stderr",
     "output_type": "stream",
     "text": [
      "/sharedData2/nshakoor/.conda/envs/fires/lib/python3.7/site-packages/pyproj/crs/crs.py:1216: UserWarning: You will likely lose important projection information when converting to a PROJ string from another format. See: https://proj.org/faq.html#what-is-the-best-format-for-describing-coordinate-reference-systems\n",
      "  return self._crs.to_proj4(version=version)\n"
     ]
    }
   ],
   "source": [
    "source_area = geometry.AreaDefinition.from_cf(data)\n",
    "target_area = geometry.AreaDefinition.from_extent('CA', pc_params, shape, target_extents)"
   ]
  },
  {
   "cell_type": "markdown",
   "id": "sunset-repair",
   "metadata": {},
   "source": [
    "Resample the brightness temperatures with source and target areas and save as an array"
   ]
  },
  {
   "cell_type": "code",
   "execution_count": 7,
   "id": "continued-exploration",
   "metadata": {},
   "outputs": [
    {
     "name": "stderr",
     "output_type": "stream",
     "text": [
      "/sharedData2/nshakoor/.conda/envs/fires/lib/python3.7/site-packages/pyproj/crs/crs.py:1216: UserWarning: You will likely lose important projection information when converting to a PROJ string from another format. See: https://proj.org/faq.html#what-is-the-best-format-for-describing-coordinate-reference-systems\n",
      "  return self._crs.to_proj4(version=version)\n"
     ]
    }
   ],
   "source": [
    "result = grid.get_resampled_image(target_area, source_area, bt)\n",
    "np.save('../../GOES_Files/npy_files/' + file[:-3], result)\n",
    "data.close()\n",
    "os.remove('../../GOES_Files/nc_files/' + file)"
   ]
  }
 ],
 "metadata": {
  "kernelspec": {
   "display_name": "Python 3",
   "language": "python",
   "name": "python3"
  },
  "language_info": {
   "codemirror_mode": {
    "name": "ipython",
    "version": 3
   },
   "file_extension": ".py",
   "mimetype": "text/x-python",
   "name": "python",
   "nbconvert_exporter": "python",
   "pygments_lexer": "ipython3",
   "version": "3.7.9"
  }
 },
 "nbformat": 4,
 "nbformat_minor": 5
}
