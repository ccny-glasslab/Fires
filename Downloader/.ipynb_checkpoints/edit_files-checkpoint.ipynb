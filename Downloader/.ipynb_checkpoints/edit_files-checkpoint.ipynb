{
 "cells": [
  {
   "cell_type": "code",
   "execution_count": 4,
   "id": "dense-detective",
   "metadata": {},
   "outputs": [],
   "source": [
    "import os"
   ]
  },
  {
   "cell_type": "code",
   "execution_count": 10,
   "id": "affecting-andorra",
   "metadata": {},
   "outputs": [
    {
     "name": "stdout",
     "output_type": "stream",
     "text": [
      "The total number of .npy files is 14651\n",
      "The number of .npy files per band is 4883\n"
     ]
    }
   ],
   "source": [
    "path, dirs, files = next(os.walk(\"../../GOES_Files/npy_files\"))\n",
    "print(\"The total number of .npy files is \" + str(len(files)))\n",
    "print(\"The number of .npy files per band is \" + str(int(len(files)/3)))"
   ]
  },
  {
   "cell_type": "code",
   "execution_count": null,
   "id": "declared-dakota",
   "metadata": {},
   "outputs": [],
   "source": [
    "def delete_files(year, j_day):\n",
    "    "
   ]
  },
  {
   "cell_type": "markdown",
   "id": "tamil-fellowship",
   "metadata": {},
   "source": [
    "delete 2020 228"
   ]
  },
  {
   "cell_type": "code",
   "execution_count": null,
   "id": "sixth-beaver",
   "metadata": {},
   "outputs": [],
   "source": []
  }
 ],
 "metadata": {
  "kernelspec": {
   "display_name": "Python 3",
   "language": "python",
   "name": "python3"
  },
  "language_info": {
   "codemirror_mode": {
    "name": "ipython",
    "version": 3
   },
   "file_extension": ".py",
   "mimetype": "text/x-python",
   "name": "python",
   "nbconvert_exporter": "python",
   "pygments_lexer": "ipython3",
   "version": "3.7.9"
  }
 },
 "nbformat": 4,
 "nbformat_minor": 5
}
