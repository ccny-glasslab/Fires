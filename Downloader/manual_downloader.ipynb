{
 "cells": [
  {
   "cell_type": "code",
   "execution_count": 1,
   "metadata": {},
   "outputs": [
    {
     "name": "stderr",
     "output_type": "stream",
     "text": [
      "/sharedData2/nshakoor/.conda/envs/fires/lib/python3.7/site-packages/pyresample/bilinear/__init__.py:50: UserWarning: XArray and/or zarr not found, XArrayBilinearResampler won't be available.\n",
      "  warnings.warn(\"XArray and/or zarr not found, XArrayBilinearResampler won't be available.\")\n"
     ]
    }
   ],
   "source": [
    "import os\n",
    "import random\n",
    "import xarray as xr\n",
    "import metpy\n",
    "import cartopy.crs as ccrs\n",
    "from pyresample import geometry, grid\n",
    "import numpy as np\n",
    "import matplotlib.pyplot as plt\n",
    "import datetime\n",
    "import s3fs\n",
    "fs = s3fs.S3FileSystem(anon = True)"
   ]
  },
  {
   "cell_type": "markdown",
   "metadata": {},
   "source": [
    "# Get File Links"
   ]
  },
  {
   "cell_type": "code",
   "execution_count": 2,
   "metadata": {},
   "outputs": [],
   "source": [
    "def AWSname(year, jday, utchr, band):\n",
    "    \"\"\"\n",
    "    appends to file for using wget -i with\n",
    "    puts the links for the first file for a given band at a given hour into goescodes.txt\n",
    "    band should be two digits\n",
    "    all inputs are strings\n",
    "    \"\"\"\n",
    "    urls = open(\"test/AWSurls.txt\", \"a\")\n",
    "    time_log = open(\"test/time_log.txt\", \"a\")\n",
    "    prefix = 'https://noaa-goes17.s3.amazonaws.com/'\n",
    "    file_list = fs.ls('s3://noaa-goes17/ABI-L1b-RadC/' + year + '/' + jday + '/' + utchr)\n",
    "    date = datetime.datetime.strptime(year[2:] + jday, '%y%j').date()\n",
    "    date = date.strftime('%m/%d/%Y')\n",
    "    for file in file_list:\n",
    "        if file[56:58] == band:\n",
    "            file = prefix + file[12:]\n",
    "            urls.write('\\n' + file)\n",
    "            time_log.write('\\n' + date + ' UTC ' + utchr + ' band ' + band)\n",
    "            break\n",
    "    urls.close()\n",
    "    time_log.close()\n",
    "    \n",
    "def writeAWSURLs(hr_0, day_0, yr, band, hr_f=None, day_f=None):\n",
    "    \"\"\"\n",
    "    appends to file for using wget -i with\n",
    "    uses a range of hours and days\n",
    "    takes the first file in each hour\n",
    "    all inputs are strings\n",
    "    \"\"\"\n",
    "    if hr_f == None:\n",
    "        hr_f = hr_0\n",
    "    if day_f == None:\n",
    "        day_f = day_0\n",
    "        \n",
    "    hr = int(hr_0)\n",
    "    day = int(day_0)\n",
    "    \n",
    "    while day <= int(day_f):\n",
    "        while hr <= int(hr_f):\n",
    "            AWSname(yr, str(day), str(hr), band)\n",
    "            hr += 1\n",
    "        day += 1\n",
    "        hr = int(hr_0)"
   ]
  },
  {
   "cell_type": "code",
   "execution_count": 3,
   "metadata": {},
   "outputs": [],
   "source": [
    "open(\"test/AWSurls.txt\", \"w\").close()\n",
    "writeAWSURLs('18','321','2018','14','20','323')"
   ]
  },
  {
   "cell_type": "markdown",
   "metadata": {},
   "source": [
    "# Save as .npy"
   ]
  },
  {
   "cell_type": "code",
   "execution_count": 4,
   "metadata": {},
   "outputs": [],
   "source": [
    "pc = ccrs.PlateCarree()\n",
    "pc_extents = [-124.25, -114.25, 32.25, 42.25]\n",
    "pc_params = pc.proj4_params\n",
    "target_extents = [pc_extents[0],\n",
    "                    pc_extents[2],\n",
    "                    pc_extents[1],\n",
    "                    pc_extents[3]]\n",
    "target_rows = 500\n",
    "target_cols = 500\n",
    "shape = [target_rows, target_cols]"
   ]
  },
  {
   "cell_type": "code",
   "execution_count": 5,
   "metadata": {},
   "outputs": [
    {
     "name": "stdout",
     "output_type": "stream",
     "text": [
      ".ipynb_checkpoints\n"
     ]
    }
   ],
   "source": [
    "for file in os.listdir('test/nc_files/'):\n",
    "    try:\n",
    "        data = xr.open_dataset('../../GOES_Files/nc_files/' + file)\n",
    "        dat = data.metpy.parse_cf('Rad')\n",
    "        geos = dat.metpy.cartopy_crs\n",
    "        rad = dat.data\n",
    "        \n",
    "        fk1 = float(data.metpy.parse_cf('planck_fk1'))\n",
    "        fk2 = float(data.metpy.parse_cf('planck_fk2'))\n",
    "        bc1 = float(data.metpy.parse_cf('planck_bc1'))\n",
    "        bc2 = float(data.metpy.parse_cf('planck_bc2'))\n",
    "        bt = (fk2/(xr.ufuncs.log(fk1/rad + 1)) - bc1)/bc2\n",
    "        bt = np.asarray(bt)\n",
    "\n",
    "        goes_params = geos.proj4_params\n",
    "        \n",
    "        source_area = geometry.AreaDefinition.from_cf(data)\n",
    "        target_area = geometry.AreaDefinition.from_extent('CA', pc_params, shape, target_extents)\n",
    "        \n",
    "        result = grid.get_resampled_image(target_area, source_area, bt)\n",
    "        np.save('../../GOES_Files/npy_files/' + file[:-3], result)\n",
    "        data.close()\n",
    "        os.remove('../../GOES_Files/nc_files/' + file)\n",
    "        \n",
    "    except:\n",
    "        print(file)"
   ]
  },
  {
   "cell_type": "code",
   "execution_count": 8,
   "metadata": {},
   "outputs": [
    {
     "ename": "IsADirectoryError",
     "evalue": "[Errno 21] Is a directory: 'test/npy_files/.ipynb_checkpoints'",
     "output_type": "error",
     "traceback": [
      "\u001b[0;31m---------------------------------------------------------------------------\u001b[0m",
      "\u001b[0;31mIsADirectoryError\u001b[0m                         Traceback (most recent call last)",
      "\u001b[0;32m<ipython-input-8-0e3bfd17e558>\u001b[0m in \u001b[0;36m<module>\u001b[0;34m\u001b[0m\n\u001b[1;32m      1\u001b[0m \u001b[0mpath\u001b[0m \u001b[0;34m=\u001b[0m \u001b[0;34m'test/npy_files/'\u001b[0m\u001b[0;34m\u001b[0m\u001b[0;34m\u001b[0m\u001b[0m\n\u001b[1;32m      2\u001b[0m \u001b[0mfile\u001b[0m \u001b[0;34m=\u001b[0m \u001b[0mrandom\u001b[0m\u001b[0;34m.\u001b[0m\u001b[0mchoice\u001b[0m\u001b[0;34m(\u001b[0m\u001b[0mos\u001b[0m\u001b[0;34m.\u001b[0m\u001b[0mlistdir\u001b[0m\u001b[0;34m(\u001b[0m\u001b[0mpath\u001b[0m\u001b[0;34m)\u001b[0m\u001b[0;34m)\u001b[0m\u001b[0;34m\u001b[0m\u001b[0;34m\u001b[0m\u001b[0m\n\u001b[0;32m----> 3\u001b[0;31m \u001b[0mimg_array\u001b[0m \u001b[0;34m=\u001b[0m \u001b[0mnp\u001b[0m\u001b[0;34m.\u001b[0m\u001b[0mload\u001b[0m\u001b[0;34m(\u001b[0m\u001b[0mpath\u001b[0m \u001b[0;34m+\u001b[0m \u001b[0mfile\u001b[0m\u001b[0;34m)\u001b[0m\u001b[0;34m\u001b[0m\u001b[0;34m\u001b[0m\u001b[0m\n\u001b[0m\u001b[1;32m      4\u001b[0m \u001b[0mprint\u001b[0m\u001b[0;34m(\u001b[0m\u001b[0mfile\u001b[0m\u001b[0;34m)\u001b[0m\u001b[0;34m\u001b[0m\u001b[0;34m\u001b[0m\u001b[0m\n\u001b[1;32m      5\u001b[0m \u001b[0mplt\u001b[0m\u001b[0;34m.\u001b[0m\u001b[0mimshow\u001b[0m\u001b[0;34m(\u001b[0m\u001b[0mimg_array\u001b[0m\u001b[0;34m,\u001b[0m \u001b[0maspect\u001b[0m\u001b[0;34m=\u001b[0m\u001b[0;34m'equal'\u001b[0m\u001b[0;34m,\u001b[0m \u001b[0mcmap\u001b[0m\u001b[0;34m=\u001b[0m\u001b[0;34m'Greens'\u001b[0m\u001b[0;34m)\u001b[0m\u001b[0;34m\u001b[0m\u001b[0;34m\u001b[0m\u001b[0m\n",
      "\u001b[0;32m~/.conda/envs/fires/lib/python3.7/site-packages/numpy/lib/npyio.py\u001b[0m in \u001b[0;36mload\u001b[0;34m(file, mmap_mode, allow_pickle, fix_imports, encoding)\u001b[0m\n\u001b[1;32m    414\u001b[0m             \u001b[0mown_fid\u001b[0m \u001b[0;34m=\u001b[0m \u001b[0;32mFalse\u001b[0m\u001b[0;34m\u001b[0m\u001b[0;34m\u001b[0m\u001b[0m\n\u001b[1;32m    415\u001b[0m         \u001b[0;32melse\u001b[0m\u001b[0;34m:\u001b[0m\u001b[0;34m\u001b[0m\u001b[0;34m\u001b[0m\u001b[0m\n\u001b[0;32m--> 416\u001b[0;31m             \u001b[0mfid\u001b[0m \u001b[0;34m=\u001b[0m \u001b[0mstack\u001b[0m\u001b[0;34m.\u001b[0m\u001b[0menter_context\u001b[0m\u001b[0;34m(\u001b[0m\u001b[0mopen\u001b[0m\u001b[0;34m(\u001b[0m\u001b[0mos_fspath\u001b[0m\u001b[0;34m(\u001b[0m\u001b[0mfile\u001b[0m\u001b[0;34m)\u001b[0m\u001b[0;34m,\u001b[0m \u001b[0;34m\"rb\"\u001b[0m\u001b[0;34m)\u001b[0m\u001b[0;34m)\u001b[0m\u001b[0;34m\u001b[0m\u001b[0;34m\u001b[0m\u001b[0m\n\u001b[0m\u001b[1;32m    417\u001b[0m             \u001b[0mown_fid\u001b[0m \u001b[0;34m=\u001b[0m \u001b[0;32mTrue\u001b[0m\u001b[0;34m\u001b[0m\u001b[0;34m\u001b[0m\u001b[0m\n\u001b[1;32m    418\u001b[0m \u001b[0;34m\u001b[0m\u001b[0m\n",
      "\u001b[0;31mIsADirectoryError\u001b[0m: [Errno 21] Is a directory: 'test/npy_files/.ipynb_checkpoints'"
     ]
    }
   ],
   "source": [
    "path = 'test/npy_files/'\n",
    "file = random.choice(os.listdir(path))\n",
    "img_array = np.load(path + file)\n",
    "print(file)\n",
    "plt.imshow(img_array, aspect='equal', cmap='Greens')\n",
    "plt.axis('off')\n",
    "plt.show()"
   ]
  },
  {
   "cell_type": "code",
   "execution_count": null,
   "metadata": {},
   "outputs": [],
   "source": []
  }
 ],
 "metadata": {
  "kernelspec": {
   "display_name": "Python 3",
   "language": "python",
   "name": "python3"
  },
  "language_info": {
   "codemirror_mode": {
    "name": "ipython",
    "version": 3
   },
   "file_extension": ".py",
   "mimetype": "text/x-python",
   "name": "python",
   "nbconvert_exporter": "python",
   "pygments_lexer": "ipython3",
   "version": "3.7.9"
  }
 },
 "nbformat": 4,
 "nbformat_minor": 4
}
