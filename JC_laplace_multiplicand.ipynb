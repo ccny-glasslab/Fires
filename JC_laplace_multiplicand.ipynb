{
 "cells": [
  {
   "cell_type": "code",
   "execution_count": 28,
   "metadata": {},
   "outputs": [],
   "source": [
    "def laplace_multiplicand(fileID):\n",
    "    import skimage\n",
    "    from skimage import io\n",
    "    from skimage.transform import resize\n",
    "    import numpy as np\n",
    "    import pandas as pd\n",
    "    from matplotlib import pyplot as plt\n",
    "    from mpl_toolkits.axes_grid1 import make_axes_locatable\n",
    "    from skimage.filters import laplace\n",
    "    %matplotlib inline\n",
    "    import netCDF4 as NC\n",
    "    ##fileID = NC.Dataset(filename)\n",
    "    \n",
    "    fires = io.imread(fileID);\n",
    "    firstChannel = np.squeeze(fires[:,:,0])\n",
    "    height, width = firstChannel.shape\n",
    "    smallFires = resize(firstChannel, (round(height/2), round(width/2)))*255\n",
    "    blurryFires = resize(smallFires, (height, width))\n",
    "    details = firstChannel - blurryFires\n",
    "    laplace_edges = laplace(blurryFires)\n",
    "    \n",
    "    ##file = open('multiplicand.csv','a')\n",
    "    ##file.write('Filename,Multiplicand,Mean_Absolute_Error, Square_Root')\n",
    "    ##file.close()\n",
    "    \n",
    "    multiplicand = 0\n",
    "    while multiplicand <= 1:\n",
    "        sharped_image = blurryFires+laplace_edges * multiplicand\n",
    "        abs_error = abs(firstChannel-sharped_image)\n",
    "        mean = abs_error.mean()\n",
    "        sqrt = np.sqrt(((details- laplace_edges * multiplicand)**2).mean())\n",
    "        \n",
    "        df2 = pd.DataFrame({'Filename': pd.Series(fileID),\n",
    "                            'Multiplicand': pd.Series(multiplicand),\n",
    "                            'Mean Error': pd.Series(mean),\n",
    "                            'Square Root': pd.Series(sqrt)})\n",
    "        \n",
    "        file = open('multiplicand.csv','a')\n",
    "        file.write('df2')\n",
    "        file.close()\n",
    "        multiplicand = multiplicand + .1\n",
    "        return    \n",
    "    \n",
    "    read = csvread('multiplicand.csv')\n",
    "    posi_file = find(Filename == 'fileID')\n",
    "    mean_values = Mean_Absolute_Error(posi_file)()\n",
    "    mean_min = mean_values.min()\n",
    "    print(mean_min)\n",
    "    \n",
    "    sqrt_values = Square_Root(posi_file)()\n",
    "    sqrt_min = sqrt_values.min()\n",
    "    print(sqrt_min)\n",
    "    \n",
    "    "
   ]
  },
  {
   "cell_type": "code",
   "execution_count": 29,
   "metadata": {},
   "outputs": [],
   "source": [
    "laplace_multiplicand('GOES-17_ABI_RadF_C07_20190906_170034.tif')"
   ]
  },
  {
   "cell_type": "code",
   "execution_count": null,
   "metadata": {},
   "outputs": [],
   "source": []
  }
 ],
 "metadata": {
  "kernelspec": {
   "display_name": "Python [conda env:cuny-summer-2020]",
   "language": "python",
   "name": "conda-env-cuny-summer-2020-py"
  },
  "language_info": {
   "codemirror_mode": {
    "name": "ipython",
    "version": 3
   },
   "file_extension": ".py",
   "mimetype": "text/x-python",
   "name": "python",
   "nbconvert_exporter": "python",
   "pygments_lexer": "ipython3",
   "version": "3.8.5"
  }
 },
 "nbformat": 4,
 "nbformat_minor": 4
}
