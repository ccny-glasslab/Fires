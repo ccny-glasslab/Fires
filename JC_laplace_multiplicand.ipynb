{
 "cells": [
  {
   "cell_type": "code",
   "execution_count": 1,
   "metadata": {},
   "outputs": [],
   "source": [
    "def laplace_multiplicand(filename):\n",
    "    import skimage\n",
    "    from skimage import io\n",
    "    from skimage.transform import resize\n",
    "    import numpy as np\n",
    "    from matplotlib import pyplot as plt\n",
    "    from mpl_toolkits.axes_grid1 import make_axes_locatable\n",
    "    from skimage.filters import laplace\n",
    "    %matplotlib inline\n",
    "    import netCDF4 as NC\n",
    "    fileID = NC.Dataset(filename)\n",
    "    \n",
    "    fires = io.imread('fileID');\n",
    "    firstChannel = np.squeeze(practice[:,:,0])\n",
    "    height, width = firstChannel.shape\n",
    "    smallFires = resize(firstChannel, (round(height/2), round(width/2)))*255\n",
    "    blurryFires = resize(smallFires, (height, width))\n",
    "    laplace_edges = laplace(blurryFires)\n",
    "    \n",
    "    file = open('multiplicand.csv','a')\n",
    "        file.write('File Name, Mean Absolute Error')\n",
    "        file.close()\n",
    "    \n",
    "    multiplicand = 0\n",
    "    while multiplicand <= 1\n",
    "        sharped_image = blurryFires+laplace_edges * multiplicand\n",
    "        abs_error = abs(firstChannel-sharped_image)\n",
    "        sqrt = np.sqrt(((details- laplace_edges)**2).mean())\n",
    "        file = open('multiplicand.csv','a')\n",
    "        file.write('fileID,multiplicand,abs_error.mean()')\n",
    "        file.close()\n",
    "        multiplicand = multiplicand + .1\n",
    "        return    \n",
    "    \n",
    "    ##posi_file = find(File Name('fileID'))\n",
    "    ##posi_min = "
   ]
  },
  {
   "cell_type": "code",
   "execution_count": null,
   "metadata": {},
   "outputs": [],
   "source": []
  }
 ],
 "metadata": {
  "kernelspec": {
   "display_name": "Python [conda env:cuny-summer-2020]",
   "language": "python",
   "name": "conda-env-cuny-summer-2020-py"
  },
  "language_info": {
   "codemirror_mode": {
    "name": "ipython",
    "version": 3
   },
   "file_extension": ".py",
   "mimetype": "text/x-python",
   "name": "python",
   "nbconvert_exporter": "python",
   "pygments_lexer": "ipython3",
   "version": "3.8.5"
  }
 },
 "nbformat": 4,
 "nbformat_minor": 4
}
