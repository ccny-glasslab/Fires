{
 "cells": [
  {
   "cell_type": "markdown",
   "id": "scenic-graduate",
   "metadata": {},
   "source": [
    "Evaluating the error individually and with the difference from sharpening GOES images from bands 7 and 14 using laplace and unsharpmask sharpening."
   ]
  },
  {
   "cell_type": "code",
   "execution_count": 1,
   "id": "ranking-repository",
   "metadata": {},
   "outputs": [],
   "source": [
    "import os\n",
    "import random\n",
    "\n",
    "import numpy as np\n",
    "import pandas as pd\n",
    "\n",
    "from skimage.filters import laplace\n",
    "from skimage.filters import unsharp_mask\n",
    "from skimage.transform import resize\n",
    "from sklearn.metrics import mean_absolute_error\n",
    "from sklearn.metrics import mean_squared_error\n",
    "\n",
    "random.seed(42)"
   ]
  },
  {
   "cell_type": "code",
   "execution_count": 2,
   "id": "encouraging-consortium",
   "metadata": {},
   "outputs": [],
   "source": [
    "def control(path, file):\n",
    "    \"\"\"\n",
    "    Returns a dictionary of errors for the given file without sharpening.\n",
    "    \n",
    "    Parameter path: The path to the given file\n",
    "    Precondition: path is a string\n",
    "    \n",
    "    Parameter file: The file to evaluate the error of\n",
    "    Precondition: file is a string\n",
    "    \"\"\"\n",
    "    img = np.load(path + file)\n",
    "    height, width = img.shape\n",
    "    smallimg = resize(img, (round(height/2), round(width/2)))\n",
    "    control = resize(smallimg, (height, width))\n",
    "    mae = mean_absolute_error(img, control)\n",
    "    rmse = mean_squared_error(img, control, squared=False)\n",
    "    return {'File': file, 'Band': file[19:21], 'Control_MAE': mae, 'Control_RMSE': rmse}\n",
    "\n",
    "def laplace_sharpening(path, file):\n",
    "    \"\"\"\n",
    "    Returns a dictionary of errors for the given file using laplace sharpening.\n",
    "    \n",
    "    Parameter path: The path to the given file\n",
    "    Precondition: path is a string\n",
    "    \n",
    "    Parameter file: The file to perform laplace sharpening on\n",
    "    Precondition: file is a string\n",
    "    \"\"\"\n",
    "    img = np.load(path + file)\n",
    "    height, width = img.shape\n",
    "    smallimg = resize(img, (round(height/2), round(width/2)))\n",
    "    blurryimg = resize(smallimg, (height, width))\n",
    "    laplace_edges = laplace(blurryimg)\n",
    "    sharpimg = blurryimg + laplace_edges\n",
    "    mae = mean_absolute_error(img, sharpimg)\n",
    "    rmse = mean_squared_error(img, sharpimg, squared=False)\n",
    "    return {'File': file, 'Band': file[19:21], 'LP_MAE': mae, 'LP_RMSE': rmse}\n",
    "\n",
    "def unsharpmask_sharpening(path, file):\n",
    "    \"\"\"\n",
    "    Returns a dictionary of errors for the given file using unsharpmask sharpening. To normalize images,\n",
    "    each image is divided by its maximum value, and then multiplied by the same value after sharpening\n",
    "    is completed.\n",
    "    \n",
    "    Parameter path: The path to the given file\n",
    "    Precondition: path is a string\n",
    "    \n",
    "    Parameter file: The file to perform laplace sharpening on\n",
    "    Precondition: file is a str\n",
    "    \"\"\"\n",
    "    img = np.load(path + file)\n",
    "    height, width = img.shape\n",
    "    smallimg = resize(img, (round(height/2), round(width/2)))\n",
    "    blurryimg = resize(smallimg, (height, width))\n",
    "    sharpimg = unsharp_mask(blurryimg/blurryimg.max(), radius=1, amount=1)*blurryimg.max()\n",
    "    mae = mean_absolute_error(img, sharpimg)\n",
    "    rmse = mean_squared_error(img, sharpimg, squared=False)\n",
    "    return {'File': file, 'Band': file[19:21], 'UM_MAE': mae, 'UM_RMSE': rmse}"
   ]
  },
  {
   "cell_type": "code",
   "execution_count": 3,
   "id": "annoying-september",
   "metadata": {},
   "outputs": [],
   "source": [
    "def find_npy_file(path, file, band):\n",
    "    \"\"\"\n",
    "    Returns the string name of another file from the same time for a given GOES band npy file,\n",
    "    or None if there is no such file in the given directory.\n",
    "    \n",
    "    Parameter path: The path where the returned file is located in\n",
    "    Precondition: path is a string to a directory relative to the current one, with .npy files\n",
    "    \n",
    "    Parameter file: A file from the same time the returned file should have\n",
    "    Precondition: file is a string with the name of the original file, and includes the path\n",
    "    \n",
    "    Parameter band: GOES band the returned file should be from\n",
    "    Precondition: band is a string of length 2\n",
    "    \"\"\"\n",
    "    prefix = file[:19] + band + file[21:41]\n",
    "    for x in os.listdir(path):\n",
    "        if x.startswith(prefix):\n",
    "            return x\n",
    "\n",
    "def update_dict(path, file, data):\n",
    "    \"\"\"\n",
    "    Updates the dictionary with sharpening errors of a given file.\n",
    "    \n",
    "    Parameter path: The path to the given file\n",
    "    Precondition: path is a string\n",
    "    \n",
    "    Parameter file: The file to perform laplace sharpening on\n",
    "    Precondition: file is a string\n",
    "    \n",
    "    Parameter data: Dictionary containing sharpening errors\n",
    "    Precondition: data is a dict\n",
    "    \"\"\"\n",
    "    newdata = {}\n",
    "    newdata.update(control(path, file))\n",
    "    newdata.update(laplace_sharpening(path, file))\n",
    "    newdata.update(unsharpmask_sharpening(path, file))\n",
    "    data.update(newdata)"
   ]
  },
  {
   "cell_type": "markdown",
   "id": "taken-november",
   "metadata": {},
   "source": [
    "## Evaluating Error"
   ]
  },
  {
   "cell_type": "code",
   "execution_count": 26,
   "id": "imported-gardening",
   "metadata": {},
   "outputs": [],
   "source": [
    "path = '../../GOES_Files/npy_files/'\n",
    "data = []\n",
    "\n",
    "for i in range (20):\n",
    "    file14 = None\n",
    "    while file14 == None:\n",
    "        file07 = ''\n",
    "        while file07[19:21] != '07':\n",
    "            file07 = random.choice(os.listdir(path))\n",
    "        file14 = find_npy_file(path, file07, '14')\n",
    "    \n",
    "    data07 = {}\n",
    "    update_dict(path, file07, data07)\n",
    "    \n",
    "    data14 = {}\n",
    "    update_dict(path, file14, data14)\n",
    "\n",
    "    datadiff = {}\n",
    "    diffpath = '../../GOES_Files/diff_files/'\n",
    "    diffname = file07[:19] + 'diff' + file07[21:]\n",
    "    np.save(diffpath + diffname, np.load(path + file07) - np.load(path + file14))\n",
    "    update_dict(diffpath, diffname, datadiff)\n",
    "\n",
    "    data.append(data07)\n",
    "    data.append(data14)\n",
    "    data.append(datadiff)\n",
    "    \n",
    "df = pd.DataFrame(data)"
   ]
  },
  {
   "cell_type": "code",
   "execution_count": 27,
   "id": "conceptual-diesel",
   "metadata": {},
   "outputs": [
    {
     "name": "stdout",
     "output_type": "stream",
     "text": [
      "Mean Error\n"
     ]
    },
    {
     "data": {
      "text/html": [
       "<div>\n",
       "<style scoped>\n",
       "    .dataframe tbody tr th:only-of-type {\n",
       "        vertical-align: middle;\n",
       "    }\n",
       "\n",
       "    .dataframe tbody tr th {\n",
       "        vertical-align: top;\n",
       "    }\n",
       "\n",
       "    .dataframe thead th {\n",
       "        text-align: right;\n",
       "    }\n",
       "</style>\n",
       "<table border=\"1\" class=\"dataframe\">\n",
       "  <thead>\n",
       "    <tr style=\"text-align: right;\">\n",
       "      <th></th>\n",
       "      <th>Control_MAE</th>\n",
       "      <th>Control_RMSE</th>\n",
       "      <th>LP_MAE</th>\n",
       "      <th>LP_RMSE</th>\n",
       "      <th>UM_MAE</th>\n",
       "      <th>UM_RMSE</th>\n",
       "    </tr>\n",
       "    <tr>\n",
       "      <th>Band</th>\n",
       "      <th></th>\n",
       "      <th></th>\n",
       "      <th></th>\n",
       "      <th></th>\n",
       "      <th></th>\n",
       "      <th></th>\n",
       "    </tr>\n",
       "  </thead>\n",
       "  <tbody>\n",
       "    <tr>\n",
       "      <th>07</th>\n",
       "      <td>0.694774</td>\n",
       "      <td>1.028727</td>\n",
       "      <td>0.561817</td>\n",
       "      <td>0.850620</td>\n",
       "      <td>0.573752</td>\n",
       "      <td>0.859156</td>\n",
       "    </tr>\n",
       "    <tr>\n",
       "      <th>14</th>\n",
       "      <td>0.846677</td>\n",
       "      <td>1.320872</td>\n",
       "      <td>0.687813</td>\n",
       "      <td>1.100870</td>\n",
       "      <td>0.703626</td>\n",
       "      <td>1.114825</td>\n",
       "    </tr>\n",
       "    <tr>\n",
       "      <th>di</th>\n",
       "      <td>0.549977</td>\n",
       "      <td>0.885623</td>\n",
       "      <td>0.455815</td>\n",
       "      <td>0.749065</td>\n",
       "      <td>0.468358</td>\n",
       "      <td>0.762672</td>\n",
       "    </tr>\n",
       "  </tbody>\n",
       "</table>\n",
       "</div>"
      ],
      "text/plain": [
       "      Control_MAE  Control_RMSE    LP_MAE   LP_RMSE    UM_MAE   UM_RMSE\n",
       "Band                                                                   \n",
       "07       0.694774      1.028727  0.561817  0.850620  0.573752  0.859156\n",
       "14       0.846677      1.320872  0.687813  1.100870  0.703626  1.114825\n",
       "di       0.549977      0.885623  0.455815  0.749065  0.468358  0.762672"
      ]
     },
     "execution_count": 27,
     "metadata": {},
     "output_type": "execute_result"
    }
   ],
   "source": [
    "print(\"Mean Error\")\n",
    "df.groupby(df['Band']).agg({'Control_MAE': 'mean', 'Control_RMSE': 'mean', \n",
    "                            'LP_MAE': 'mean', 'LP_RMSE': 'mean', \n",
    "                            'UM_MAE': 'mean', 'UM_RMSE': 'mean'})"
   ]
  },
  {
   "cell_type": "code",
   "execution_count": 28,
   "id": "genetic-bones",
   "metadata": {},
   "outputs": [
    {
     "name": "stdout",
     "output_type": "stream",
     "text": [
      "Standard Deviation of Error\n"
     ]
    },
    {
     "data": {
      "text/html": [
       "<div>\n",
       "<style scoped>\n",
       "    .dataframe tbody tr th:only-of-type {\n",
       "        vertical-align: middle;\n",
       "    }\n",
       "\n",
       "    .dataframe tbody tr th {\n",
       "        vertical-align: top;\n",
       "    }\n",
       "\n",
       "    .dataframe thead th {\n",
       "        text-align: right;\n",
       "    }\n",
       "</style>\n",
       "<table border=\"1\" class=\"dataframe\">\n",
       "  <thead>\n",
       "    <tr style=\"text-align: right;\">\n",
       "      <th></th>\n",
       "      <th>Control_MAE</th>\n",
       "      <th>Control_RMSE</th>\n",
       "      <th>LP_MAE</th>\n",
       "      <th>LP_RMSE</th>\n",
       "      <th>UM_MAE</th>\n",
       "      <th>UM_RMSE</th>\n",
       "    </tr>\n",
       "    <tr>\n",
       "      <th>Band</th>\n",
       "      <th></th>\n",
       "      <th></th>\n",
       "      <th></th>\n",
       "      <th></th>\n",
       "      <th></th>\n",
       "      <th></th>\n",
       "    </tr>\n",
       "  </thead>\n",
       "  <tbody>\n",
       "    <tr>\n",
       "      <th>07</th>\n",
       "      <td>0.194978</td>\n",
       "      <td>0.321476</td>\n",
       "      <td>0.155565</td>\n",
       "      <td>0.262724</td>\n",
       "      <td>0.156609</td>\n",
       "      <td>0.263128</td>\n",
       "    </tr>\n",
       "    <tr>\n",
       "      <th>14</th>\n",
       "      <td>0.340440</td>\n",
       "      <td>0.553929</td>\n",
       "      <td>0.272891</td>\n",
       "      <td>0.461252</td>\n",
       "      <td>0.278271</td>\n",
       "      <td>0.467186</td>\n",
       "    </tr>\n",
       "    <tr>\n",
       "      <th>di</th>\n",
       "      <td>0.301239</td>\n",
       "      <td>0.489006</td>\n",
       "      <td>0.244338</td>\n",
       "      <td>0.413313</td>\n",
       "      <td>0.251370</td>\n",
       "      <td>0.420657</td>\n",
       "    </tr>\n",
       "  </tbody>\n",
       "</table>\n",
       "</div>"
      ],
      "text/plain": [
       "      Control_MAE  Control_RMSE    LP_MAE   LP_RMSE    UM_MAE   UM_RMSE\n",
       "Band                                                                   \n",
       "07       0.194978      0.321476  0.155565  0.262724  0.156609  0.263128\n",
       "14       0.340440      0.553929  0.272891  0.461252  0.278271  0.467186\n",
       "di       0.301239      0.489006  0.244338  0.413313  0.251370  0.420657"
      ]
     },
     "execution_count": 28,
     "metadata": {},
     "output_type": "execute_result"
    }
   ],
   "source": [
    "print(\"Standard Deviation of Error\")\n",
    "df.groupby(df['Band']).agg({'Control_MAE': 'std', 'Control_RMSE': 'std', \n",
    "                            'LP_MAE': 'std', 'LP_RMSE': 'std', \n",
    "                            'UM_MAE': 'std', 'UM_RMSE': 'std'})"
   ]
  },
  {
   "cell_type": "markdown",
   "id": "common-vector",
   "metadata": {},
   "source": [
    "&nbsp;\n",
    "\n",
    "Differences"
   ]
  },
  {
   "cell_type": "code",
   "execution_count": 29,
   "id": "liable-innocent",
   "metadata": {},
   "outputs": [],
   "source": [
    "cols = ['Control_MAE', 'Control_RMSE', 'LP_MAE', 'LP_RMSE', 'UM_MAE', 'UM_RMSE']\n",
    "diffdf = pd.DataFrame()\n",
    "\n",
    "for name in cols:\n",
    "    for07 = df[df['Band']=='07'][name].tolist()\n",
    "    for07 = np.asarray(for07)\n",
    "\n",
    "    for14 = df[df['Band']=='14'][name].tolist()\n",
    "    for14 = np.asarray(for14)\n",
    "\n",
    "    diff = for07-for14\n",
    "    diff = diff.tolist()\n",
    "    diffdf[name] = diff"
   ]
  },
  {
   "cell_type": "code",
   "execution_count": 30,
   "id": "expected-outside",
   "metadata": {},
   "outputs": [
    {
     "name": "stdout",
     "output_type": "stream",
     "text": [
      "Difference of Mean Error\n"
     ]
    },
    {
     "data": {
      "text/plain": [
       "Control_MAE    -0.151903\n",
       "Control_RMSE   -0.292145\n",
       "LP_MAE         -0.125996\n",
       "LP_RMSE        -0.250250\n",
       "UM_MAE         -0.129874\n",
       "UM_RMSE        -0.255669\n",
       "dtype: float64"
      ]
     },
     "execution_count": 30,
     "metadata": {},
     "output_type": "execute_result"
    }
   ],
   "source": [
    "print(\"Difference of Mean Error\")\n",
    "diffdf.agg({'Control_MAE': 'mean', 'Control_RMSE': 'mean', \n",
    "            'LP_MAE': 'mean', 'LP_RMSE': 'mean', \n",
    "            'UM_MAE': 'mean', 'UM_RMSE': 'mean'})"
   ]
  },
  {
   "cell_type": "code",
   "execution_count": 31,
   "id": "antique-respect",
   "metadata": {},
   "outputs": [
    {
     "name": "stdout",
     "output_type": "stream",
     "text": [
      "Difference of Standard Deviation of Error\n"
     ]
    },
    {
     "data": {
      "text/plain": [
       "Control_MAE     0.182462\n",
       "Control_RMSE    0.299595\n",
       "LP_MAE          0.151081\n",
       "LP_RMSE         0.262794\n",
       "UM_MAE          0.155803\n",
       "UM_RMSE         0.267724\n",
       "dtype: float64"
      ]
     },
     "execution_count": 31,
     "metadata": {},
     "output_type": "execute_result"
    }
   ],
   "source": [
    "print(\"Difference of Standard Deviation of Error\")\n",
    "diffdf.agg({'Control_MAE': 'std', 'Control_RMSE': 'std', \n",
    "            'LP_MAE': 'std', 'LP_RMSE': 'std', \n",
    "            'UM_MAE': 'std', 'UM_RMSE': 'std'})"
   ]
  },
  {
   "cell_type": "code",
   "execution_count": null,
   "id": "prescribed-heating",
   "metadata": {},
   "outputs": [],
   "source": []
  }
 ],
 "metadata": {
  "kernelspec": {
   "display_name": "Python 3",
   "language": "python",
   "name": "python3"
  },
  "language_info": {
   "codemirror_mode": {
    "name": "ipython",
    "version": 3
   },
   "file_extension": ".py",
   "mimetype": "text/x-python",
   "name": "python",
   "nbconvert_exporter": "python",
   "pygments_lexer": "ipython3",
   "version": "3.7.9"
  }
 },
 "nbformat": 4,
 "nbformat_minor": 5
}
