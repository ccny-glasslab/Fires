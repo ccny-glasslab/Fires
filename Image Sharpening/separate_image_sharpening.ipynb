{
 "cells": [
  {
   "cell_type": "markdown",
   "id": "automatic-humanitarian",
   "metadata": {},
   "source": [
    "Evaluating the error individually and with the difference from sharpening GOES images from bands 7 and 14 using laplace and unsharpmask sharpening."
   ]
  },
  {
   "cell_type": "code",
   "execution_count": 6,
   "id": "adapted-nepal",
   "metadata": {},
   "outputs": [],
   "source": [
    "import os\n",
    "import random\n",
    "\n",
    "import numpy as np\n",
    "import pandas as pd\n",
    "\n",
    "from skimage.filters import laplace\n",
    "from skimage.filters import unsharp_mask\n",
    "from skimage.transform import resize\n",
    "from sklearn.metrics import mean_absolute_error\n",
    "from sklearn.metrics import mean_squared_error\n",
    "\n",
    "random.seed(10)"
   ]
  },
  {
   "cell_type": "code",
   "execution_count": 3,
   "id": "social-corrections",
   "metadata": {},
   "outputs": [],
   "source": [
    "def control(path, file):\n",
    "    \"\"\"\n",
    "    Returns a dictionary of errors for the given file without sharpening.\n",
    "    \n",
    "    Parameter path: The path to the given file\n",
    "    Precondition: path is a string\n",
    "    \n",
    "    Parameter file: The file to evaluate the error of\n",
    "    Precondition: file is a string\n",
    "    \"\"\"\n",
    "    img = np.load(path + file)\n",
    "    height, width = img.shape\n",
    "    smallimg = resize(img, (round(height/2), round(width/2)))\n",
    "    control = resize(smallimg, (height, width))\n",
    "    mae = mean_absolute_error(img, control)\n",
    "    rmse = mean_squared_error(img, control, squared=False)\n",
    "    return {'File': file, 'Band': file[19:21], 'Control_MAE': mae, 'Control_RMSE': rmse}\n",
    "\n",
    "def laplace_sharpening(path, file):\n",
    "    \"\"\"\n",
    "    Returns a dictionary of errors for the given file using laplace sharpening.\n",
    "    \n",
    "    Parameter path: The path to the given file\n",
    "    Precondition: path is a string\n",
    "    \n",
    "    Parameter file: The file to perform laplace sharpening on\n",
    "    Precondition: file is a string\n",
    "    \"\"\"\n",
    "    img = np.load(path + file)\n",
    "    height, width = img.shape\n",
    "    smallimg = resize(img, (round(height/2), round(width/2)))\n",
    "    blurryimg = resize(smallimg, (height, width))\n",
    "    laplace_edges = laplace(blurryimg)\n",
    "    sharpimg = blurryimg + laplace_edges\n",
    "    mae = mean_absolute_error(img, sharpimg)\n",
    "    rmse = mean_squared_error(img, sharpimg, squared=False)\n",
    "    return {'File': file, 'Band': file[19:21], 'LP_MAE': mae, 'LP_RMSE': rmse}\n",
    "\n",
    "def unsharpmask_sharpening(path, file):\n",
    "    \"\"\"\n",
    "    Returns a dictionary of errors for the given file using unsharpmask sharpening. To normalize images,\n",
    "    each image is divided by its maximum value, and then multiplied by the same value after sharpening\n",
    "    is completed.\n",
    "    \n",
    "    Parameter path: The path to the given file\n",
    "    Precondition: path is a string\n",
    "    \n",
    "    Parameter file: The file to perform laplace sharpening on\n",
    "    Precondition: file is a str\n",
    "    \"\"\"\n",
    "    img = np.load(path + file)\n",
    "    height, width = img.shape\n",
    "    smallimg = resize(img, (round(height/2), round(width/2)))\n",
    "    blurryimg = resize(smallimg, (height, width))\n",
    "    sharpimg = unsharp_mask(blurryimg/blurryimg.max(), radius=1, amount=1)*blurryimg.max()\n",
    "    mae = mean_absolute_error(img, sharpimg)\n",
    "    rmse = mean_squared_error(img, sharpimg, squared=False)\n",
    "    return {'File': file, 'Band': file[19:21], 'UM_MAE': mae, 'UM_RMSE': rmse}"
   ]
  },
  {
   "cell_type": "code",
   "execution_count": 29,
   "id": "thousand-mathematics",
   "metadata": {},
   "outputs": [],
   "source": [
    "def find_npy_file(path, file, band):\n",
    "    \"\"\"\n",
    "    Returns the string name of another file from the same time for a given GOES band npy file,\n",
    "    or None if there is no such file in the given directory.\n",
    "    \n",
    "    Parameter path: The path where the returned file is located in\n",
    "    Precondition: path is a string to a directory relative to the current one, with .npy files\n",
    "    \n",
    "    Parameter file: A file from the same time the returned file should have\n",
    "    Precondition: file is a string with the name of the original file, and includes the path\n",
    "    \n",
    "    Parameter band: GOES band the returned file should be from\n",
    "    Precondition: band is a string of length 2\n",
    "    \"\"\"\n",
    "    prefix = file[:19] + band + file[21:41]\n",
    "    for x in os.listdir(path):\n",
    "        if x.startswith(prefix):\n",
    "            return x\n",
    "\n",
    "def update_dict(path, file, data):\n",
    "    \"\"\"\n",
    "    Updates the dictionary with sharpening errors of a given file.\n",
    "    \n",
    "    Parameter path: The path to the given file\n",
    "    Precondition: path is a string\n",
    "    \n",
    "    Parameter file: The file to perform laplace sharpening on\n",
    "    Precondition: file is a string\n",
    "    \n",
    "    Parameter data: Dictionary containing sharpening errors\n",
    "    Precondition: data is a dict\n",
    "    \"\"\"\n",
    "    newdata = {}\n",
    "    newdata.update(control(path, file))\n",
    "    newdata.update(laplace_sharpening(path, file))\n",
    "    newdata.update(unsharpmask_sharpening(path, file))\n",
    "    data.update(newdata)"
   ]
  },
  {
   "cell_type": "markdown",
   "id": "dying-laundry",
   "metadata": {},
   "source": [
    "## Evaluating Error"
   ]
  },
  {
   "cell_type": "code",
   "execution_count": 90,
   "id": "ordinary-omaha",
   "metadata": {},
   "outputs": [],
   "source": [
    "path = '../../GOES_Files/npy_files/'\n",
    "data = []\n",
    "\n",
    "for i in range (20):\n",
    "    file07 = ''\n",
    "    while file07[19:21] != '07':\n",
    "        file07 = random.choice(os.listdir(path))\n",
    "    file14 = find_npy_file(path, file07, '14')\n",
    "\n",
    "    data07 = {}\n",
    "    update_dict(path, file07, data07)\n",
    "    \n",
    "    data14 = {}\n",
    "    update_dict(path, file14, data14)\n",
    "\n",
    "    data.append(data07)\n",
    "    data.append(data14)\n",
    "    \n",
    "df = pd.DataFrame(data)"
   ]
  },
  {
   "cell_type": "code",
   "execution_count": 104,
   "id": "linear-success",
   "metadata": {},
   "outputs": [
    {
     "name": "stdout",
     "output_type": "stream",
     "text": [
      "Mean Error\n"
     ]
    },
    {
     "data": {
      "text/html": [
       "<div>\n",
       "<style scoped>\n",
       "    .dataframe tbody tr th:only-of-type {\n",
       "        vertical-align: middle;\n",
       "    }\n",
       "\n",
       "    .dataframe tbody tr th {\n",
       "        vertical-align: top;\n",
       "    }\n",
       "\n",
       "    .dataframe thead th {\n",
       "        text-align: right;\n",
       "    }\n",
       "</style>\n",
       "<table border=\"1\" class=\"dataframe\">\n",
       "  <thead>\n",
       "    <tr style=\"text-align: right;\">\n",
       "      <th></th>\n",
       "      <th>Control_MAE</th>\n",
       "      <th>Control_RMSE</th>\n",
       "      <th>LP_MAE</th>\n",
       "      <th>LP_RMSE</th>\n",
       "      <th>UM_MAE</th>\n",
       "      <th>UM_RMSE</th>\n",
       "    </tr>\n",
       "    <tr>\n",
       "      <th>Band</th>\n",
       "      <th></th>\n",
       "      <th></th>\n",
       "      <th></th>\n",
       "      <th></th>\n",
       "      <th></th>\n",
       "      <th></th>\n",
       "    </tr>\n",
       "  </thead>\n",
       "  <tbody>\n",
       "    <tr>\n",
       "      <th>07</th>\n",
       "      <td>0.667012</td>\n",
       "      <td>0.967031</td>\n",
       "      <td>0.540472</td>\n",
       "      <td>0.798883</td>\n",
       "      <td>0.552541</td>\n",
       "      <td>0.807855</td>\n",
       "    </tr>\n",
       "    <tr>\n",
       "      <th>14</th>\n",
       "      <td>0.757626</td>\n",
       "      <td>1.158540</td>\n",
       "      <td>0.614688</td>\n",
       "      <td>0.958806</td>\n",
       "      <td>0.628296</td>\n",
       "      <td>0.970988</td>\n",
       "    </tr>\n",
       "  </tbody>\n",
       "</table>\n",
       "</div>"
      ],
      "text/plain": [
       "      Control_MAE  Control_RMSE    LP_MAE   LP_RMSE    UM_MAE   UM_RMSE\n",
       "Band                                                                   \n",
       "07       0.667012      0.967031  0.540472  0.798883  0.552541  0.807855\n",
       "14       0.757626      1.158540  0.614688  0.958806  0.628296  0.970988"
      ]
     },
     "execution_count": 104,
     "metadata": {},
     "output_type": "execute_result"
    }
   ],
   "source": [
    "print(\"Mean Error\")\n",
    "df.groupby(df['Band']).agg({'Control_MAE': 'mean', 'Control_RMSE': 'mean', \n",
    "                            'LP_MAE': 'mean', 'LP_RMSE': 'mean', \n",
    "                            'UM_MAE': 'mean', 'UM_RMSE': 'mean'})"
   ]
  },
  {
   "cell_type": "code",
   "execution_count": 103,
   "id": "refined-wheel",
   "metadata": {},
   "outputs": [
    {
     "name": "stdout",
     "output_type": "stream",
     "text": [
      "Standard Deviation of Error\n"
     ]
    },
    {
     "data": {
      "text/html": [
       "<div>\n",
       "<style scoped>\n",
       "    .dataframe tbody tr th:only-of-type {\n",
       "        vertical-align: middle;\n",
       "    }\n",
       "\n",
       "    .dataframe tbody tr th {\n",
       "        vertical-align: top;\n",
       "    }\n",
       "\n",
       "    .dataframe thead th {\n",
       "        text-align: right;\n",
       "    }\n",
       "</style>\n",
       "<table border=\"1\" class=\"dataframe\">\n",
       "  <thead>\n",
       "    <tr style=\"text-align: right;\">\n",
       "      <th></th>\n",
       "      <th>Control_MAE</th>\n",
       "      <th>Control_RMSE</th>\n",
       "      <th>LP_MAE</th>\n",
       "      <th>LP_RMSE</th>\n",
       "      <th>UM_MAE</th>\n",
       "      <th>UM_RMSE</th>\n",
       "    </tr>\n",
       "    <tr>\n",
       "      <th>Band</th>\n",
       "      <th></th>\n",
       "      <th></th>\n",
       "      <th></th>\n",
       "      <th></th>\n",
       "      <th></th>\n",
       "      <th></th>\n",
       "    </tr>\n",
       "  </thead>\n",
       "  <tbody>\n",
       "    <tr>\n",
       "      <th>07</th>\n",
       "      <td>0.14802</td>\n",
       "      <td>0.225049</td>\n",
       "      <td>0.118500</td>\n",
       "      <td>0.185029</td>\n",
       "      <td>0.119201</td>\n",
       "      <td>0.184288</td>\n",
       "    </tr>\n",
       "    <tr>\n",
       "      <th>14</th>\n",
       "      <td>0.19627</td>\n",
       "      <td>0.298229</td>\n",
       "      <td>0.157038</td>\n",
       "      <td>0.245976</td>\n",
       "      <td>0.159503</td>\n",
       "      <td>0.247765</td>\n",
       "    </tr>\n",
       "  </tbody>\n",
       "</table>\n",
       "</div>"
      ],
      "text/plain": [
       "      Control_MAE  Control_RMSE    LP_MAE   LP_RMSE    UM_MAE   UM_RMSE\n",
       "Band                                                                   \n",
       "07        0.14802      0.225049  0.118500  0.185029  0.119201  0.184288\n",
       "14        0.19627      0.298229  0.157038  0.245976  0.159503  0.247765"
      ]
     },
     "execution_count": 103,
     "metadata": {},
     "output_type": "execute_result"
    }
   ],
   "source": [
    "print(\"Standard Deviation of Error\")\n",
    "df.groupby(df['Band']).agg({'Control_MAE': 'std', 'Control_RMSE': 'std', \n",
    "                            'LP_MAE': 'std', 'LP_RMSE': 'std', \n",
    "                            'UM_MAE': 'std', 'UM_RMSE': 'std'})"
   ]
  },
  {
   "cell_type": "code",
   "execution_count": 97,
   "id": "based-condition",
   "metadata": {},
   "outputs": [],
   "source": []
  },
  {
   "cell_type": "code",
   "execution_count": 100,
   "id": "essential-custody",
   "metadata": {},
   "outputs": [
    {
     "name": "stdout",
     "output_type": "stream",
     "text": [
      "Difference Mean Error\n"
     ]
    },
    {
     "data": {
      "text/plain": [
       "Control_MAE    -0.090614\n",
       "Control_RMSE   -0.191508\n",
       "LP_MAE         -0.074216\n",
       "LP_RMSE        -0.159924\n",
       "UM_MAE         -0.075755\n",
       "UM_RMSE        -0.163133\n",
       "dtype: float64"
      ]
     },
     "execution_count": 100,
     "metadata": {},
     "output_type": "execute_result"
    }
   ],
   "source": [
    "print(\"Difference Mean Error\")\n",
    "diffdf.agg({'Control_MAE': 'mean', 'Control_RMSE': 'mean', \n",
    "            'LP_MAE': 'mean', 'LP_RMSE': 'mean', \n",
    "            'UM_MAE': 'mean', 'UM_RMSE': 'mean'})"
   ]
  },
  {
   "cell_type": "code",
   "execution_count": 102,
   "id": "fitting-template",
   "metadata": {},
   "outputs": [
    {
     "name": "stdout",
     "output_type": "stream",
     "text": [
      "Difference Standard Deviation of Error\n"
     ]
    },
    {
     "data": {
      "text/plain": [
       "Control_MAE     0.079142\n",
       "Control_RMSE    0.140882\n",
       "LP_MAE          0.062793\n",
       "LP_RMSE         0.114770\n",
       "UM_MAE          0.064056\n",
       "UM_RMSE         0.115929\n",
       "dtype: float64"
      ]
     },
     "execution_count": 102,
     "metadata": {},
     "output_type": "execute_result"
    }
   ],
   "source": [
    "print(\"Difference Standard Deviation of Error\")\n",
    "diffdf.agg({'Control_MAE': 'std', 'Control_RMSE': 'std', \n",
    "            'LP_MAE': 'std', 'LP_RMSE': 'std', \n",
    "            'UM_MAE': 'std', 'UM_RMSE': 'std'})"
   ]
  },
  {
   "cell_type": "code",
   "execution_count": null,
   "id": "diagnostic-spouse",
   "metadata": {},
   "outputs": [],
   "source": []
  }
 ],
 "metadata": {
  "kernelspec": {
   "display_name": "Python 3",
   "language": "python",
   "name": "python3"
  },
  "language_info": {
   "codemirror_mode": {
    "name": "ipython",
    "version": 3
   },
   "file_extension": ".py",
   "mimetype": "text/x-python",
   "name": "python",
   "nbconvert_exporter": "python",
   "pygments_lexer": "ipython3",
   "version": "3.7.9"
  }
 },
 "nbformat": 4,
 "nbformat_minor": 5
}
