{
 "cells": [
  {
   "cell_type": "code",
   "execution_count": 3,
   "metadata": {},
   "outputs": [],
   "source": [
    "from pathlib import Path\n",
    "import skimage\n",
    "from skimage.transform import resize\n",
    "import numpy as np\n",
    "import pandas as pd\n",
    "from matplotlib import pyplot as plt\n",
    "from skimage.filters import laplace\n",
    "import os\n",
    "import random\n",
    "from sklearn.metrics import mean_absolute_error\n",
    "from sklearn.metrics import mean_squared_error\n",
    "%matplotlib inline"
   ]
  },
  {
   "cell_type": "markdown",
   "metadata": {},
   "source": [
    "## Laplace Factor"
   ]
  },
  {
   "cell_type": "code",
   "execution_count": 7,
   "metadata": {},
   "outputs": [],
   "source": [
    "def laplace_factor(file):\n",
    "    \"\"\"\n",
    "    Returns a pandas dataframe including file name, laplace factor, and mean absolute error and \n",
    "    root-mean-squared error for both the control and the sharpened image.\n",
    "    \n",
    "    The laplace factor is the coefficient the laplace edges are multiplied by before being added to the\n",
    "    original image.\n",
    "    \n",
    "    Parameter file: The name of the file to be sharpened\n",
    "    Precondition: file is a string that includes the path to a .npy file\n",
    "    \"\"\"\n",
    "    fires = np.load(file);\n",
    "    height, width = fires.shape\n",
    "    smallFires = resize(fires, (round(height/2), round(width/2)))\n",
    "    blurryFires = resize(smallFires, (height, width))\n",
    "    laplace_edges = laplace(blurryFires)\n",
    "    \n",
    "    table = []\n",
    "    n = 0\n",
    "    while n <= 1:\n",
    "        sharpened_img = blurryFires + laplace_edges*n\n",
    "        controlmae = mean_absolute_error(fires, blurryFires)\n",
    "        controlrmse = mean_squared_error(fires, blurryFires, squared=False)\n",
    "        mae = mean_absolute_error(fires, sharpened_img)\n",
    "        rmse = mean_squared_error(fires, sharpened_img, squared=False)\n",
    "        table.append({'Filename': file, 'Factor': n, 'Control MAE': controlmae, 'Control RMSE': controlrmse, \n",
    "                      'MAE': mae, 'RMSE': rmse})\n",
    "        n += .1\n",
    "    \n",
    "    return pd.DataFrame(table)"
   ]
  },
  {
   "cell_type": "code",
   "execution_count": 8,
   "metadata": {},
   "outputs": [
    {
     "data": {
      "text/html": [
       "<div>\n",
       "<style scoped>\n",
       "    .dataframe tbody tr th:only-of-type {\n",
       "        vertical-align: middle;\n",
       "    }\n",
       "\n",
       "    .dataframe tbody tr th {\n",
       "        vertical-align: top;\n",
       "    }\n",
       "\n",
       "    .dataframe thead th {\n",
       "        text-align: right;\n",
       "    }\n",
       "</style>\n",
       "<table border=\"1\" class=\"dataframe\">\n",
       "  <thead>\n",
       "    <tr style=\"text-align: right;\">\n",
       "      <th></th>\n",
       "      <th>Filename</th>\n",
       "      <th>Factor</th>\n",
       "      <th>Control MAE</th>\n",
       "      <th>Control RMSE</th>\n",
       "      <th>MAE</th>\n",
       "      <th>RMSE</th>\n",
       "    </tr>\n",
       "  </thead>\n",
       "  <tbody>\n",
       "    <tr>\n",
       "      <th>0</th>\n",
       "      <td>../../GOES_Files/diff_files/OR_ABI-L1b-RadC-M3...</td>\n",
       "      <td>0.0</td>\n",
       "      <td>0.395416</td>\n",
       "      <td>0.623859</td>\n",
       "      <td>0.395416</td>\n",
       "      <td>0.623859</td>\n",
       "    </tr>\n",
       "    <tr>\n",
       "      <th>1</th>\n",
       "      <td>../../GOES_Files/diff_files/OR_ABI-L1b-RadC-M3...</td>\n",
       "      <td>0.1</td>\n",
       "      <td>0.395416</td>\n",
       "      <td>0.623859</td>\n",
       "      <td>0.378340</td>\n",
       "      <td>0.598491</td>\n",
       "    </tr>\n",
       "    <tr>\n",
       "      <th>2</th>\n",
       "      <td>../../GOES_Files/diff_files/OR_ABI-L1b-RadC-M3...</td>\n",
       "      <td>0.2</td>\n",
       "      <td>0.395416</td>\n",
       "      <td>0.623859</td>\n",
       "      <td>0.362958</td>\n",
       "      <td>0.575863</td>\n",
       "    </tr>\n",
       "    <tr>\n",
       "      <th>3</th>\n",
       "      <td>../../GOES_Files/diff_files/OR_ABI-L1b-RadC-M3...</td>\n",
       "      <td>0.3</td>\n",
       "      <td>0.395416</td>\n",
       "      <td>0.623859</td>\n",
       "      <td>0.349571</td>\n",
       "      <td>0.556318</td>\n",
       "    </tr>\n",
       "    <tr>\n",
       "      <th>4</th>\n",
       "      <td>../../GOES_Files/diff_files/OR_ABI-L1b-RadC-M3...</td>\n",
       "      <td>0.4</td>\n",
       "      <td>0.395416</td>\n",
       "      <td>0.623859</td>\n",
       "      <td>0.338410</td>\n",
       "      <td>0.540197</td>\n",
       "    </tr>\n",
       "    <tr>\n",
       "      <th>5</th>\n",
       "      <td>../../GOES_Files/diff_files/OR_ABI-L1b-RadC-M3...</td>\n",
       "      <td>0.5</td>\n",
       "      <td>0.395416</td>\n",
       "      <td>0.623859</td>\n",
       "      <td>0.329653</td>\n",
       "      <td>0.527824</td>\n",
       "    </tr>\n",
       "    <tr>\n",
       "      <th>6</th>\n",
       "      <td>../../GOES_Files/diff_files/OR_ABI-L1b-RadC-M3...</td>\n",
       "      <td>0.6</td>\n",
       "      <td>0.395416</td>\n",
       "      <td>0.623859</td>\n",
       "      <td>0.323612</td>\n",
       "      <td>0.519477</td>\n",
       "    </tr>\n",
       "    <tr>\n",
       "      <th>7</th>\n",
       "      <td>../../GOES_Files/diff_files/OR_ABI-L1b-RadC-M3...</td>\n",
       "      <td>0.7</td>\n",
       "      <td>0.395416</td>\n",
       "      <td>0.623859</td>\n",
       "      <td>0.320459</td>\n",
       "      <td>0.515360</td>\n",
       "    </tr>\n",
       "    <tr>\n",
       "      <th>8</th>\n",
       "      <td>../../GOES_Files/diff_files/OR_ABI-L1b-RadC-M3...</td>\n",
       "      <td>0.8</td>\n",
       "      <td>0.395416</td>\n",
       "      <td>0.623859</td>\n",
       "      <td>0.320324</td>\n",
       "      <td>0.515578</td>\n",
       "    </tr>\n",
       "    <tr>\n",
       "      <th>9</th>\n",
       "      <td>../../GOES_Files/diff_files/OR_ABI-L1b-RadC-M3...</td>\n",
       "      <td>0.9</td>\n",
       "      <td>0.395416</td>\n",
       "      <td>0.623859</td>\n",
       "      <td>0.323214</td>\n",
       "      <td>0.520127</td>\n",
       "    </tr>\n",
       "    <tr>\n",
       "      <th>10</th>\n",
       "      <td>../../GOES_Files/diff_files/OR_ABI-L1b-RadC-M3...</td>\n",
       "      <td>1.0</td>\n",
       "      <td>0.395416</td>\n",
       "      <td>0.623859</td>\n",
       "      <td>0.329071</td>\n",
       "      <td>0.528891</td>\n",
       "    </tr>\n",
       "  </tbody>\n",
       "</table>\n",
       "</div>"
      ],
      "text/plain": [
       "                                             Filename  Factor  Control MAE  \\\n",
       "0   ../../GOES_Files/diff_files/OR_ABI-L1b-RadC-M3...     0.0     0.395416   \n",
       "1   ../../GOES_Files/diff_files/OR_ABI-L1b-RadC-M3...     0.1     0.395416   \n",
       "2   ../../GOES_Files/diff_files/OR_ABI-L1b-RadC-M3...     0.2     0.395416   \n",
       "3   ../../GOES_Files/diff_files/OR_ABI-L1b-RadC-M3...     0.3     0.395416   \n",
       "4   ../../GOES_Files/diff_files/OR_ABI-L1b-RadC-M3...     0.4     0.395416   \n",
       "5   ../../GOES_Files/diff_files/OR_ABI-L1b-RadC-M3...     0.5     0.395416   \n",
       "6   ../../GOES_Files/diff_files/OR_ABI-L1b-RadC-M3...     0.6     0.395416   \n",
       "7   ../../GOES_Files/diff_files/OR_ABI-L1b-RadC-M3...     0.7     0.395416   \n",
       "8   ../../GOES_Files/diff_files/OR_ABI-L1b-RadC-M3...     0.8     0.395416   \n",
       "9   ../../GOES_Files/diff_files/OR_ABI-L1b-RadC-M3...     0.9     0.395416   \n",
       "10  ../../GOES_Files/diff_files/OR_ABI-L1b-RadC-M3...     1.0     0.395416   \n",
       "\n",
       "    Control RMSE       MAE      RMSE  \n",
       "0       0.623859  0.395416  0.623859  \n",
       "1       0.623859  0.378340  0.598491  \n",
       "2       0.623859  0.362958  0.575863  \n",
       "3       0.623859  0.349571  0.556318  \n",
       "4       0.623859  0.338410  0.540197  \n",
       "5       0.623859  0.329653  0.527824  \n",
       "6       0.623859  0.323612  0.519477  \n",
       "7       0.623859  0.320459  0.515360  \n",
       "8       0.623859  0.320324  0.515578  \n",
       "9       0.623859  0.323214  0.520127  \n",
       "10      0.623859  0.329071  0.528891  "
      ]
     },
     "execution_count": 8,
     "metadata": {},
     "output_type": "execute_result"
    }
   ],
   "source": [
    "path = '../../GOES_Files/diff_files/'\n",
    "laplace_factor(path + random.choice(os.listdir(path)))"
   ]
  },
  {
   "cell_type": "markdown",
   "metadata": {},
   "source": [
    "## Performing Laplace Sharpening for Groups of Files"
   ]
  },
  {
   "cell_type": "code",
   "execution_count": 2,
   "metadata": {},
   "outputs": [],
   "source": [
    "def laplace_files(path):\n",
    "    \"\"\"\n",
    "    Returns a pandas dataframe including file name, GOES band, and mean absolute error and \n",
    "    root-mean-squared error for both the control and the sharpened image.\n",
    "    \n",
    "    Prints out the file name if there is an error with the sharpening.\n",
    "    \n",
    "    Parameter path: The path containing the files to be sharpened\n",
    "    Precondition: path is a string to a directory of .npy files\n",
    "    \"\"\"\n",
    "    table = []\n",
    "    for file in os.listdir(path):\n",
    "        if not file.startswith('.'):\n",
    "            try:\n",
    "                img = np.load(path + file)\n",
    "                band = file[19:21]\n",
    "                height, width = img.shape\n",
    "                smallimg = resize(img, (round(height/2), round(width/2)))\n",
    "                blurryimg = resize(smallimg, (height, width))\n",
    "                laplace_edges = laplace(blurryimg)\n",
    "                sharpimg = blurryimg + laplace_edges\n",
    "                controlmae = mean_absolute_error(img, blurryimg)\n",
    "                controlrmse = mean_squared_error(img, blurryimg, squared=False)\n",
    "                mae = mean_absolute_error(img, sharpimg)\n",
    "                rmse = mean_squared_error(img, sharpimg, squared=False)\n",
    "                table.append({'File': file, 'Band': band, 'Control MAE': controlmae, 'Control RMSE': controlrmse, 'MAE': mae, 'RMSE': rmse})\n",
    "            except:\n",
    "                print(file)\n",
    "    return pd.DataFrame(table)"
   ]
  },
  {
   "cell_type": "code",
   "execution_count": 9,
   "metadata": {},
   "outputs": [],
   "source": [
    "# df = laplace_files('../../GOES_Files/diff_files/')\n",
    "# df.groupby(df['Band']).agg({'Control MAE': 'mean', 'Control RMSE': 'mean', 'MAE': 'mean', 'RMSE': 'mean'})"
   ]
  },
  {
   "cell_type": "code",
   "execution_count": 11,
   "metadata": {},
   "outputs": [],
   "source": [
    "def laplace_bt(path):\n",
    "    \"\"\"\n",
    "    Returns a pandas dataframe including file name, and mean absolute error and \n",
    "    root-mean-squared error for both the control and the sharpened difference image.\n",
    "    \n",
    "    Evaluates the error for the difference image of brightness temperatures from GOES bands 7 and 14.\n",
    "    \n",
    "    Prints out the file name if there is an error with the sharpening.\n",
    "    \n",
    "    Parameter path: The path containing the files to be sharpened, with files from GOES bands 7 and 14\n",
    "    Precondition: path is a string to a directory of .npy files\n",
    "    \"\"\"\n",
    "    table = []\n",
    "    for file in os.listdir(path):\n",
    "        if file[19:21] == '07':\n",
    "            try:\n",
    "                file14 = file[:19] + '14' + file[21:41]\n",
    "                for x in os.listdir(path):\n",
    "                    if x.startswith(file14):\n",
    "                        file14 = x\n",
    "                img07 = np.load(path + file)\n",
    "                img14 = np.load(path + file14)\n",
    "                img = img07 - img14\n",
    "            \n",
    "                height, width = img.shape\n",
    "                smallimg = resize(img, (round(height/2), round(width/2)))\n",
    "                blurryimg = resize(smallimg, (height, width))\n",
    "                laplace_edges = laplace(blurryimg)\n",
    "                sharpimg = blurryimg + laplace_edges\n",
    "                controlmae = mean_absolute_error(img, blurryimg)\n",
    "                controlrmse = mean_squared_error(img, blurryimg, squared=False)\n",
    "                mae = mean_absolute_error(img, sharpimg)\n",
    "                rmse = mean_squared_error(img, sharpimg, squared=False)\n",
    "                table.append({'File': file, 'Control MAE': controlmae, 'Control RMSE': controlrmse, 'MAE': mae, 'RMSE': rmse})\n",
    "            except:\n",
    "                print(file)\n",
    "    return pd.DataFrame(table)"
   ]
  },
  {
   "cell_type": "code",
   "execution_count": 12,
   "metadata": {},
   "outputs": [],
   "source": [
    "# df = laplace_bt('../../GOES_Files/npy_files/')\n",
    "# df.agg({'Control MAE': 'mean', 'Control RMSE': 'mean', 'MAE': 'mean', 'RMSE': 'mean'})"
   ]
  },
  {
   "cell_type": "markdown",
   "metadata": {},
   "source": [
    "## Evaluating Error"
   ]
  },
  {
   "cell_type": "code",
   "execution_count": 14,
   "metadata": {},
   "outputs": [
    {
     "name": "stdout",
     "output_type": "stream",
     "text": [
      "{'File': 'OR_ABI-L1b-RadC-M3Cdiff_G17_s20183191742189_e20183191744513_c20183191744536.npy', 'Band': 'di', 'Control MAE': 0.6192566, 'Control RMSE': 0.94325453, 'MAE': 0.51096964, 'RMSE': 0.7902815}\n"
     ]
    }
   ],
   "source": [
    "path = '../../GOES_Files/diff_files/'\n",
    "file = random.choice(os.listdir(path))\n",
    "img = np.load(path + file)\n",
    "band = file[19:21]\n",
    "height, width = img.shape\n",
    "smallimg = resize(img, (round(height/2), round(width/2)))\n",
    "blurryimg = resize(smallimg, (height, width))\n",
    "laplace_edges = laplace(blurryimg)\n",
    "sharpimg = blurryimg + laplace_edges\n",
    "controlmae = mean_absolute_error(img, blurryimg)\n",
    "controlrmse = mean_squared_error(img, blurryimg, squared=False)\n",
    "mae = mean_absolute_error(img, sharpimg)\n",
    "rmse = mean_squared_error(img, sharpimg, squared=False)\n",
    "table = ({'File': file, 'Band': band, 'Control MAE': controlmae, 'Control RMSE': controlrmse, 'MAE': mae, 'RMSE': rmse})\n",
    "print(table)"
   ]
  },
  {
   "cell_type": "code",
   "execution_count": 19,
   "metadata": {},
   "outputs": [
    {
     "name": "stdout",
     "output_type": "stream",
     "text": [
      "-10.288193 0.96559083 -0.00047657237 25.48747\n",
      "-8.533387 0.7666654 -1.9836426e-10 15.836754\n",
      "-18.990406 0.8091389 0.00047657196 13.584675\n"
     ]
    },
    {
     "data": {
      "image/png": "[encoded data removed]",
      "text/plain": [
       "<Figure size 1080x360 with 3 Axes>"
      ]
     },
     "metadata": {
      "needs_background": "light"
     },
     "output_type": "display_data"
    }
   ],
   "source": [
    "HF = img-blurryimg\n",
    "PHF = sharpimg-blurryimg\n",
    "Error = sharpimg-img\n",
    "\n",
    "fig, ax = plt.subplots(1, 3, figsize=(15, 5))\n",
    "\n",
    "x = ax[0].hist(HF.ravel(), bins=np.linspace(-3, 3, 100))\n",
    "ax[0].set_title('HF = HR – LR')\n",
    "print(HF.min(), HF.std(), HF.mean(), HF.max())\n",
    "\n",
    "y = ax[1].hist(PHF.ravel(), bins=np.linspace(-3, 3, 100))\n",
    "ax[1].set_title('PHF = LP – LR')\n",
    "print(PHF.min(), PHF.std(), PHF.mean(), PHF.max())\n",
    "\n",
    "z = ax[2].hist(Error.ravel(), bins=np.linspace(-3, 3, 100))\n",
    "ax[2].set_title('Error = LP – HR')\n",
    "print(Error.min(), Error.std(), Error.mean(), Error.max())\n",
    "\n",
    "plt.setp(ax, xlim=(-3, 3), ylim=(0, 50000))\n",
    "plt.show()"
   ]
  },
  {
   "cell_type": "code",
   "execution_count": 16,
   "metadata": {},
   "outputs": [
    {
     "data": {
      "image/png": "[encoded data removed]",
      "text/plain": [
       "<Figure size 360x360 with 1 Axes>"
      ]
     },
     "metadata": {
      "needs_background": "light"
     },
     "output_type": "display_data"
    }
   ],
   "source": [
    "fig, ax = plt.subplots(1, figsize=(5, 5))\n",
    "\n",
    "maxmax = max([PHF.max(), HF.max()])\n",
    "\n",
    "ax.scatter(HF.ravel(), PHF.ravel())\n",
    "ax.plot([0, maxmax], [0, maxmax], \"r\")\n",
    "ax.set_title('PHF vs HF')\n",
    "plt.show()"
   ]
  },
  {
   "cell_type": "code",
   "execution_count": 17,
   "metadata": {},
   "outputs": [
    {
     "data": {
      "image/png": "[encoded data removed]",
      "text/plain": [
       "<Figure size 360x360 with 1 Axes>"
      ]
     },
     "metadata": {
      "needs_background": "light"
     },
     "output_type": "display_data"
    }
   ],
   "source": [
    "fig, ax = plt.subplots(1, figsize=(5, 5))\n",
    "\n",
    "flatHF = HF.ravel()\n",
    "flatPHF = PHF.ravel()\n",
    "\n",
    "filteredHF = flatHF[np.logical_and(flatHF<=1, flatHF>= -1)]\n",
    "filteredPHF = flatPHF[np.logical_and(flatHF<=1, flatHF>= -1)]\n",
    "\n",
    "maxmax = max([filteredPHF.max(), filteredHF.max()])\n",
    "\n",
    "ax.scatter(filteredHF, filteredPHF, alpha=0.002)\n",
    "ax.plot([0, maxmax], [0, maxmax], \"r\")\n",
    "ax.set_title('PHF vs HF')\n",
    "plt.show()"
   ]
  },
  {
   "cell_type": "code",
   "execution_count": null,
   "metadata": {},
   "outputs": [],
   "source": []
  }
 ],
 "metadata": {
  "kernelspec": {
   "display_name": "Python 3",
   "language": "python",
   "name": "python3"
  },
  "language_info": {
   "codemirror_mode": {
    "name": "ipython",
    "version": 3
   },
   "file_extension": ".py",
   "mimetype": "text/x-python",
   "name": "python",
   "nbconvert_exporter": "python",
   "pygments_lexer": "ipython3",
   "version": "3.7.9"
  }
 },
 "nbformat": 4,
 "nbformat_minor": 4
}
